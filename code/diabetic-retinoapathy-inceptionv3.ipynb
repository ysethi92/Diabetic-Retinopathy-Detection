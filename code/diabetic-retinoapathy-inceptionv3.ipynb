{
 "cells": [
  {
   "cell_type": "code",
   "execution_count": 1,
   "id": "72cb7579",
   "metadata": {
    "_cell_guid": "b1fbc16d-ff94-49b4-9c03-7891e32c976b",
    "_uuid": "b3ecdf97-dbd6-42b2-8ebd-aa7ba17cd2d2",
    "collapsed": false,
    "execution": {
     "iopub.execute_input": "2022-06-01T03:30:14.449296Z",
     "iopub.status.busy": "2022-06-01T03:30:14.448973Z",
     "iopub.status.idle": "2022-06-01T03:30:20.863192Z",
     "shell.execute_reply": "2022-06-01T03:30:20.862436Z"
    },
    "jupyter": {
     "outputs_hidden": false
    },
    "papermill": {
     "duration": 6.437931,
     "end_time": "2022-06-01T03:30:20.865560",
     "exception": false,
     "start_time": "2022-06-01T03:30:14.427629",
     "status": "completed"
    },
    "tags": []
   },
   "outputs": [],
   "source": [
    "import os\n",
    "import time\n",
    "import shutil\n",
    "import tensorflow as tf\n",
    "import numpy as np\n",
    "import pandas as pd\n",
    "import cv2\n",
    "import keras\n",
    "import gc\n",
    "from PIL import Image\n",
    "%matplotlib inline\n",
    "from tensorflow.keras.models import Sequential, Model, load_model\n",
    "from tensorflow.keras.applications import ResNet50, ResNet50V2, InceptionResNetV2, InceptionV3\n",
    "from keras.layers import Dense, Activation, Dropout\n",
    "import keras.backend as K\n",
    "from tensorflow.keras.optimizers import Adam, RMSprop, SGD\n",
    "from keras.preprocessing.image import ImageDataGenerator\n",
    "from keras.layers import BatchNormalization\n",
    "from keras.layers import Conv2D, MaxPool2D, AvgPool2D, Flatten, GlobalAveragePooling2D, AveragePooling2D\n",
    "from keras.callbacks import ReduceLROnPlateau, EarlyStopping\n",
    "from sklearn.metrics import accuracy_score, f1_score, precision_score, recall_score, confusion_matrix, classification_report, cohen_kappa_score"
   ]
  },
  {
   "cell_type": "code",
   "execution_count": 2,
   "id": "15e4e8c4",
   "metadata": {
    "_cell_guid": "8aa3df30-0e75-431e-9b3b-f7e77749fa18",
    "_uuid": "a491f57c-796d-49b3-9527-4d788d592a74",
    "collapsed": false,
    "execution": {
     "iopub.execute_input": "2022-06-01T03:30:20.904762Z",
     "iopub.status.busy": "2022-06-01T03:30:20.904561Z",
     "iopub.status.idle": "2022-06-01T03:30:20.908103Z",
     "shell.execute_reply": "2022-06-01T03:30:20.907441Z"
    },
    "jupyter": {
     "outputs_hidden": false
    },
    "papermill": {
     "duration": 0.025119,
     "end_time": "2022-06-01T03:30:20.909797",
     "exception": false,
     "start_time": "2022-06-01T03:30:20.884678",
     "status": "completed"
    },
    "tags": []
   },
   "outputs": [],
   "source": [
    "tf.random.set_seed(42)"
   ]
  },
  {
   "cell_type": "code",
   "execution_count": 3,
   "id": "fee143b2",
   "metadata": {
    "_cell_guid": "f05412f2-f403-4b49-a7f3-92cb9efd6920",
    "_uuid": "9bf6218d-75c2-48eb-a2a8-14a2108b53ce",
    "collapsed": false,
    "execution": {
     "iopub.execute_input": "2022-06-01T03:30:20.947827Z",
     "iopub.status.busy": "2022-06-01T03:30:20.947631Z",
     "iopub.status.idle": "2022-06-01T03:30:20.958444Z",
     "shell.execute_reply": "2022-06-01T03:30:20.957831Z"
    },
    "jupyter": {
     "outputs_hidden": false
    },
    "papermill": {
     "duration": 0.031684,
     "end_time": "2022-06-01T03:30:20.960047",
     "exception": false,
     "start_time": "2022-06-01T03:30:20.928363",
     "status": "completed"
    },
    "tags": []
   },
   "outputs": [],
   "source": [
    "img_size = (768, 768)\n",
    "# optimizer = SGD(learning_rate=5e-5, momentum=0.9)\n",
    "optimizer = Adam(learning_rate=1e-4)\n",
    "foldId = 0"
   ]
  },
  {
   "cell_type": "code",
   "execution_count": 4,
   "id": "2d88bd5a",
   "metadata": {
    "_cell_guid": "760127a8-0706-4094-a003-d5287f68b2fc",
    "_uuid": "088aecf4-d5a1-4306-8f73-fb9d4bafa978",
    "collapsed": false,
    "execution": {
     "iopub.execute_input": "2022-06-01T03:30:20.998525Z",
     "iopub.status.busy": "2022-06-01T03:30:20.998346Z",
     "iopub.status.idle": "2022-06-01T03:32:13.227401Z",
     "shell.execute_reply": "2022-06-01T03:32:13.226651Z"
    },
    "jupyter": {
     "outputs_hidden": false
    },
    "papermill": {
     "duration": 112.272186,
     "end_time": "2022-06-01T03:32:13.251357",
     "exception": false,
     "start_time": "2022-06-01T03:30:20.979171",
     "status": "completed"
    },
    "tags": []
   },
   "outputs": [
    {
     "name": "stdout",
     "output_type": "stream",
     "text": [
      "Found 54710 validated image filenames belonging to 5 classes.\n"
     ]
    }
   ],
   "source": [
    "train_datagen = ImageDataGenerator(rotation_range=90,\n",
    "                            brightness_range=[0.7, 1.3],\n",
    "                            zoom_range=[0.5,1.0],\n",
    "                            horizontal_flip=True,\n",
    "                            vertical_flip=True)\n",
    "train_df = pd.read_csv(\"../input/diabetic-retinopathy-preprocessed-data/trainLabelsWithGeneratedImages.csv\")\n",
    "\n",
    "indexes = []\n",
    "for i in range(len(train_df['image'])):\n",
    "    if train_df['kfold'][i] == foldId:\n",
    "        indexes.append(i)\n",
    "train_df.drop(indexes, axis=0, inplace=True)\n",
    "\n",
    "train_df['image'] = [str(x)+'.jpeg' for x in train_df['image']]\n",
    "train_df['level'] = [str(x) for x in train_df['level']]\n",
    "train_generator = train_datagen.flow_from_dataframe(\n",
    "    dataframe=train_df,\n",
    "    directory=\"../input/diabetic-retinopathy-preprocessed-data/train/train\",\n",
    "    x_col=\"image\",\n",
    "    y_col='level',\n",
    "    subset=\"training\",\n",
    "    batch_size=16,\n",
    "    seed=42,\n",
    "    shuffle=True,\n",
    "    class_mode=\"categorical\",\n",
    "    target_size=img_size)"
   ]
  },
  {
   "cell_type": "code",
   "execution_count": 5,
   "id": "340770bc",
   "metadata": {
    "_cell_guid": "df32574e-2ea5-4ae1-aca7-f404c27057f0",
    "_uuid": "76767b1e-93b6-4a04-9578-e668c3c2b623",
    "collapsed": false,
    "execution": {
     "iopub.execute_input": "2022-06-01T03:32:13.290809Z",
     "iopub.status.busy": "2022-06-01T03:32:13.290611Z",
     "iopub.status.idle": "2022-06-01T03:33:00.727732Z",
     "shell.execute_reply": "2022-06-01T03:33:00.727039Z"
    },
    "jupyter": {
     "outputs_hidden": false
    },
    "papermill": {
     "duration": 47.481623,
     "end_time": "2022-06-01T03:33:00.751963",
     "exception": false,
     "start_time": "2022-06-01T03:32:13.270340",
     "status": "completed"
    },
    "tags": []
   },
   "outputs": [
    {
     "name": "stdout",
     "output_type": "stream",
     "text": [
      "Found 18237 validated image filenames belonging to 5 classes.\n"
     ]
    }
   ],
   "source": [
    "val_datagen = ImageDataGenerator()\n",
    "val_df = pd.read_csv(\"../input/diabetic-retinopathy-preprocessed-data/trainLabelsWithGeneratedImages.csv\")\n",
    "indexes = []\n",
    "for i in range(len(val_df['image'])):\n",
    "    if val_df['kfold'][i] != foldId:\n",
    "        indexes.append(i)\n",
    "val_df.drop(indexes, axis=0, inplace=True)\n",
    "\n",
    "val_df['image'] = [str(x)+'.jpeg' for x in val_df['image']]\n",
    "val_df['level'] = [str(x) for x in val_df['level']]\n",
    "val_generator = val_datagen.flow_from_dataframe(\n",
    "    dataframe=val_df,\n",
    "    directory=\"../input/diabetic-retinopathy-preprocessed-data/train/train\",\n",
    "    x_col=\"image\",\n",
    "    y_col='level',\n",
    "    batch_size=16,\n",
    "    seed=42,\n",
    "    shuffle=True,\n",
    "    class_mode=\"categorical\",\n",
    "    target_size=img_size)"
   ]
  },
  {
   "cell_type": "code",
   "execution_count": 6,
   "id": "5740416c",
   "metadata": {
    "_cell_guid": "dfc1b6a4-17dd-4f87-bdf5-e7304ba99218",
    "_uuid": "e3b3275d-0ae3-4e47-b1e1-88beef981f65",
    "collapsed": false,
    "execution": {
     "iopub.execute_input": "2022-06-01T03:33:00.816683Z",
     "iopub.status.busy": "2022-06-01T03:33:00.816351Z",
     "iopub.status.idle": "2022-06-01T03:35:07.564689Z",
     "shell.execute_reply": "2022-06-01T03:35:07.561640Z"
    },
    "jupyter": {
     "outputs_hidden": false
    },
    "papermill": {
     "duration": 126.801561,
     "end_time": "2022-06-01T03:35:07.585919",
     "exception": false,
     "start_time": "2022-06-01T03:33:00.784358",
     "status": "completed"
    },
    "tags": []
   },
   "outputs": [
    {
     "name": "stdout",
     "output_type": "stream",
     "text": [
      "Found 53574 validated image filenames belonging to 5 classes.\n"
     ]
    },
    {
     "name": "stderr",
     "output_type": "stream",
     "text": [
      "/opt/conda/lib/python3.7/site-packages/keras_preprocessing/image/dataframe_iterator.py:282: UserWarning: Found 2 invalid image filename(s) in x_col=\"image\". These filename(s) will be ignored.\n",
      "  .format(n_invalid, x_col)\n"
     ]
    }
   ],
   "source": [
    "test_datagen = ImageDataGenerator()\n",
    "test_df = pd.read_csv(\"../input/diabetic-retinopathy-preprocessed-data/Data/Data/test_labels.csv\")\n",
    "test_df['image'] = [str(x)+'.jpeg' for x in test_df['image']]\n",
    "test_df['level'] = [str(x) for x in test_df['level']]\n",
    "test_generator = test_datagen.flow_from_dataframe(\n",
    "    dataframe=test_df,\n",
    "    directory=\"../input/diabetic-retinopathy-preprocessed-data/Data/Data/test\",\n",
    "    x_col=\"image\",\n",
    "    y_col='level',\n",
    "    batch_size=1,\n",
    "    seed=42,\n",
    "    shuffle=False,\n",
    "    class_mode=\"categorical\",\n",
    "    target_size=img_size)"
   ]
  },
  {
   "cell_type": "code",
   "execution_count": 7,
   "id": "d0b6fb88",
   "metadata": {
    "_cell_guid": "06bda8ae-e267-40bf-9593-7070ea5d1e6f",
    "_uuid": "3781c75b-cd3d-4cf2-b3a8-f2f0728d3014",
    "collapsed": false,
    "execution": {
     "iopub.execute_input": "2022-06-01T03:35:07.627398Z",
     "iopub.status.busy": "2022-06-01T03:35:07.627187Z",
     "iopub.status.idle": "2022-06-01T03:35:13.623462Z",
     "shell.execute_reply": "2022-06-01T03:35:13.621880Z"
    },
    "jupyter": {
     "outputs_hidden": false
    },
    "papermill": {
     "duration": 6.019889,
     "end_time": "2022-06-01T03:35:13.626104",
     "exception": false,
     "start_time": "2022-06-01T03:35:07.606215",
     "status": "completed"
    },
    "tags": []
   },
   "outputs": [
    {
     "name": "stderr",
     "output_type": "stream",
     "text": [
      "2022-06-01 03:35:07.751066: I tensorflow/stream_executor/cuda/cuda_gpu_executor.cc:937] successful NUMA node read from SysFS had negative value (-1), but there must be at least one NUMA node, so returning NUMA node zero\n",
      "2022-06-01 03:35:07.888633: I tensorflow/stream_executor/cuda/cuda_gpu_executor.cc:937] successful NUMA node read from SysFS had negative value (-1), but there must be at least one NUMA node, so returning NUMA node zero\n",
      "2022-06-01 03:35:07.889380: I tensorflow/stream_executor/cuda/cuda_gpu_executor.cc:937] successful NUMA node read from SysFS had negative value (-1), but there must be at least one NUMA node, so returning NUMA node zero\n",
      "2022-06-01 03:35:07.891307: I tensorflow/core/platform/cpu_feature_guard.cc:142] This TensorFlow binary is optimized with oneAPI Deep Neural Network Library (oneDNN) to use the following CPU instructions in performance-critical operations:  AVX2 AVX512F FMA\n",
      "To enable them in other operations, rebuild TensorFlow with the appropriate compiler flags.\n",
      "2022-06-01 03:35:07.891588: I tensorflow/stream_executor/cuda/cuda_gpu_executor.cc:937] successful NUMA node read from SysFS had negative value (-1), but there must be at least one NUMA node, so returning NUMA node zero\n",
      "2022-06-01 03:35:07.892383: I tensorflow/stream_executor/cuda/cuda_gpu_executor.cc:937] successful NUMA node read from SysFS had negative value (-1), but there must be at least one NUMA node, so returning NUMA node zero\n",
      "2022-06-01 03:35:07.893027: I tensorflow/stream_executor/cuda/cuda_gpu_executor.cc:937] successful NUMA node read from SysFS had negative value (-1), but there must be at least one NUMA node, so returning NUMA node zero\n",
      "2022-06-01 03:35:10.192911: I tensorflow/stream_executor/cuda/cuda_gpu_executor.cc:937] successful NUMA node read from SysFS had negative value (-1), but there must be at least one NUMA node, so returning NUMA node zero\n",
      "2022-06-01 03:35:10.193818: I tensorflow/stream_executor/cuda/cuda_gpu_executor.cc:937] successful NUMA node read from SysFS had negative value (-1), but there must be at least one NUMA node, so returning NUMA node zero\n",
      "2022-06-01 03:35:10.194516: I tensorflow/stream_executor/cuda/cuda_gpu_executor.cc:937] successful NUMA node read from SysFS had negative value (-1), but there must be at least one NUMA node, so returning NUMA node zero\n",
      "2022-06-01 03:35:10.195836: I tensorflow/core/common_runtime/gpu/gpu_device.cc:1510] Created device /job:localhost/replica:0/task:0/device:GPU:0 with 15403 MB memory:  -> device: 0, name: Tesla P100-PCIE-16GB, pci bus id: 0000:00:04.0, compute capability: 6.0\n"
     ]
    },
    {
     "name": "stdout",
     "output_type": "stream",
     "text": [
      "Downloading data from https://storage.googleapis.com/tensorflow/keras-applications/inception_v3/inception_v3_weights_tf_dim_ordering_tf_kernels_notop.h5\n",
      "87916544/87910968 [==============================] - 0s 0us/step\n",
      "87924736/87910968 [==============================] - 0s 0us/step\n",
      "Model: \"sequential\"\n",
      "_________________________________________________________________\n",
      "Layer (type)                 Output Shape              Param #   \n",
      "=================================================================\n",
      "model (Functional)           (None, 991232)            21802784  \n",
      "_________________________________________________________________\n",
      "dropout (Dropout)            (None, 991232)            0         \n",
      "_________________________________________________________________\n",
      "dense (Dense)                (None, 5)                 4956165   \n",
      "=================================================================\n",
      "Total params: 26,758,949\n",
      "Trainable params: 26,724,517\n",
      "Non-trainable params: 34,432\n",
      "_________________________________________________________________\n"
     ]
    }
   ],
   "source": [
    "inception = InceptionV3(include_top=False, weights='imagenet', input_shape=(img_size[0], img_size[1], 3))\n",
    "output = inception.layers[-1].output\n",
    "output = keras.layers.Flatten()(output)\n",
    "inception = Model(inception.input, output)\n",
    "\n",
    "model = Sequential()\n",
    "model.add(inception)\n",
    "model.add(Dropout(0.3))\n",
    "model.add(Dense(5, activation='softmax'))\n",
    "\n",
    "model.compile(optimizer, \n",
    "            loss='categorical_crossentropy',\n",
    "            metrics=['accuracy'])\n",
    "\n",
    "checkpoint_filepath = \"./inceptionV3_best_model.h5\"\n",
    "model_checkpoint_callback = tf.keras.callbacks.ModelCheckpoint( filepath=checkpoint_filepath,\n",
    "                          save_weights_only=False,\n",
    "                          monitor='val_loss',\n",
    "                          mode='auto',\n",
    "                          save_best_only=True)\n",
    "\n",
    "early_stopping = EarlyStopping(\n",
    "                monitor=\"val_loss\",\n",
    "                patience=3,\n",
    "                verbose=1,\n",
    "                mode=\"auto\",\n",
    ")\n",
    "\n",
    "model.summary()"
   ]
  },
  {
   "cell_type": "code",
   "execution_count": 8,
   "id": "7454617c",
   "metadata": {
    "_cell_guid": "14cb39c2-d7d4-4c1a-8697-71dbd4b698cc",
    "_uuid": "6665d666-3b28-47b2-a8b4-b9585f1da7a2",
    "collapsed": false,
    "execution": {
     "iopub.execute_input": "2022-06-01T03:35:13.680292Z",
     "iopub.status.busy": "2022-06-01T03:35:13.680078Z",
     "iopub.status.idle": "2022-06-01T03:35:13.684034Z",
     "shell.execute_reply": "2022-06-01T03:35:13.683295Z"
    },
    "jupyter": {
     "outputs_hidden": false
    },
    "papermill": {
     "duration": 0.034163,
     "end_time": "2022-06-01T03:35:13.686460",
     "exception": false,
     "start_time": "2022-06-01T03:35:13.652297",
     "status": "completed"
    },
    "tags": []
   },
   "outputs": [],
   "source": [
    "STEP_SIZE_TRAIN=train_generator.n//train_generator.batch_size\n",
    "STEP_SIZE_VALID=val_generator.n//val_generator.batch_size\n",
    "STEP_SIZE_TEST=test_generator.n//test_generator.batch_size"
   ]
  },
  {
   "cell_type": "code",
   "execution_count": 9,
   "id": "f2e17fab",
   "metadata": {
    "_cell_guid": "2a7b825c-cb44-4058-961e-dee01aca49f8",
    "_uuid": "cdf44302-f9db-4ad8-bd47-5284219e7b44",
    "collapsed": false,
    "execution": {
     "iopub.execute_input": "2022-06-01T03:35:13.782101Z",
     "iopub.status.busy": "2022-06-01T03:35:13.781860Z",
     "iopub.status.idle": "2022-06-01T03:35:20.907282Z",
     "shell.execute_reply": "2022-06-01T03:35:20.906510Z"
    },
    "jupyter": {
     "outputs_hidden": false
    },
    "papermill": {
     "duration": 7.176391,
     "end_time": "2022-06-01T03:35:20.909578",
     "exception": false,
     "start_time": "2022-06-01T03:35:13.733187",
     "status": "completed"
    },
    "tags": []
   },
   "outputs": [],
   "source": [
    "model = load_model(\"../input/dr-inceptionv3-best-model/inceptionV3_best_model.h5\")"
   ]
  },
  {
   "cell_type": "code",
   "execution_count": 10,
   "id": "ee154ef8",
   "metadata": {
    "_cell_guid": "158c0b39-f91f-4abe-8017-870195791b00",
    "_uuid": "a3c7840a-193b-4dde-bfc2-c79e50f85879",
    "collapsed": false,
    "execution": {
     "iopub.execute_input": "2022-06-01T03:35:20.960488Z",
     "iopub.status.busy": "2022-06-01T03:35:20.960279Z",
     "iopub.status.idle": "2022-06-01T03:35:20.964345Z",
     "shell.execute_reply": "2022-06-01T03:35:20.963691Z"
    },
    "jupyter": {
     "outputs_hidden": false
    },
    "papermill": {
     "duration": 0.031409,
     "end_time": "2022-06-01T03:35:20.965982",
     "exception": false,
     "start_time": "2022-06-01T03:35:20.934573",
     "status": "completed"
    },
    "tags": []
   },
   "outputs": [],
   "source": [
    "# model.fit_generator(generator=train_generator,\n",
    "#                    steps_per_epoch=STEP_SIZE_TRAIN,\n",
    "#                    validation_data=val_generator,\n",
    "#                    validation_steps=STEP_SIZE_VALID,\n",
    "#                    epochs=25,\n",
    "#                    callbacks=[model_checkpoint_callback, early_stopping])"
   ]
  },
  {
   "cell_type": "code",
   "execution_count": 11,
   "id": "6be8a8b9",
   "metadata": {
    "_cell_guid": "2f403c1a-2f35-4654-9d74-1ea43e950299",
    "_uuid": "487ba9ad-3f84-4f4c-bcdf-23c6b173c083",
    "collapsed": false,
    "execution": {
     "iopub.execute_input": "2022-06-01T03:35:21.016921Z",
     "iopub.status.busy": "2022-06-01T03:35:21.016256Z",
     "iopub.status.idle": "2022-06-01T03:35:21.019939Z",
     "shell.execute_reply": "2022-06-01T03:35:21.019245Z"
    },
    "jupyter": {
     "outputs_hidden": false
    },
    "papermill": {
     "duration": 0.031035,
     "end_time": "2022-06-01T03:35:21.021673",
     "exception": false,
     "start_time": "2022-06-01T03:35:20.990638",
     "status": "completed"
    },
    "tags": []
   },
   "outputs": [],
   "source": [
    "# model = load_model(\"./inceptionV3_best_model.h5\")"
   ]
  },
  {
   "cell_type": "code",
   "execution_count": 12,
   "id": "33f4dd8c",
   "metadata": {
    "_cell_guid": "8c48d670-009a-44cc-8701-c44fe5208ac0",
    "_uuid": "802f84f7-5f28-454b-9219-9e480f135cb0",
    "collapsed": false,
    "execution": {
     "iopub.execute_input": "2022-06-01T03:35:21.071182Z",
     "iopub.status.busy": "2022-06-01T03:35:21.070967Z",
     "iopub.status.idle": "2022-06-01T04:00:41.900592Z",
     "shell.execute_reply": "2022-06-01T04:00:41.899691Z"
    },
    "jupyter": {
     "outputs_hidden": false
    },
    "papermill": {
     "duration": 1520.857163,
     "end_time": "2022-06-01T04:00:41.903050",
     "exception": false,
     "start_time": "2022-06-01T03:35:21.045887",
     "status": "completed"
    },
    "tags": []
   },
   "outputs": [
    {
     "name": "stderr",
     "output_type": "stream",
     "text": [
      "/opt/conda/lib/python3.7/site-packages/keras/engine/training.py:2035: UserWarning: `Model.predict_generator` is deprecated and will be removed in a future version. Please use `Model.predict`, which supports generators.\n",
      "  warnings.warn('`Model.predict_generator` is deprecated and '\n",
      "2022-06-01 03:35:21.180606: I tensorflow/compiler/mlir/mlir_graph_optimization_pass.cc:185] None of the MLIR Optimization Passes are enabled (registered 2)\n",
      "2022-06-01 03:35:23.150379: I tensorflow/stream_executor/cuda/cuda_dnn.cc:369] Loaded cuDNN version 8005\n"
     ]
    },
    {
     "name": "stdout",
     "output_type": "stream",
     "text": [
      "53574/53574 [==============================] - 1521s 28ms/step\n"
     ]
    }
   ],
   "source": [
    "test_generator.reset()\n",
    "pred=model.predict_generator(test_generator,\n",
    "                            steps=STEP_SIZE_TEST,\n",
    "                            verbose=1)"
   ]
  },
  {
   "cell_type": "code",
   "execution_count": 13,
   "id": "48700677",
   "metadata": {
    "_cell_guid": "1d268f0d-9cc6-4147-a776-fc9aa524b4eb",
    "_uuid": "67a312bf-7106-47e7-afc3-b9d91ad39209",
    "collapsed": false,
    "execution": {
     "iopub.execute_input": "2022-06-01T04:00:58.088500Z",
     "iopub.status.busy": "2022-06-01T04:00:58.088118Z",
     "iopub.status.idle": "2022-06-01T04:00:58.465205Z",
     "shell.execute_reply": "2022-06-01T04:00:58.464263Z"
    },
    "jupyter": {
     "outputs_hidden": false
    },
    "papermill": {
     "duration": 8.849166,
     "end_time": "2022-06-01T04:00:58.468766",
     "exception": false,
     "start_time": "2022-06-01T04:00:49.619600",
     "status": "completed"
    },
    "tags": []
   },
   "outputs": [],
   "source": [
    "# saving model predictions\n",
    "a = np.asarray(pred)\n",
    "np.savetxt(\"./testPredsInceptionV3.csv\", a, delimiter=\",\")"
   ]
  },
  {
   "cell_type": "code",
   "execution_count": 14,
   "id": "bda9fe9f",
   "metadata": {
    "_cell_guid": "bf262196-4b66-408d-b596-eed8f84b1c75",
    "_uuid": "a25e08bb-5d75-434f-8b9c-a25bfd6daa45",
    "collapsed": false,
    "execution": {
     "iopub.execute_input": "2022-06-01T04:01:13.966489Z",
     "iopub.status.busy": "2022-06-01T04:01:13.965769Z",
     "iopub.status.idle": "2022-06-01T04:01:14.008387Z",
     "shell.execute_reply": "2022-06-01T04:01:14.007636Z"
    },
    "jupyter": {
     "outputs_hidden": false
    },
    "papermill": {
     "duration": 7.705014,
     "end_time": "2022-06-01T04:01:14.010153",
     "exception": false,
     "start_time": "2022-06-01T04:01:06.305139",
     "status": "completed"
    },
    "tags": []
   },
   "outputs": [],
   "source": [
    "predicted_class_indices=np.argmax(pred,axis=1)\n",
    "labels = (train_generator.class_indices)\n",
    "labels = dict((v,k) for k,v in labels.items())\n",
    "\n",
    "predictions = [labels[k] for k in predicted_class_indices]\n",
    "filenames=test_generator.filenames\n",
    "\n",
    "res = {filenames[i]: predictions[i] for i in range(len(filenames))}"
   ]
  },
  {
   "cell_type": "code",
   "execution_count": 15,
   "id": "28187132",
   "metadata": {
    "_cell_guid": "1524ead2-2c6c-40d5-9c76-7f8a98963702",
    "_uuid": "5fb3598c-1988-4ced-b8e5-971f6a5b13b4",
    "collapsed": false,
    "execution": {
     "iopub.execute_input": "2022-06-01T04:01:30.405624Z",
     "iopub.status.busy": "2022-06-01T04:01:30.405302Z",
     "iopub.status.idle": "2022-06-01T04:01:30.423712Z",
     "shell.execute_reply": "2022-06-01T04:01:30.422956Z"
    },
    "jupyter": {
     "outputs_hidden": false
    },
    "papermill": {
     "duration": 8.427504,
     "end_time": "2022-06-01T04:01:30.426847",
     "exception": false,
     "start_time": "2022-06-01T04:01:21.999343",
     "status": "completed"
    },
    "tags": []
   },
   "outputs": [
    {
     "name": "stdout",
     "output_type": "stream",
     "text": [
      "[('0', 43306), ('1', 932), ('2', 7384), ('3', 1122), ('4', 830)]\n",
      "[('0', 39533), ('1', 3762), ('2', 7861), ('3', 1214), ('4', 1206)]\n"
     ]
    }
   ],
   "source": [
    "from collections import Counter\n",
    "P = Counter(predictions)\n",
    "T = Counter(test_df['level'])\n",
    "print(sorted(P.items()))\n",
    "print(sorted(T.items()))"
   ]
  },
  {
   "cell_type": "code",
   "execution_count": 16,
   "id": "0d13c6ca",
   "metadata": {
    "_cell_guid": "ca8306df-69a6-4086-ae88-5b39c800f85f",
    "_uuid": "33a30b5b-c256-4307-a371-e7695da974df",
    "collapsed": false,
    "execution": {
     "iopub.execute_input": "2022-06-01T04:01:46.050300Z",
     "iopub.status.busy": "2022-06-01T04:01:46.050045Z",
     "iopub.status.idle": "2022-06-01T04:01:55.267824Z",
     "shell.execute_reply": "2022-06-01T04:01:55.266849Z"
    },
    "jupyter": {
     "outputs_hidden": false
    },
    "papermill": {
     "duration": 16.950227,
     "end_time": "2022-06-01T04:01:55.269957",
     "exception": false,
     "start_time": "2022-06-01T04:01:38.319730",
     "status": "completed"
    },
    "tags": []
   },
   "outputs": [
    {
     "name": "stdout",
     "output_type": "stream",
     "text": [
      "83.47767657159922\n",
      "              precision    recall  f1-score   support\n",
      "\n",
      "           0       0.89      0.97      0.93     39532\n",
      "           1       0.45      0.11      0.18      3762\n",
      "           2       0.66      0.62      0.64      7860\n",
      "           3       0.42      0.39      0.40      1214\n",
      "           4       0.64      0.44      0.52      1206\n",
      "\n",
      "    accuracy                           0.83     53574\n",
      "   macro avg       0.61      0.51      0.53     53574\n",
      "weighted avg       0.81      0.83      0.81     53574\n",
      "\n",
      "[[38408   264   755    23    82]\n",
      " [ 2545   418   784     8     7]\n",
      " [ 2130   240  4897   458   135]\n",
      " [   66     4   603   468    73]\n",
      " [  157     6   345   165   533]]\n",
      "Test Accuracy score :  0.8348079292193975\n",
      "Test Weighted F1 score :  0.8118856747824839\n",
      "Test Micro F1 score :  0.8348079292193976\n",
      "Test Precision score :  0.8071378805098446\n",
      "Test Recall score :  0.8348079292193975\n",
      "Test Cohen Kappa Score :  0.7562184719164994\n"
     ]
    }
   ],
   "source": [
    "correct = 0\n",
    "predLabels = []\n",
    "indexes = []\n",
    "for i in range(len(test_df['image'])):\n",
    "    if test_df['image'][i] in res:\n",
    "        predLabels.append(res[test_df['image'][i]])\n",
    "        if res[test_df['image'][i]] == test_df['level'][i]:\n",
    "            correct += 1\n",
    "    else:\n",
    "        predLabels.append(\"NA\")\n",
    "        indexes.append(i)\n",
    "acc = (correct / len(test_df['level'])) * 100\n",
    "print(acc)\n",
    "\n",
    "test_df['predLevel'] = predLabels\n",
    "test_df.drop(indexes, axis=0, inplace=True)\n",
    "test_df.to_csv(\"./inceptionV3predictions.csv\", index=False)\n",
    "\n",
    "model.save('model.h5')\n",
    "\n",
    "print(classification_report(test_df['level'], test_df['predLevel']))\n",
    "\n",
    "print(confusion_matrix(test_df[\"level\"], test_df[\"predLevel\"]))\n",
    "\n",
    "print(\"Test Accuracy score : \", accuracy_score(test_df['level'], test_df['predLevel']))\n",
    "print(\"Test Weighted F1 score : \", f1_score(test_df['level'], test_df['predLevel'], average=\"weighted\"))\n",
    "print(\"Test Micro F1 score : \", f1_score(test_df['level'], test_df['predLevel'], average=\"micro\"))\n",
    "print(\"Test Precision score : \", precision_score(test_df['level'], test_df['predLevel'], average=\"weighted\"))\n",
    "print(\"Test Recall score : \", recall_score(test_df['level'], test_df['predLevel'], average=\"weighted\"))\n",
    "print(\"Test Cohen Kappa Score : \", cohen_kappa_score(test_df['level'], test_df['predLevel'], weights=\"quadratic\"))"
   ]
  }
 ],
 "metadata": {
  "kernelspec": {
   "display_name": "Python 3",
   "language": "python",
   "name": "python3"
  },
  "language_info": {
   "codemirror_mode": {
    "name": "ipython",
    "version": 3
   },
   "file_extension": ".py",
   "mimetype": "text/x-python",
   "name": "python",
   "nbconvert_exporter": "python",
   "pygments_lexer": "ipython3",
   "version": "3.7.12"
  },
  "papermill": {
   "default_parameters": {},
   "duration": 1984.677868,
   "end_time": "2022-06-01T04:03:10.908379",
   "environment_variables": {},
   "exception": null,
   "input_path": "__notebook__.ipynb",
   "output_path": "__notebook__.ipynb",
   "parameters": {},
   "start_time": "2022-06-01T03:30:06.230511",
   "version": "2.3.4"
  }
 },
 "nbformat": 4,
 "nbformat_minor": 5
}
