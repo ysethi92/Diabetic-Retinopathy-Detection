{
 "cells": [
  {
   "cell_type": "code",
   "execution_count": 1,
   "id": "2450c58b",
   "metadata": {
    "_cell_guid": "b1076dfc-b9ad-4769-8c92-a6c4dae69d19",
    "_uuid": "8f2839f25d086af736a60e9eeb907d3b93b6e0e5",
    "execution": {
     "iopub.execute_input": "2022-07-12T22:36:15.815806Z",
     "iopub.status.busy": "2022-07-12T22:36:15.815401Z",
     "iopub.status.idle": "2022-07-12T22:36:23.497054Z",
     "shell.execute_reply": "2022-07-12T22:36:23.496316Z"
    },
    "papermill": {
     "duration": 7.700646,
     "end_time": "2022-07-12T22:36:23.499353",
     "exception": false,
     "start_time": "2022-07-12T22:36:15.798707",
     "status": "completed"
    },
    "tags": []
   },
   "outputs": [],
   "source": [
    "import os\n",
    "import time\n",
    "import shutil\n",
    "import tensorflow as tf\n",
    "import numpy as np\n",
    "import pandas as pd\n",
    "import cv2\n",
    "import keras\n",
    "import gc\n",
    "from PIL import Image\n",
    "%matplotlib inline\n",
    "from keras.models import Sequential,Model\n",
    "from tensorflow.keras.applications import ResNet50, ResNet50V2, EfficientNetB3\n",
    "from keras.layers import Dense, Activation, Dropout\n",
    "import keras.backend as K\n",
    "from tensorflow.keras.optimizers import Adam, RMSprop, SGD\n",
    "from keras.preprocessing.image import ImageDataGenerator\n",
    "from keras.layers import BatchNormalization\n",
    "from keras.layers import Conv2D, MaxPool2D, AvgPool2D, Flatten, GlobalAveragePooling2D, AveragePooling2D\n",
    "from keras.callbacks import ReduceLROnPlateau, EarlyStopping\n",
    "from sklearn.metrics import accuracy_score, f1_score, precision_score, recall_score, confusion_matrix, classification_report, cohen_kappa_score, roc_auc_score"
   ]
  },
  {
   "cell_type": "code",
   "execution_count": 2,
   "id": "74f86302",
   "metadata": {
    "execution": {
     "iopub.execute_input": "2022-07-12T22:36:23.529866Z",
     "iopub.status.busy": "2022-07-12T22:36:23.529623Z",
     "iopub.status.idle": "2022-07-12T22:36:23.541875Z",
     "shell.execute_reply": "2022-07-12T22:36:23.541161Z"
    },
    "papermill": {
     "duration": 0.029951,
     "end_time": "2022-07-12T22:36:23.543766",
     "exception": false,
     "start_time": "2022-07-12T22:36:23.513815",
     "status": "completed"
    },
    "tags": []
   },
   "outputs": [],
   "source": [
    "img_size = (512,512)\n",
    "batch_size = 16\n",
    "# optimizer = SGD(learning_rate=5e-5, momentum=0.9)\n",
    "optimizer = Adam(learning_rate=1e-4)\n",
    "foldId = 0"
   ]
  },
  {
   "cell_type": "code",
   "execution_count": 3,
   "id": "42167f1e",
   "metadata": {
    "execution": {
     "iopub.execute_input": "2022-07-12T22:36:23.573952Z",
     "iopub.status.busy": "2022-07-12T22:36:23.573438Z",
     "iopub.status.idle": "2022-07-12T22:37:24.491527Z",
     "shell.execute_reply": "2022-07-12T22:37:24.490786Z"
    },
    "papermill": {
     "duration": 60.952426,
     "end_time": "2022-07-12T22:37:24.510900",
     "exception": false,
     "start_time": "2022-07-12T22:36:23.558474",
     "status": "completed"
    },
    "tags": []
   },
   "outputs": [
    {
     "name": "stdout",
     "output_type": "stream",
     "text": [
      "Found 25210 validated image filenames belonging to 5 classes.\n"
     ]
    }
   ],
   "source": [
    "train_datagen = ImageDataGenerator(rescale=1./255)\n",
    "train_df = pd.read_csv(\"../input/diabetic-retinopathy-preprocessed-data/trainLabels.csv\")\n",
    "\n",
    "indexes = []\n",
    "for i in range(len(train_df['image'])):\n",
    "    if train_df['kfold'][i] == foldId:\n",
    "        indexes.append(i)\n",
    "train_df.drop(indexes, axis=0, inplace=True)\n",
    "\n",
    "train_df['image'] = [str(x)+'.jpeg' for x in train_df['image']]\n",
    "train_df['level'] = [str(x) for x in train_df['level']]\n",
    "train_generator = train_datagen.flow_from_dataframe(\n",
    "    dataframe=train_df,\n",
    "    directory=\"../input/diabetic-retinopathy-preprocessed-data/Data/Data/train\",\n",
    "    x_col=\"image\",\n",
    "    y_col='level',\n",
    "    subset=\"training\",\n",
    "    batch_size=8,\n",
    "    seed=42,\n",
    "    shuffle=True,\n",
    "    class_mode=\"categorical\",\n",
    "    target_size=img_size)"
   ]
  },
  {
   "cell_type": "code",
   "execution_count": 4,
   "id": "a47228f3",
   "metadata": {
    "execution": {
     "iopub.execute_input": "2022-07-12T22:37:24.540612Z",
     "iopub.status.busy": "2022-07-12T22:37:24.540335Z",
     "iopub.status.idle": "2022-07-12T22:37:45.388186Z",
     "shell.execute_reply": "2022-07-12T22:37:45.387493Z"
    },
    "papermill": {
     "duration": 20.86542,
     "end_time": "2022-07-12T22:37:45.390249",
     "exception": false,
     "start_time": "2022-07-12T22:37:24.524829",
     "status": "completed"
    },
    "tags": []
   },
   "outputs": [
    {
     "name": "stdout",
     "output_type": "stream",
     "text": [
      "Found 8404 validated image filenames belonging to 5 classes.\n"
     ]
    }
   ],
   "source": [
    "val_datagen = ImageDataGenerator(rescale=1./255)\n",
    "val_df = pd.read_csv(\"../input/diabetic-retinopathy-preprocessed-data/trainLabels.csv\")\n",
    "indexes = []\n",
    "for i in range(len(val_df['image'])):\n",
    "    if val_df['kfold'][i] != foldId:\n",
    "        indexes.append(i)\n",
    "val_df.drop(indexes, axis=0, inplace=True)\n",
    "\n",
    "val_df['image'] = [str(x)+'.jpeg' for x in val_df['image']]\n",
    "val_df['level'] = [str(x) for x in val_df['level']]\n",
    "val_generator = val_datagen.flow_from_dataframe(\n",
    "    dataframe=val_df,\n",
    "    directory=\"../input/diabetic-retinopathy-preprocessed-data/Data/Data/train\",\n",
    "    x_col=\"image\",\n",
    "    y_col='level',\n",
    "    batch_size=16,\n",
    "    seed=42,\n",
    "    shuffle=True,\n",
    "    class_mode=\"categorical\",\n",
    "    target_size=img_size)"
   ]
  },
  {
   "cell_type": "code",
   "execution_count": 5,
   "id": "a794d03a",
   "metadata": {
    "execution": {
     "iopub.execute_input": "2022-07-12T22:37:45.420133Z",
     "iopub.status.busy": "2022-07-12T22:37:45.419919Z",
     "iopub.status.idle": "2022-07-12T22:39:55.617223Z",
     "shell.execute_reply": "2022-07-12T22:39:55.616234Z"
    },
    "papermill": {
     "duration": 130.228603,
     "end_time": "2022-07-12T22:39:55.633483",
     "exception": false,
     "start_time": "2022-07-12T22:37:45.404880",
     "status": "completed"
    },
    "tags": []
   },
   "outputs": [
    {
     "name": "stderr",
     "output_type": "stream",
     "text": [
      "/opt/conda/lib/python3.7/site-packages/keras_preprocessing/image/dataframe_iterator.py:282: UserWarning: Found 2 invalid image filename(s) in x_col=\"image\". These filename(s) will be ignored.\n",
      "  .format(n_invalid, x_col)\n"
     ]
    },
    {
     "name": "stdout",
     "output_type": "stream",
     "text": [
      "Found 53574 validated image filenames belonging to 5 classes.\n"
     ]
    }
   ],
   "source": [
    "test_datagen = ImageDataGenerator(rescale=1./255)\n",
    "test_df = pd.read_csv(\"../input/diabetic-retinopathy-preprocessed-data/Data/Data/test_labels.csv\")\n",
    "test_df['image'] = [str(x)+'.jpeg' for x in test_df['image']]\n",
    "test_df['level'] = [str(x) for x in test_df['level']]\n",
    "test_generator = test_datagen.flow_from_dataframe(\n",
    "    dataframe=test_df,\n",
    "    directory=\"../input/diabetic-retinopathy-preprocessed-data/Data/Data/test\",\n",
    "    x_col=\"image\",\n",
    "    y_col='level',\n",
    "    batch_size=1,\n",
    "    seed=42,\n",
    "    shuffle=False,\n",
    "    class_mode=\"categorical\",\n",
    "    target_size=img_size)"
   ]
  },
  {
   "cell_type": "code",
   "execution_count": 6,
   "id": "d7dcd4f6",
   "metadata": {
    "execution": {
     "iopub.execute_input": "2022-07-12T22:39:55.685230Z",
     "iopub.status.busy": "2022-07-12T22:39:55.684826Z",
     "iopub.status.idle": "2022-07-12T22:40:02.940558Z",
     "shell.execute_reply": "2022-07-12T22:40:02.939146Z"
    },
    "papermill": {
     "duration": 7.28465,
     "end_time": "2022-07-12T22:40:02.943044",
     "exception": false,
     "start_time": "2022-07-12T22:39:55.658394",
     "status": "completed"
    },
    "tags": []
   },
   "outputs": [
    {
     "name": "stderr",
     "output_type": "stream",
     "text": [
      "2022-07-12 22:39:55.837517: I tensorflow/stream_executor/cuda/cuda_gpu_executor.cc:937] successful NUMA node read from SysFS had negative value (-1), but there must be at least one NUMA node, so returning NUMA node zero\n",
      "2022-07-12 22:39:55.957921: I tensorflow/stream_executor/cuda/cuda_gpu_executor.cc:937] successful NUMA node read from SysFS had negative value (-1), but there must be at least one NUMA node, so returning NUMA node zero\n",
      "2022-07-12 22:39:55.959002: I tensorflow/stream_executor/cuda/cuda_gpu_executor.cc:937] successful NUMA node read from SysFS had negative value (-1), but there must be at least one NUMA node, so returning NUMA node zero\n",
      "2022-07-12 22:39:55.960626: I tensorflow/core/platform/cpu_feature_guard.cc:142] This TensorFlow binary is optimized with oneAPI Deep Neural Network Library (oneDNN) to use the following CPU instructions in performance-critical operations:  AVX2 AVX512F FMA\n",
      "To enable them in other operations, rebuild TensorFlow with the appropriate compiler flags.\n",
      "2022-07-12 22:39:55.961032: I tensorflow/stream_executor/cuda/cuda_gpu_executor.cc:937] successful NUMA node read from SysFS had negative value (-1), but there must be at least one NUMA node, so returning NUMA node zero\n",
      "2022-07-12 22:39:55.961977: I tensorflow/stream_executor/cuda/cuda_gpu_executor.cc:937] successful NUMA node read from SysFS had negative value (-1), but there must be at least one NUMA node, so returning NUMA node zero\n",
      "2022-07-12 22:39:55.962870: I tensorflow/stream_executor/cuda/cuda_gpu_executor.cc:937] successful NUMA node read from SysFS had negative value (-1), but there must be at least one NUMA node, so returning NUMA node zero\n",
      "2022-07-12 22:39:58.561103: I tensorflow/stream_executor/cuda/cuda_gpu_executor.cc:937] successful NUMA node read from SysFS had negative value (-1), but there must be at least one NUMA node, so returning NUMA node zero\n",
      "2022-07-12 22:39:58.562063: I tensorflow/stream_executor/cuda/cuda_gpu_executor.cc:937] successful NUMA node read from SysFS had negative value (-1), but there must be at least one NUMA node, so returning NUMA node zero\n",
      "2022-07-12 22:39:58.562762: I tensorflow/stream_executor/cuda/cuda_gpu_executor.cc:937] successful NUMA node read from SysFS had negative value (-1), but there must be at least one NUMA node, so returning NUMA node zero\n",
      "2022-07-12 22:39:58.564330: I tensorflow/core/common_runtime/gpu/gpu_device.cc:1510] Created device /job:localhost/replica:0/task:0/device:GPU:0 with 15403 MB memory:  -> device: 0, name: Tesla P100-PCIE-16GB, pci bus id: 0000:00:04.0, compute capability: 6.0\n"
     ]
    },
    {
     "name": "stdout",
     "output_type": "stream",
     "text": [
      "Downloading data from https://storage.googleapis.com/keras-applications/efficientnetb3_notop.h5\n",
      "43941888/43941136 [==============================] - 0s 0us/step\n",
      "43950080/43941136 [==============================] - 0s 0us/step\n",
      "Model: \"sequential\"\n",
      "_________________________________________________________________\n",
      "Layer (type)                 Output Shape              Param #   \n",
      "=================================================================\n",
      "model (Functional)           (None, 393216)            10783535  \n",
      "_________________________________________________________________\n",
      "dropout (Dropout)            (None, 393216)            0         \n",
      "_________________________________________________________________\n",
      "dense (Dense)                (None, 5)                 1966085   \n",
      "=================================================================\n",
      "Total params: 12,749,620\n",
      "Trainable params: 12,662,317\n",
      "Non-trainable params: 87,303\n",
      "_________________________________________________________________\n"
     ]
    }
   ],
   "source": [
    "resnet = EfficientNetB3(include_top=False, weights='imagenet', input_shape=(img_size[0], img_size[1], 3))\n",
    "output = resnet.layers[-1].output\n",
    "output = keras.layers.Flatten()(output)\n",
    "resnet = Model(resnet.input, output)\n",
    "\n",
    "model = Sequential()\n",
    "model.add(resnet)\n",
    "model.add(Dropout(0.3))\n",
    "model.add(Dense(5, activation='softmax'))\n",
    "\n",
    "model.compile(optimizer, \n",
    "            loss='categorical_crossentropy',\n",
    "            metrics=['accuracy'])\n",
    "\n",
    "checkpoint_filepath = \"./trainedmodel.h5\"\n",
    "model_checkpoint_callback = tf.keras.callbacks.ModelCheckpoint( filepath=checkpoint_filepath,\n",
    "                          save_weights_only=True,\n",
    "                          monitor='val_loss',\n",
    "                          mode='auto',\n",
    "                          save_best_only=True)\n",
    "\n",
    "early_stopping = EarlyStopping(\n",
    "                monitor=\"val_loss\",\n",
    "                patience=3,\n",
    "                verbose=1,\n",
    "                mode=\"auto\",\n",
    ")\n",
    "\n",
    "model.summary()"
   ]
  },
  {
   "cell_type": "code",
   "execution_count": 7,
   "id": "837dbde6",
   "metadata": {
    "execution": {
     "iopub.execute_input": "2022-07-12T22:40:02.983217Z",
     "iopub.status.busy": "2022-07-12T22:40:02.982692Z",
     "iopub.status.idle": "2022-07-12T22:40:02.986722Z",
     "shell.execute_reply": "2022-07-12T22:40:02.986032Z"
    },
    "papermill": {
     "duration": 0.025803,
     "end_time": "2022-07-12T22:40:02.988418",
     "exception": false,
     "start_time": "2022-07-12T22:40:02.962615",
     "status": "completed"
    },
    "tags": []
   },
   "outputs": [],
   "source": [
    "STEP_SIZE_TRAIN=train_generator.n//train_generator.batch_size\n",
    "STEP_SIZE_VALID=val_generator.n//val_generator.batch_size\n",
    "STEP_SIZE_TEST=test_generator.n//test_generator.batch_size"
   ]
  },
  {
   "cell_type": "code",
   "execution_count": 8,
   "id": "28ddd7cf",
   "metadata": {
    "execution": {
     "iopub.execute_input": "2022-07-12T22:40:03.029522Z",
     "iopub.status.busy": "2022-07-12T22:40:03.028764Z",
     "iopub.status.idle": "2022-07-12T22:40:03.033807Z",
     "shell.execute_reply": "2022-07-12T22:40:03.033089Z"
    },
    "papermill": {
     "duration": 0.027438,
     "end_time": "2022-07-12T22:40:03.035609",
     "exception": false,
     "start_time": "2022-07-12T22:40:03.008171",
     "status": "completed"
    },
    "tags": []
   },
   "outputs": [],
   "source": [
    "# model.fit_generator(generator=train_generator,\n",
    "#                     steps_per_epoch=STEP_SIZE_TRAIN,\n",
    "#                     validation_data=val_generator,\n",
    "#                     validation_steps=STEP_SIZE_VALID,\n",
    "#                     epochs=25, \n",
    "#                     callbacks=[model_checkpoint_callback, early_stopping])"
   ]
  },
  {
   "cell_type": "code",
   "execution_count": 9,
   "id": "aa921865",
   "metadata": {
    "execution": {
     "iopub.execute_input": "2022-07-12T22:40:03.076320Z",
     "iopub.status.busy": "2022-07-12T22:40:03.075765Z",
     "iopub.status.idle": "2022-07-12T22:40:04.213597Z",
     "shell.execute_reply": "2022-07-12T22:40:04.212796Z"
    },
    "papermill": {
     "duration": 1.160552,
     "end_time": "2022-07-12T22:40:04.215630",
     "exception": false,
     "start_time": "2022-07-12T22:40:03.055078",
     "status": "completed"
    },
    "tags": []
   },
   "outputs": [],
   "source": [
    "model.load_weights(\"../input/dr-efficientb3-training-model-file/trainedmodel.h5\")"
   ]
  },
  {
   "cell_type": "code",
   "execution_count": 10,
   "id": "06bb81e1",
   "metadata": {
    "execution": {
     "iopub.execute_input": "2022-07-12T22:40:04.256948Z",
     "iopub.status.busy": "2022-07-12T22:40:04.256240Z",
     "iopub.status.idle": "2022-07-12T23:06:25.630262Z",
     "shell.execute_reply": "2022-07-12T23:06:25.629487Z"
    },
    "papermill": {
     "duration": 1581.397529,
     "end_time": "2022-07-12T23:06:25.632602",
     "exception": false,
     "start_time": "2022-07-12T22:40:04.235073",
     "status": "completed"
    },
    "tags": []
   },
   "outputs": [
    {
     "name": "stderr",
     "output_type": "stream",
     "text": [
      "/opt/conda/lib/python3.7/site-packages/keras/engine/training.py:2035: UserWarning: `Model.predict_generator` is deprecated and will be removed in a future version. Please use `Model.predict`, which supports generators.\n",
      "  warnings.warn('`Model.predict_generator` is deprecated and '\n",
      "2022-07-12 22:40:04.379633: I tensorflow/compiler/mlir/mlir_graph_optimization_pass.cc:185] None of the MLIR Optimization Passes are enabled (registered 2)\n",
      "2022-07-12 22:40:07.441506: I tensorflow/stream_executor/cuda/cuda_dnn.cc:369] Loaded cuDNN version 8005\n"
     ]
    },
    {
     "name": "stdout",
     "output_type": "stream",
     "text": [
      "53574/53574 [==============================] - 1581s 29ms/step\n"
     ]
    }
   ],
   "source": [
    "test_generator.reset()\n",
    "pred=model.predict_generator(test_generator,\n",
    "                            steps=STEP_SIZE_TEST,\n",
    "                            verbose=1)"
   ]
  },
  {
   "cell_type": "code",
   "execution_count": 11,
   "id": "e3a8c8d7",
   "metadata": {
    "execution": {
     "iopub.execute_input": "2022-07-12T23:06:43.768755Z",
     "iopub.status.busy": "2022-07-12T23:06:43.768334Z",
     "iopub.status.idle": "2022-07-12T23:06:43.810618Z",
     "shell.execute_reply": "2022-07-12T23:06:43.809888Z"
    },
    "papermill": {
     "duration": 8.838732,
     "end_time": "2022-07-12T23:06:43.812604",
     "exception": false,
     "start_time": "2022-07-12T23:06:34.973872",
     "status": "completed"
    },
    "tags": []
   },
   "outputs": [],
   "source": [
    "predicted_class_indices=np.argmax(pred,axis=1)\n",
    "labels = (train_generator.class_indices)\n",
    "labels = dict((v,k) for k,v in labels.items())\n",
    "\n",
    "predictions = [labels[k] for k in predicted_class_indices]\n",
    "filenames=test_generator.filenames\n",
    "\n",
    "predcitionsMap = {filenames[i]: predictions[i] for i in range(len(filenames))}"
   ]
  },
  {
   "cell_type": "code",
   "execution_count": 12,
   "id": "679454a8",
   "metadata": {
    "execution": {
     "iopub.execute_input": "2022-07-12T23:07:01.211947Z",
     "iopub.status.busy": "2022-07-12T23:07:01.211638Z",
     "iopub.status.idle": "2022-07-12T23:07:09.779093Z",
     "shell.execute_reply": "2022-07-12T23:07:09.778275Z"
    },
    "papermill": {
     "duration": 17.467098,
     "end_time": "2022-07-12T23:07:09.781264",
     "exception": false,
     "start_time": "2022-07-12T23:06:52.314166",
     "status": "completed"
    },
    "tags": []
   },
   "outputs": [
    {
     "name": "stdout",
     "output_type": "stream",
     "text": [
      "[('0', 51620), ('1', 12), ('2', 1190), ('3', 727), ('4', 25)]\n",
      "[('0', 39533), ('1', 3762), ('2', 7861), ('3', 1214), ('4', 1206)]\n",
      "72.97297297297297\n",
      "              precision    recall  f1-score   support\n",
      "\n",
      "           0       0.75      0.98      0.85     39532\n",
      "           1       0.00      0.00      0.00      3762\n",
      "           2       0.34      0.05      0.09      7860\n",
      "           3       0.06      0.03      0.04      1214\n",
      "           4       0.32      0.01      0.01      1206\n",
      "\n",
      "    accuracy                           0.73     53574\n",
      "   macro avg       0.29      0.21      0.20     53574\n",
      "weighted avg       0.61      0.73      0.64     53574\n",
      "\n",
      "[[38642     0   469   408    13]\n",
      " [ 3713     0    29    20     0]\n",
      " [ 7285     6   405   160     4]\n",
      " [ 1005     6   162    41     0]\n",
      " [  975     0   125    98     8]]\n",
      "Test Accuracy score :  0.72975697166536\n",
      "Test Weighted F1 score :  0.6400118869595486\n",
      "Test Micro F1 score :  0.72975697166536\n",
      "Test Precision score :  0.6107910843999674\n",
      "Test Recall score :  0.72975697166536\n",
      "Test Cohen Kappa Score :  0.10979909981249891\n"
     ]
    }
   ],
   "source": [
    "from collections import Counter\n",
    "P = Counter(predictions)\n",
    "T = Counter(test_df['level'])\n",
    "print(sorted(P.items()))\n",
    "print(sorted(T.items()))\n",
    "\n",
    "correct = 0\n",
    "predLabels = []\n",
    "indexes = []\n",
    "for i in range(len(test_df['image'])):\n",
    "    if test_df['image'][i] in predcitionsMap:\n",
    "        predLabels.append(predcitionsMap[test_df['image'][i]])\n",
    "        if predcitionsMap[test_df['image'][i]] == test_df['level'][i]:\n",
    "            correct += 1\n",
    "    else:\n",
    "        predLabels.append(\"NA\")\n",
    "        indexes.append(i)\n",
    "acc = (correct / len(test_df['level'])) * 100\n",
    "print(acc)\n",
    "\n",
    "test_df['predLevel'] = predLabels\n",
    "test_df.drop(indexes, axis=0, inplace=True)\n",
    "# test_df.to_csv(\"./InceptionV3AndInceptionResNetV2predictions.csv\", index=False)\n",
    "\n",
    "print(classification_report(test_df['level'], test_df['predLevel']))\n",
    "\n",
    "print(confusion_matrix(test_df[\"level\"], test_df[\"predLevel\"]))\n",
    "\n",
    "print(\"Test Accuracy score : \", accuracy_score(test_df['level'], test_df['predLevel']))\n",
    "print(\"Test Weighted F1 score : \", f1_score(test_df['level'], test_df['predLevel'], average=\"weighted\"))\n",
    "print(\"Test Micro F1 score : \", f1_score(test_df['level'], test_df['predLevel'], average=\"micro\"))\n",
    "print(\"Test Precision score : \", precision_score(test_df['level'], test_df['predLevel'], average=\"weighted\"))\n",
    "print(\"Test Recall score : \", recall_score(test_df['level'], test_df['predLevel'], average=\"weighted\"))\n",
    "print(\"Test Cohen Kappa Score : \", cohen_kappa_score(test_df['level'], test_df['predLevel'], weights=\"quadratic\"))"
   ]
  }
 ],
 "metadata": {
  "kernelspec": {
   "display_name": "Python 3",
   "language": "python",
   "name": "python3"
  },
  "language_info": {
   "codemirror_mode": {
    "name": "ipython",
    "version": 3
   },
   "file_extension": ".py",
   "mimetype": "text/x-python",
   "name": "python",
   "nbconvert_exporter": "python",
   "pygments_lexer": "ipython3",
   "version": "3.7.12"
  },
  "papermill": {
   "default_parameters": {},
   "duration": 1946.759345,
   "end_time": "2022-07-12T23:08:33.080748",
   "environment_variables": {},
   "exception": null,
   "input_path": "__notebook__.ipynb",
   "output_path": "__notebook__.ipynb",
   "parameters": {},
   "start_time": "2022-07-12T22:36:06.321403",
   "version": "2.3.4"
  }
 },
 "nbformat": 4,
 "nbformat_minor": 5
}
