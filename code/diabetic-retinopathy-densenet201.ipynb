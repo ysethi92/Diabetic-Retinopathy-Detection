{
 "cells": [
  {
   "cell_type": "code",
   "execution_count": 1,
   "id": "3c2229e7",
   "metadata": {
    "_cell_guid": "b1076dfc-b9ad-4769-8c92-a6c4dae69d19",
    "_uuid": "8f2839f25d086af736a60e9eeb907d3b93b6e0e5",
    "execution": {
     "iopub.execute_input": "2022-07-12T22:30:02.434100Z",
     "iopub.status.busy": "2022-07-12T22:30:02.433668Z",
     "iopub.status.idle": "2022-07-12T22:30:09.601725Z",
     "shell.execute_reply": "2022-07-12T22:30:09.600950Z"
    },
    "papermill": {
     "duration": 7.187318,
     "end_time": "2022-07-12T22:30:09.604211",
     "exception": false,
     "start_time": "2022-07-12T22:30:02.416893",
     "status": "completed"
    },
    "tags": []
   },
   "outputs": [],
   "source": [
    "import os\n",
    "import time\n",
    "import shutil\n",
    "import tensorflow as tf\n",
    "import numpy as np\n",
    "import pandas as pd\n",
    "import cv2\n",
    "import keras\n",
    "import gc\n",
    "from PIL import Image\n",
    "%matplotlib inline\n",
    "from keras.models import Sequential,Model\n",
    "from tensorflow.keras.applications import ResNet50, ResNet50V2, DenseNet201\n",
    "from keras.layers import Dense, Activation, Dropout\n",
    "import keras.backend as K\n",
    "from tensorflow.keras.optimizers import Adam, RMSprop, SGD\n",
    "from keras.preprocessing.image import ImageDataGenerator\n",
    "from keras.layers import BatchNormalization\n",
    "from keras.layers import Conv2D, MaxPool2D, AvgPool2D, Flatten, GlobalAveragePooling2D, AveragePooling2D\n",
    "from keras.callbacks import ReduceLROnPlateau, EarlyStopping\n",
    "from sklearn.metrics import accuracy_score, f1_score, precision_score, recall_score, confusion_matrix, classification_report, cohen_kappa_score, roc_auc_score"
   ]
  },
  {
   "cell_type": "code",
   "execution_count": 2,
   "id": "31447b8c",
   "metadata": {
    "execution": {
     "iopub.execute_input": "2022-07-12T22:30:09.635274Z",
     "iopub.status.busy": "2022-07-12T22:30:09.633896Z",
     "iopub.status.idle": "2022-07-12T22:30:09.647051Z",
     "shell.execute_reply": "2022-07-12T22:30:09.646380Z"
    },
    "papermill": {
     "duration": 0.030022,
     "end_time": "2022-07-12T22:30:09.648616",
     "exception": false,
     "start_time": "2022-07-12T22:30:09.618594",
     "status": "completed"
    },
    "tags": []
   },
   "outputs": [],
   "source": [
    "# img_size = (768, 768)\n",
    "# optimizer = SGD(learning_rate=5e-5, momentum=0.9)\n",
    "# # optimizer = Adam(learning_rate=1e-5)\n",
    "# foldId = 0\n",
    "\n",
    "img_size = (512,512)\n",
    "batch_size = 16\n",
    "# optimizer = SGD(learning_rate=5e-5, momentum=0.9)\n",
    "optimizer = Adam(learning_rate=1e-4)\n",
    "foldId = 0"
   ]
  },
  {
   "cell_type": "code",
   "execution_count": 3,
   "id": "fc0f6796",
   "metadata": {
    "execution": {
     "iopub.execute_input": "2022-07-12T22:30:09.678773Z",
     "iopub.status.busy": "2022-07-12T22:30:09.678116Z",
     "iopub.status.idle": "2022-07-12T22:30:33.609076Z",
     "shell.execute_reply": "2022-07-12T22:30:33.608326Z"
    },
    "papermill": {
     "duration": 23.948475,
     "end_time": "2022-07-12T22:30:33.611716",
     "exception": false,
     "start_time": "2022-07-12T22:30:09.663241",
     "status": "completed"
    },
    "tags": []
   },
   "outputs": [
    {
     "name": "stdout",
     "output_type": "stream",
     "text": [
      "Found 25210 validated image filenames belonging to 5 classes.\n"
     ]
    }
   ],
   "source": [
    "train_datagen = ImageDataGenerator(rescale=1./255)\n",
    "train_df = pd.read_csv(\"../input/diabetic-retinopathy-preprocessed-data/trainLabels.csv\")\n",
    "\n",
    "indexes = []\n",
    "for i in range(len(train_df['image'])):\n",
    "    if train_df['kfold'][i] == foldId:\n",
    "        indexes.append(i)\n",
    "train_df.drop(indexes, axis=0, inplace=True)\n",
    "\n",
    "train_df['image'] = [str(x)+'.jpeg' for x in train_df['image']]\n",
    "train_df['level'] = [str(x) for x in train_df['level']]\n",
    "train_generator = train_datagen.flow_from_dataframe(\n",
    "    dataframe=train_df,\n",
    "    directory=\"../input/diabetic-retinopathy-preprocessed-data/Data/Data/train\",\n",
    "    x_col=\"image\",\n",
    "    y_col='level',\n",
    "    subset=\"training\",\n",
    "    batch_size=4,\n",
    "    seed=42,\n",
    "    shuffle=True,\n",
    "    class_mode=\"categorical\",\n",
    "    target_size=img_size)"
   ]
  },
  {
   "cell_type": "code",
   "execution_count": 4,
   "id": "3b9d7906",
   "metadata": {
    "execution": {
     "iopub.execute_input": "2022-07-12T22:30:33.643106Z",
     "iopub.status.busy": "2022-07-12T22:30:33.642886Z",
     "iopub.status.idle": "2022-07-12T22:30:41.605663Z",
     "shell.execute_reply": "2022-07-12T22:30:41.604737Z"
    },
    "papermill": {
     "duration": 7.980027,
     "end_time": "2022-07-12T22:30:41.607851",
     "exception": false,
     "start_time": "2022-07-12T22:30:33.627824",
     "status": "completed"
    },
    "tags": []
   },
   "outputs": [
    {
     "name": "stdout",
     "output_type": "stream",
     "text": [
      "Found 8404 validated image filenames belonging to 5 classes.\n"
     ]
    }
   ],
   "source": [
    "val_datagen = ImageDataGenerator(rescale=1./255)\n",
    "val_df = pd.read_csv(\"../input/diabetic-retinopathy-preprocessed-data/trainLabels.csv\")\n",
    "indexes = []\n",
    "for i in range(len(val_df['image'])):\n",
    "    if val_df['kfold'][i] != foldId:\n",
    "        indexes.append(i)\n",
    "val_df.drop(indexes, axis=0, inplace=True)\n",
    "\n",
    "val_df['image'] = [str(x)+'.jpeg' for x in val_df['image']]\n",
    "val_df['level'] = [str(x) for x in val_df['level']]\n",
    "val_generator = val_datagen.flow_from_dataframe(\n",
    "    dataframe=val_df,\n",
    "    directory=\"../input/diabetic-retinopathy-preprocessed-data/Data/Data/train\",\n",
    "    x_col=\"image\",\n",
    "    y_col='level',\n",
    "    batch_size=4,\n",
    "    seed=42,\n",
    "    shuffle=True,\n",
    "    class_mode=\"categorical\",\n",
    "    target_size=img_size)"
   ]
  },
  {
   "cell_type": "code",
   "execution_count": 5,
   "id": "f629f0a5",
   "metadata": {
    "execution": {
     "iopub.execute_input": "2022-07-12T22:30:41.638594Z",
     "iopub.status.busy": "2022-07-12T22:30:41.638356Z",
     "iopub.status.idle": "2022-07-12T22:31:28.587808Z",
     "shell.execute_reply": "2022-07-12T22:31:28.587077Z"
    },
    "papermill": {
     "duration": 46.983574,
     "end_time": "2022-07-12T22:31:28.606330",
     "exception": false,
     "start_time": "2022-07-12T22:30:41.622756",
     "status": "completed"
    },
    "tags": []
   },
   "outputs": [
    {
     "name": "stdout",
     "output_type": "stream",
     "text": [
      "Found 53574 validated image filenames belonging to 5 classes.\n"
     ]
    },
    {
     "name": "stderr",
     "output_type": "stream",
     "text": [
      "/opt/conda/lib/python3.7/site-packages/keras_preprocessing/image/dataframe_iterator.py:282: UserWarning: Found 2 invalid image filename(s) in x_col=\"image\". These filename(s) will be ignored.\n",
      "  .format(n_invalid, x_col)\n"
     ]
    }
   ],
   "source": [
    "test_datagen = ImageDataGenerator(rescale=1./255)\n",
    "test_df = pd.read_csv(\"../input/diabetic-retinopathy-preprocessed-data/Data/Data/test_labels.csv\")\n",
    "test_df['image'] = [str(x)+'.jpeg' for x in test_df['image']]\n",
    "test_df['level'] = [str(x) for x in test_df['level']]\n",
    "test_generator = test_datagen.flow_from_dataframe(\n",
    "    dataframe=test_df,\n",
    "    directory=\"../input/diabetic-retinopathy-preprocessed-data/Data/Data/test\",\n",
    "    x_col=\"image\",\n",
    "    y_col='level',\n",
    "    batch_size=1,\n",
    "    seed=42,\n",
    "    shuffle=False,\n",
    "    class_mode=\"categorical\",\n",
    "    target_size=img_size)"
   ]
  },
  {
   "cell_type": "code",
   "execution_count": 6,
   "id": "c0446f6a",
   "metadata": {
    "execution": {
     "iopub.execute_input": "2022-07-12T22:31:28.641283Z",
     "iopub.status.busy": "2022-07-12T22:31:28.641035Z",
     "iopub.status.idle": "2022-07-12T22:31:37.859436Z",
     "shell.execute_reply": "2022-07-12T22:31:37.858657Z"
    },
    "papermill": {
     "duration": 9.238325,
     "end_time": "2022-07-12T22:31:37.861328",
     "exception": false,
     "start_time": "2022-07-12T22:31:28.623003",
     "status": "completed"
    },
    "tags": []
   },
   "outputs": [
    {
     "name": "stderr",
     "output_type": "stream",
     "text": [
      "2022-07-12 22:31:28.750611: I tensorflow/stream_executor/cuda/cuda_gpu_executor.cc:937] successful NUMA node read from SysFS had negative value (-1), but there must be at least one NUMA node, so returning NUMA node zero\n",
      "2022-07-12 22:31:28.866082: I tensorflow/stream_executor/cuda/cuda_gpu_executor.cc:937] successful NUMA node read from SysFS had negative value (-1), but there must be at least one NUMA node, so returning NUMA node zero\n",
      "2022-07-12 22:31:28.866943: I tensorflow/stream_executor/cuda/cuda_gpu_executor.cc:937] successful NUMA node read from SysFS had negative value (-1), but there must be at least one NUMA node, so returning NUMA node zero\n",
      "2022-07-12 22:31:28.868197: I tensorflow/core/platform/cpu_feature_guard.cc:142] This TensorFlow binary is optimized with oneAPI Deep Neural Network Library (oneDNN) to use the following CPU instructions in performance-critical operations:  AVX2 AVX512F FMA\n",
      "To enable them in other operations, rebuild TensorFlow with the appropriate compiler flags.\n",
      "2022-07-12 22:31:28.868555: I tensorflow/stream_executor/cuda/cuda_gpu_executor.cc:937] successful NUMA node read from SysFS had negative value (-1), but there must be at least one NUMA node, so returning NUMA node zero\n",
      "2022-07-12 22:31:28.869245: I tensorflow/stream_executor/cuda/cuda_gpu_executor.cc:937] successful NUMA node read from SysFS had negative value (-1), but there must be at least one NUMA node, so returning NUMA node zero\n",
      "2022-07-12 22:31:28.869892: I tensorflow/stream_executor/cuda/cuda_gpu_executor.cc:937] successful NUMA node read from SysFS had negative value (-1), but there must be at least one NUMA node, so returning NUMA node zero\n",
      "2022-07-12 22:31:31.221075: I tensorflow/stream_executor/cuda/cuda_gpu_executor.cc:937] successful NUMA node read from SysFS had negative value (-1), but there must be at least one NUMA node, so returning NUMA node zero\n",
      "2022-07-12 22:31:31.221952: I tensorflow/stream_executor/cuda/cuda_gpu_executor.cc:937] successful NUMA node read from SysFS had negative value (-1), but there must be at least one NUMA node, so returning NUMA node zero\n",
      "2022-07-12 22:31:31.222652: I tensorflow/stream_executor/cuda/cuda_gpu_executor.cc:937] successful NUMA node read from SysFS had negative value (-1), but there must be at least one NUMA node, so returning NUMA node zero\n",
      "2022-07-12 22:31:31.224481: I tensorflow/core/common_runtime/gpu/gpu_device.cc:1510] Created device /job:localhost/replica:0/task:0/device:GPU:0 with 15403 MB memory:  -> device: 0, name: Tesla P100-PCIE-16GB, pci bus id: 0000:00:04.0, compute capability: 6.0\n"
     ]
    },
    {
     "name": "stdout",
     "output_type": "stream",
     "text": [
      "Downloading data from https://storage.googleapis.com/tensorflow/keras-applications/densenet/densenet201_weights_tf_dim_ordering_tf_kernels_notop.h5\n",
      "74842112/74836368 [==============================] - 0s 0us/step\n",
      "74850304/74836368 [==============================] - 0s 0us/step\n",
      "Model: \"sequential\"\n",
      "_________________________________________________________________\n",
      "Layer (type)                 Output Shape              Param #   \n",
      "=================================================================\n",
      "model (Functional)           (None, 491520)            18321984  \n",
      "_________________________________________________________________\n",
      "dropout (Dropout)            (None, 491520)            0         \n",
      "_________________________________________________________________\n",
      "dense (Dense)                (None, 5)                 2457605   \n",
      "=================================================================\n",
      "Total params: 20,779,589\n",
      "Trainable params: 20,550,533\n",
      "Non-trainable params: 229,056\n",
      "_________________________________________________________________\n"
     ]
    }
   ],
   "source": [
    "denseNet = DenseNet201(include_top=False, weights='imagenet', input_shape=(img_size[0], img_size[1], 3))\n",
    "output = denseNet.layers[-1].output\n",
    "output = keras.layers.Flatten()(output)\n",
    "denseNet = Model(denseNet.input, output)\n",
    "\n",
    "model = Sequential()\n",
    "model.add(denseNet)\n",
    "model.add(Dropout(0.3))\n",
    "model.add(Dense(5, activation='softmax'))\n",
    "\n",
    "model.compile(optimizer, \n",
    "            loss='categorical_crossentropy',\n",
    "            metrics=['accuracy'])\n",
    "\n",
    "checkpoint_filepath = \"./trainedmodel.h5\"\n",
    "model_checkpoint_callback = tf.keras.callbacks.ModelCheckpoint( filepath=checkpoint_filepath,\n",
    "                          save_weights_only=False,\n",
    "                          monitor='val_loss',\n",
    "                          mode='auto',\n",
    "                          save_best_only=True)\n",
    "\n",
    "early_stopping = EarlyStopping(\n",
    "                monitor=\"val_loss\",\n",
    "                patience=3,\n",
    "                verbose=1,\n",
    "                mode=\"auto\",\n",
    ")\n",
    "\n",
    "model.summary()"
   ]
  },
  {
   "cell_type": "code",
   "execution_count": 7,
   "id": "d1c24ed1",
   "metadata": {
    "execution": {
     "iopub.execute_input": "2022-07-12T22:31:37.902879Z",
     "iopub.status.busy": "2022-07-12T22:31:37.902504Z",
     "iopub.status.idle": "2022-07-12T22:31:37.906604Z",
     "shell.execute_reply": "2022-07-12T22:31:37.905788Z"
    },
    "papermill": {
     "duration": 0.026446,
     "end_time": "2022-07-12T22:31:37.908422",
     "exception": false,
     "start_time": "2022-07-12T22:31:37.881976",
     "status": "completed"
    },
    "tags": []
   },
   "outputs": [],
   "source": [
    "STEP_SIZE_TRAIN=train_generator.n//train_generator.batch_size\n",
    "STEP_SIZE_VALID=val_generator.n//val_generator.batch_size\n",
    "STEP_SIZE_TEST=test_generator.n//test_generator.batch_size"
   ]
  },
  {
   "cell_type": "code",
   "execution_count": 8,
   "id": "1c596460",
   "metadata": {
    "execution": {
     "iopub.execute_input": "2022-07-12T22:31:37.949346Z",
     "iopub.status.busy": "2022-07-12T22:31:37.949131Z",
     "iopub.status.idle": "2022-07-12T22:31:37.952364Z",
     "shell.execute_reply": "2022-07-12T22:31:37.951690Z"
    },
    "papermill": {
     "duration": 0.025695,
     "end_time": "2022-07-12T22:31:37.954098",
     "exception": false,
     "start_time": "2022-07-12T22:31:37.928403",
     "status": "completed"
    },
    "tags": []
   },
   "outputs": [],
   "source": [
    "# model.fit_generator(generator=train_generator,\n",
    "#                     steps_per_epoch=STEP_SIZE_TRAIN,\n",
    "#                     validation_data=val_generator,\n",
    "#                     validation_steps=STEP_SIZE_VALID,\n",
    "#                     epochs=25,\n",
    "#                     callbacks=[model_checkpoint_callback, early_stopping])"
   ]
  },
  {
   "cell_type": "code",
   "execution_count": 9,
   "id": "567386d5",
   "metadata": {
    "execution": {
     "iopub.execute_input": "2022-07-12T22:31:37.995215Z",
     "iopub.status.busy": "2022-07-12T22:31:37.994659Z",
     "iopub.status.idle": "2022-07-12T22:31:39.801460Z",
     "shell.execute_reply": "2022-07-12T22:31:39.800680Z"
    },
    "papermill": {
     "duration": 1.829522,
     "end_time": "2022-07-12T22:31:39.803986",
     "exception": false,
     "start_time": "2022-07-12T22:31:37.974464",
     "status": "completed"
    },
    "tags": []
   },
   "outputs": [],
   "source": [
    "model.load_weights(\"../input/diabetic-retinopathy-densenet201-model-file/trainedmodel.h5\")"
   ]
  },
  {
   "cell_type": "code",
   "execution_count": 10,
   "id": "b47ba7b8",
   "metadata": {
    "execution": {
     "iopub.execute_input": "2022-07-12T22:31:39.845786Z",
     "iopub.status.busy": "2022-07-12T22:31:39.845511Z",
     "iopub.status.idle": "2022-07-12T23:10:50.779679Z",
     "shell.execute_reply": "2022-07-12T23:10:50.778846Z"
    },
    "papermill": {
     "duration": 2350.957554,
     "end_time": "2022-07-12T23:10:50.781922",
     "exception": false,
     "start_time": "2022-07-12T22:31:39.824368",
     "status": "completed"
    },
    "tags": []
   },
   "outputs": [
    {
     "name": "stderr",
     "output_type": "stream",
     "text": [
      "/opt/conda/lib/python3.7/site-packages/keras/engine/training.py:2035: UserWarning: `Model.predict_generator` is deprecated and will be removed in a future version. Please use `Model.predict`, which supports generators.\n",
      "  warnings.warn('`Model.predict_generator` is deprecated and '\n",
      "2022-07-12 22:31:39.956714: I tensorflow/compiler/mlir/mlir_graph_optimization_pass.cc:185] None of the MLIR Optimization Passes are enabled (registered 2)\n",
      "2022-07-12 22:31:43.598153: I tensorflow/stream_executor/cuda/cuda_dnn.cc:369] Loaded cuDNN version 8005\n"
     ]
    },
    {
     "name": "stdout",
     "output_type": "stream",
     "text": [
      "53574/53574 [==============================] - 2351s 44ms/step\n"
     ]
    }
   ],
   "source": [
    "test_generator.reset()\n",
    "pred=model.predict_generator(test_generator,\n",
    "                            steps=STEP_SIZE_TEST,\n",
    "                            verbose=1)"
   ]
  },
  {
   "cell_type": "code",
   "execution_count": 11,
   "id": "d9512233",
   "metadata": {
    "execution": {
     "iopub.execute_input": "2022-07-12T23:11:11.054410Z",
     "iopub.status.busy": "2022-07-12T23:11:11.054143Z",
     "iopub.status.idle": "2022-07-12T23:11:11.096065Z",
     "shell.execute_reply": "2022-07-12T23:11:11.095294Z"
    },
    "papermill": {
     "duration": 9.880808,
     "end_time": "2022-07-12T23:11:11.098133",
     "exception": false,
     "start_time": "2022-07-12T23:11:01.217325",
     "status": "completed"
    },
    "tags": []
   },
   "outputs": [],
   "source": [
    "predicted_class_indices=np.argmax(pred,axis=1)\n",
    "labels = (train_generator.class_indices)\n",
    "labels = dict((v,k) for k,v in labels.items())\n",
    "\n",
    "predictions = [labels[k] for k in predicted_class_indices]\n",
    "filenames=test_generator.filenames\n",
    "\n",
    "predcitionsMap = {filenames[i]: predictions[i] for i in range(len(filenames))}"
   ]
  },
  {
   "cell_type": "code",
   "execution_count": 12,
   "id": "1b378470",
   "metadata": {
    "execution": {
     "iopub.execute_input": "2022-07-12T23:11:31.590030Z",
     "iopub.status.busy": "2022-07-12T23:11:31.589772Z",
     "iopub.status.idle": "2022-07-12T23:11:39.497085Z",
     "shell.execute_reply": "2022-07-12T23:11:39.496150Z"
    },
    "papermill": {
     "duration": 18.355261,
     "end_time": "2022-07-12T23:11:39.499362",
     "exception": false,
     "start_time": "2022-07-12T23:11:21.144101",
     "status": "completed"
    },
    "tags": []
   },
   "outputs": [
    {
     "name": "stdout",
     "output_type": "stream",
     "text": [
      "[('0', 47846), ('1', 157), ('2', 4693), ('3', 680), ('4', 198)]\n",
      "[('0', 39533), ('1', 3762), ('2', 7861), ('3', 1214), ('4', 1206)]\n",
      "79.08205166492459\n",
      "              precision    recall  f1-score   support\n",
      "\n",
      "           0       0.82      0.99      0.89     39532\n",
      "           1       0.30      0.01      0.02      3762\n",
      "           2       0.61      0.36      0.45      7860\n",
      "           3       0.31      0.17      0.22      1214\n",
      "           4       0.90      0.15      0.25      1206\n",
      "\n",
      "    accuracy                           0.79     53574\n",
      "   macro avg       0.59      0.34      0.37     53574\n",
      "weighted avg       0.74      0.79      0.74     53574\n",
      "\n",
      "[[39092    45   359    24    12]\n",
      " [ 3432    47   273    10     0]\n",
      " [ 4675    64  2841   274     6]\n",
      " [  239     1   761   211     2]\n",
      " [  408     0   459   161   178]]\n",
      "Test Accuracy score :  0.7908500391981185\n",
      "Test Weighted F1 score :  0.7391025397859613\n",
      "Test Micro F1 score :  0.7908500391981185\n",
      "Test Precision score :  0.7399939267342663\n",
      "Test Recall score :  0.7908500391981185\n",
      "Test Cohen Kappa Score :  0.5523453551447958\n"
     ]
    }
   ],
   "source": [
    "from collections import Counter\n",
    "P = Counter(predictions)\n",
    "T = Counter(test_df['level'])\n",
    "print(sorted(P.items()))\n",
    "print(sorted(T.items()))\n",
    "\n",
    "correct = 0\n",
    "predLabels = []\n",
    "indexes = []\n",
    "for i in range(len(test_df['image'])):\n",
    "    if test_df['image'][i] in predcitionsMap:\n",
    "        predLabels.append(predcitionsMap[test_df['image'][i]])\n",
    "        if predcitionsMap[test_df['image'][i]] == test_df['level'][i]:\n",
    "            correct += 1\n",
    "    else:\n",
    "        predLabels.append(\"NA\")\n",
    "        indexes.append(i)\n",
    "acc = (correct / len(test_df['level'])) * 100\n",
    "print(acc)\n",
    "\n",
    "test_df['predLevel'] = predLabels\n",
    "test_df.drop(indexes, axis=0, inplace=True)\n",
    "# test_df.to_csv(\"./InceptionV3AndInceptionResNetV2predictions.csv\", index=False)\n",
    "\n",
    "print(classification_report(test_df['level'], test_df['predLevel']))\n",
    "\n",
    "print(confusion_matrix(test_df[\"level\"], test_df[\"predLevel\"]))\n",
    "\n",
    "print(\"Test Accuracy score : \", accuracy_score(test_df['level'], test_df['predLevel']))\n",
    "print(\"Test Weighted F1 score : \", f1_score(test_df['level'], test_df['predLevel'], average=\"weighted\"))\n",
    "print(\"Test Micro F1 score : \", f1_score(test_df['level'], test_df['predLevel'], average=\"micro\"))\n",
    "print(\"Test Precision score : \", precision_score(test_df['level'], test_df['predLevel'], average=\"weighted\"))\n",
    "print(\"Test Recall score : \", recall_score(test_df['level'], test_df['predLevel'], average=\"weighted\"))\n",
    "print(\"Test Cohen Kappa Score : \", cohen_kappa_score(test_df['level'], test_df['predLevel'], weights=\"quadratic\"))"
   ]
  }
 ],
 "metadata": {
  "kernelspec": {
   "display_name": "Python 3",
   "language": "python",
   "name": "python3"
  },
  "language_info": {
   "codemirror_mode": {
    "name": "ipython",
    "version": 3
   },
   "file_extension": ".py",
   "mimetype": "text/x-python",
   "name": "python",
   "nbconvert_exporter": "python",
   "pygments_lexer": "ipython3",
   "version": "3.7.12"
  },
  "papermill": {
   "default_parameters": {},
   "duration": 2599.465702,
   "end_time": "2022-07-12T23:13:13.501981",
   "environment_variables": {},
   "exception": null,
   "input_path": "__notebook__.ipynb",
   "output_path": "__notebook__.ipynb",
   "parameters": {},
   "start_time": "2022-07-12T22:29:54.036279",
   "version": "2.3.4"
  }
 },
 "nbformat": 4,
 "nbformat_minor": 5
}
