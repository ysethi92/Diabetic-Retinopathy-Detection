{
 "cells": [
  {
   "cell_type": "code",
   "execution_count": 1,
   "id": "a60ff64f",
   "metadata": {
    "_cell_guid": "b1076dfc-b9ad-4769-8c92-a6c4dae69d19",
    "_uuid": "8f2839f25d086af736a60e9eeb907d3b93b6e0e5",
    "execution": {
     "iopub.execute_input": "2022-04-21T20:30:38.765871Z",
     "iopub.status.busy": "2022-04-21T20:30:38.760608Z",
     "iopub.status.idle": "2022-04-21T20:30:45.061528Z",
     "shell.execute_reply": "2022-04-21T20:30:45.060548Z",
     "shell.execute_reply.started": "2022-04-21T20:10:13.619177Z"
    },
    "papermill": {
     "duration": 6.327739,
     "end_time": "2022-04-21T20:30:45.061694",
     "exception": false,
     "start_time": "2022-04-21T20:30:38.733955",
     "status": "completed"
    },
    "tags": []
   },
   "outputs": [],
   "source": [
    "import os\n",
    "import time\n",
    "import shutil\n",
    "from collections import Counter\n",
    "import tensorflow as tf\n",
    "import numpy as np\n",
    "import pandas as pd\n",
    "import cv2\n",
    "import keras\n",
    "import gc\n",
    "import warnings\n",
    "from PIL import Image\n",
    "%matplotlib inline\n",
    "from keras.models import Sequential,Model\n",
    "from tensorflow.keras.applications import ResNet50, ResNet50V2\n",
    "from keras.layers import Dense, Activation, Dropout\n",
    "import keras.backend as K\n",
    "from tensorflow.keras.optimizers import Adam, RMSprop, SGD\n",
    "from keras.preprocessing.image import ImageDataGenerator\n",
    "from keras.layers import BatchNormalization\n",
    "from keras.layers import Conv2D, MaxPool2D, AvgPool2D, Flatten, GlobalAveragePooling2D, AveragePooling2D\n",
    "from keras.callbacks import ReduceLROnPlateau, EarlyStopping\n",
    "from sklearn.metrics import accuracy_score, f1_score, precision_score, recall_score, confusion_matrix, classification_report\n",
    "\n",
    "warnings.filterwarnings(\"ignore\")"
   ]
  },
  {
   "cell_type": "code",
   "execution_count": 3,
   "id": "dd2bc672",
   "metadata": {
    "execution": {
     "iopub.execute_input": "2022-04-21T20:30:45.146341Z",
     "iopub.status.busy": "2022-04-21T20:30:45.145578Z",
     "iopub.status.idle": "2022-04-21T20:30:45.155679Z",
     "shell.execute_reply": "2022-04-21T20:30:45.155261Z",
     "shell.execute_reply.started": "2022-04-21T20:10:20.116099Z"
    },
    "papermill": {
     "duration": 0.032048,
     "end_time": "2022-04-21T20:30:45.155787",
     "exception": false,
     "start_time": "2022-04-21T20:30:45.123739",
     "status": "completed"
    },
    "tags": []
   },
   "outputs": [],
   "source": [
    "img_size = (512,512)\n",
    "batch_size = 16\n",
    "# optimizer = SGD(learning_rate=5e-5, momentum=0.9)\n",
    "optimizer = Adam(learning_rate=1e-4)\n",
    "foldId = 0"
   ]
  },
  {
   "cell_type": "code",
   "execution_count": 5,
   "id": "0311c25d",
   "metadata": {
    "execution": {
     "iopub.execute_input": "2022-04-21T20:30:45.234532Z",
     "iopub.status.busy": "2022-04-21T20:30:45.233715Z",
     "iopub.status.idle": "2022-04-21T20:31:40.895479Z",
     "shell.execute_reply": "2022-04-21T20:31:40.896066Z",
     "shell.execute_reply.started": "2022-04-21T20:10:27.433862Z"
    },
    "papermill": {
     "duration": 55.682074,
     "end_time": "2022-04-21T20:31:40.896236",
     "exception": false,
     "start_time": "2022-04-21T20:30:45.214162",
     "status": "completed"
    },
    "tags": []
   },
   "outputs": [
    {
     "name": "stdout",
     "output_type": "stream",
     "text": [
      "Found 25210 validated image filenames belonging to 5 classes.\n"
     ]
    }
   ],
   "source": [
    "train_datagen = ImageDataGenerator(rotation_range=90,\n",
    "                            brightness_range=[0.7, 1.3],\n",
    "                            zoom_range=[0.5,1.0],\n",
    "                            horizontal_flip=True,\n",
    "                            vertical_flip=True)\n",
    "    \n",
    "train_df = pd.read_csv(\"../input/diabetic-retinopathy-preprocessed-data/trainLabels.csv\")\n",
    "\n",
    "indexes = []\n",
    "for i in range(len(train_df['image'])):\n",
    "    if train_df['kfold'][i] == foldId:\n",
    "        indexes.append(i)\n",
    "train_df.drop(indexes, axis=0, inplace=True)\n",
    "\n",
    "train_df['image'] = [str(x)+'.jpeg' for x in train_df['image']]\n",
    "train_df['level'] = [str(x) for x in train_df['level']]\n",
    "train_generator = train_datagen.flow_from_dataframe(\n",
    "    dataframe=train_df,\n",
    "    directory=\"../input/diabetic-retinopathy-preprocessed-data/Data/Data/train\",\n",
    "    x_col=\"image\",\n",
    "    y_col='level',\n",
    "    subset=\"training\",\n",
    "    batch_size=16,\n",
    "    seed=42,\n",
    "    shuffle=True,\n",
    "    class_mode=\"categorical\",\n",
    "    target_size=img_size,\n",
    "    save_to_dir=\"./\",\n",
    "    save_format='jpeg')"
   ]
  },
  {
   "cell_type": "code",
   "execution_count": 7,
   "id": "c514503d",
   "metadata": {
    "execution": {
     "iopub.execute_input": "2022-04-21T20:31:40.981255Z",
     "iopub.status.busy": "2022-04-21T20:31:40.980382Z",
     "iopub.status.idle": "2022-04-21T20:31:59.463822Z",
     "shell.execute_reply": "2022-04-21T20:31:59.464625Z",
     "shell.execute_reply.started": "2022-04-21T20:10:30.567663Z"
    },
    "papermill": {
     "duration": 18.509105,
     "end_time": "2022-04-21T20:31:59.464843",
     "exception": false,
     "start_time": "2022-04-21T20:31:40.955738",
     "status": "completed"
    },
    "tags": []
   },
   "outputs": [
    {
     "name": "stdout",
     "output_type": "stream",
     "text": [
      "Found 8404 validated image filenames belonging to 5 classes.\n"
     ]
    }
   ],
   "source": [
    "val_datagen = ImageDataGenerator()\n",
    "val_df = pd.read_csv(\"../input/diabetic-retinopathy-preprocessed-data/trainLabels.csv\")\n",
    "indexes = []\n",
    "for i in range(len(val_df['image'])):\n",
    "    if val_df['kfold'][i] != foldId:\n",
    "        indexes.append(i)\n",
    "val_df.drop(indexes, axis=0, inplace=True)\n",
    "\n",
    "val_df['image'] = [str(x)+'.jpeg' for x in val_df['image']]\n",
    "val_df['level'] = [str(x) for x in val_df['level']]\n",
    "val_generator = val_datagen.flow_from_dataframe(\n",
    "    dataframe=val_df,\n",
    "    directory=\"../input/diabetic-retinopathy-preprocessed-data/Data/Data/train\",\n",
    "    x_col=\"image\",\n",
    "    y_col='level',\n",
    "    batch_size=32,\n",
    "    seed=42,\n",
    "    shuffle=True,\n",
    "    class_mode=\"categorical\",\n",
    "    target_size=img_size)"
   ]
  },
  {
   "cell_type": "code",
   "execution_count": 8,
   "id": "55c712f4",
   "metadata": {
    "execution": {
     "iopub.execute_input": "2022-04-21T20:31:59.510679Z",
     "iopub.status.busy": "2022-04-21T20:31:59.510094Z",
     "iopub.status.idle": "2022-04-21T20:32:52.460310Z",
     "shell.execute_reply": "2022-04-21T20:32:52.461292Z",
     "shell.execute_reply.started": "2022-04-21T20:10:32.106431Z"
    },
    "papermill": {
     "duration": 52.976381,
     "end_time": "2022-04-21T20:32:52.461502",
     "exception": false,
     "start_time": "2022-04-21T20:31:59.485121",
     "status": "completed"
    },
    "tags": []
   },
   "outputs": [
    {
     "name": "stdout",
     "output_type": "stream",
     "text": [
      "Found 53574 validated image filenames belonging to 5 classes.\n"
     ]
    }
   ],
   "source": [
    "test_datagen = ImageDataGenerator()\n",
    "test_df = pd.read_csv(\"../input/diabetic-retinopathy-preprocessed-data/Data/Data/test_labels.csv\")\n",
    "test_df['image'] = [str(x)+'.jpeg' for x in test_df['image']]\n",
    "test_df['level'] = [str(x) for x in test_df['level']]\n",
    "test_generator = test_datagen.flow_from_dataframe(\n",
    "    dataframe=test_df,\n",
    "    directory=\"../input/diabetic-retinopathy-preprocessed-data/Data/Data/test\",\n",
    "    x_col=\"image\",\n",
    "    y_col='level',\n",
    "    batch_size=1,\n",
    "    seed=42,\n",
    "    shuffle=False,\n",
    "    class_mode=\"categorical\",\n",
    "    target_size=img_size)"
   ]
  },
  {
   "cell_type": "code",
   "execution_count": 9,
   "id": "c5bab083",
   "metadata": {
    "execution": {
     "iopub.execute_input": "2022-04-21T20:32:52.532336Z",
     "iopub.status.busy": "2022-04-21T20:32:52.531493Z",
     "iopub.status.idle": "2022-04-21T20:32:56.937896Z",
     "shell.execute_reply": "2022-04-21T20:32:56.937252Z",
     "shell.execute_reply.started": "2022-04-21T20:10:33.172071Z"
    },
    "papermill": {
     "duration": 4.439955,
     "end_time": "2022-04-21T20:32:56.938083",
     "exception": false,
     "start_time": "2022-04-21T20:32:52.498128",
     "status": "completed"
    },
    "tags": []
   },
   "outputs": [
    {
     "name": "stderr",
     "output_type": "stream",
     "text": [
      "2022-04-21 20:32:52.640332: I tensorflow/stream_executor/cuda/cuda_gpu_executor.cc:937] successful NUMA node read from SysFS had negative value (-1), but there must be at least one NUMA node, so returning NUMA node zero\n",
      "2022-04-21 20:32:52.726587: I tensorflow/stream_executor/cuda/cuda_gpu_executor.cc:937] successful NUMA node read from SysFS had negative value (-1), but there must be at least one NUMA node, so returning NUMA node zero\n",
      "2022-04-21 20:32:52.727461: I tensorflow/stream_executor/cuda/cuda_gpu_executor.cc:937] successful NUMA node read from SysFS had negative value (-1), but there must be at least one NUMA node, so returning NUMA node zero\n",
      "2022-04-21 20:32:52.728628: I tensorflow/core/platform/cpu_feature_guard.cc:142] This TensorFlow binary is optimized with oneAPI Deep Neural Network Library (oneDNN) to use the following CPU instructions in performance-critical operations:  AVX2 AVX512F FMA\n",
      "To enable them in other operations, rebuild TensorFlow with the appropriate compiler flags.\n",
      "2022-04-21 20:32:52.729623: I tensorflow/stream_executor/cuda/cuda_gpu_executor.cc:937] successful NUMA node read from SysFS had negative value (-1), but there must be at least one NUMA node, so returning NUMA node zero\n",
      "2022-04-21 20:32:52.730378: I tensorflow/stream_executor/cuda/cuda_gpu_executor.cc:937] successful NUMA node read from SysFS had negative value (-1), but there must be at least one NUMA node, so returning NUMA node zero\n",
      "2022-04-21 20:32:52.731087: I tensorflow/stream_executor/cuda/cuda_gpu_executor.cc:937] successful NUMA node read from SysFS had negative value (-1), but there must be at least one NUMA node, so returning NUMA node zero\n",
      "2022-04-21 20:32:54.528653: I tensorflow/stream_executor/cuda/cuda_gpu_executor.cc:937] successful NUMA node read from SysFS had negative value (-1), but there must be at least one NUMA node, so returning NUMA node zero\n",
      "2022-04-21 20:32:54.529567: I tensorflow/stream_executor/cuda/cuda_gpu_executor.cc:937] successful NUMA node read from SysFS had negative value (-1), but there must be at least one NUMA node, so returning NUMA node zero\n",
      "2022-04-21 20:32:54.530299: I tensorflow/stream_executor/cuda/cuda_gpu_executor.cc:937] successful NUMA node read from SysFS had negative value (-1), but there must be at least one NUMA node, so returning NUMA node zero\n",
      "2022-04-21 20:32:54.530887: I tensorflow/core/common_runtime/gpu/gpu_device.cc:1510] Created device /job:localhost/replica:0/task:0/device:GPU:0 with 15403 MB memory:  -> device: 0, name: Tesla P100-PCIE-16GB, pci bus id: 0000:00:04.0, compute capability: 6.0\n"
     ]
    },
    {
     "name": "stdout",
     "output_type": "stream",
     "text": [
      "Downloading data from https://storage.googleapis.com/tensorflow/keras-applications/resnet/resnet50v2_weights_tf_dim_ordering_tf_kernels_notop.h5\n",
      "94674944/94668760 [==============================] - 0s 0us/step\n",
      "94683136/94668760 [==============================] - 0s 0us/step\n",
      "Model: \"sequential\"\n",
      "_________________________________________________________________\n",
      "Layer (type)                 Output Shape              Param #   \n",
      "=================================================================\n",
      "model (Functional)           (None, 524288)            23564800  \n",
      "_________________________________________________________________\n",
      "dropout (Dropout)            (None, 524288)            0         \n",
      "_________________________________________________________________\n",
      "dense (Dense)                (None, 5)                 2621445   \n",
      "=================================================================\n",
      "Total params: 26,186,245\n",
      "Trainable params: 26,140,805\n",
      "Non-trainable params: 45,440\n",
      "_________________________________________________________________\n"
     ]
    }
   ],
   "source": [
    "resnet = ResNet50V2(include_top=False, weights='imagenet', input_shape=(img_size[0], img_size[1], 3))\n",
    "output = resnet.layers[-1].output\n",
    "output = keras.layers.Flatten()(output)\n",
    "resnet = Model(resnet.input, output)\n",
    "\n",
    "model = Sequential()\n",
    "model.add(resnet)\n",
    "model.add(Dropout(0.3))\n",
    "model.add(Dense(5, activation='softmax'))\n",
    "\n",
    "model.compile(optimizer, \n",
    "            loss='categorical_crossentropy',\n",
    "            metrics=['accuracy'])\n",
    "\n",
    "checkpoint_filepath = \"./trainedmodel.h5\"\n",
    "model_checkpoint_callback = tf.keras.callbacks.ModelCheckpoint( filepath=checkpoint_filepath,\n",
    "                          save_weights_only=False,\n",
    "                          monitor='val_loss',\n",
    "                          mode='auto',\n",
    "                          save_best_only=True)\n",
    "\n",
    "early_stopping = EarlyStopping(\n",
    "                monitor=\"val_loss\",\n",
    "                patience=3,\n",
    "                verbose=1,\n",
    "                mode=\"auto\",\n",
    ")\n",
    "\n",
    "model.summary()"
   ]
  },
  {
   "cell_type": "code",
   "execution_count": 10,
   "id": "ee519820",
   "metadata": {
    "execution": {
     "iopub.execute_input": "2022-04-21T20:32:56.989371Z",
     "iopub.status.busy": "2022-04-21T20:32:56.988698Z",
     "iopub.status.idle": "2022-04-21T20:32:56.992231Z",
     "shell.execute_reply": "2022-04-21T20:32:56.991775Z",
     "shell.execute_reply.started": "2022-04-21T20:10:50.499809Z"
    },
    "papermill": {
     "duration": 0.030364,
     "end_time": "2022-04-21T20:32:56.992353",
     "exception": false,
     "start_time": "2022-04-21T20:32:56.961989",
     "status": "completed"
    },
    "tags": []
   },
   "outputs": [],
   "source": [
    "STEP_SIZE_TRAIN=train_generator.n//train_generator.batch_size\n",
    "STEP_SIZE_VALID=val_generator.n//val_generator.batch_size\n",
    "STEP_SIZE_TEST=test_generator.n//test_generator.batch_size"
   ]
  },
  {
   "cell_type": "code",
   "execution_count": 11,
   "id": "c274cd29",
   "metadata": {
    "execution": {
     "iopub.execute_input": "2022-04-21T20:32:57.045378Z",
     "iopub.status.busy": "2022-04-21T20:32:57.044556Z",
     "iopub.status.idle": "2022-04-22T05:19:17.077482Z",
     "shell.execute_reply": "2022-04-22T05:19:17.069933Z",
     "shell.execute_reply.started": "2022-04-21T20:10:51.582008Z"
    },
    "papermill": {
     "duration": 31580.067575,
     "end_time": "2022-04-22T05:19:17.082950",
     "exception": false,
     "start_time": "2022-04-21T20:32:57.015375",
     "status": "completed"
    },
    "tags": []
   },
   "outputs": [
    {
     "name": "stderr",
     "output_type": "stream",
     "text": [
      "2022-04-21 20:32:58.419613: I tensorflow/compiler/mlir/mlir_graph_optimization_pass.cc:185] None of the MLIR Optimization Passes are enabled (registered 2)\n"
     ]
    },
    {
     "name": "stdout",
     "output_type": "stream",
     "text": [
      "Epoch 1/25\n"
     ]
    },
    {
     "name": "stderr",
     "output_type": "stream",
     "text": [
      "2022-04-21 20:33:05.283783: I tensorflow/stream_executor/cuda/cuda_dnn.cc:369] Loaded cuDNN version 8005\n"
     ]
    },
    {
     "name": "stdout",
     "output_type": "stream",
     "text": [
      "1575/1575 [==============================] - 2535s 2s/step - loss: 0.8222 - accuracy: 0.7535 - val_loss: 0.6666 - val_accuracy: 0.7818\n",
      "Epoch 2/25\n",
      "1575/1575 [==============================] - 2392s 2s/step - loss: 0.6611 - accuracy: 0.7886 - val_loss: 0.6599 - val_accuracy: 0.7926\n",
      "Epoch 3/25\n",
      "1575/1575 [==============================] - 2318s 1s/step - loss: 0.6227 - accuracy: 0.8024 - val_loss: 0.6238 - val_accuracy: 0.7975\n",
      "Epoch 4/25\n",
      "1575/1575 [==============================] - 2381s 2s/step - loss: 0.6063 - accuracy: 0.8061 - val_loss: 0.6311 - val_accuracy: 0.7931\n",
      "Epoch 5/25\n",
      "1575/1575 [==============================] - 2399s 2s/step - loss: 0.5972 - accuracy: 0.8090 - val_loss: 0.6167 - val_accuracy: 0.8055\n",
      "Epoch 6/25\n",
      "1575/1575 [==============================] - 2399s 2s/step - loss: 0.5812 - accuracy: 0.8126 - val_loss: 0.6174 - val_accuracy: 0.8058\n",
      "Epoch 7/25\n",
      "1575/1575 [==============================] - 2429s 2s/step - loss: 0.5755 - accuracy: 0.8167 - val_loss: 0.5710 - val_accuracy: 0.8127\n",
      "Epoch 8/25\n",
      "1575/1575 [==============================] - 2445s 2s/step - loss: 0.5690 - accuracy: 0.8188 - val_loss: 0.5806 - val_accuracy: 0.8124\n",
      "Epoch 9/25\n",
      "1575/1575 [==============================] - 2392s 2s/step - loss: 0.5553 - accuracy: 0.8198 - val_loss: 0.5792 - val_accuracy: 0.8106\n",
      "Epoch 10/25\n",
      "1575/1575 [==============================] - 2401s 2s/step - loss: 0.5479 - accuracy: 0.8250 - val_loss: 0.5560 - val_accuracy: 0.8191\n",
      "Epoch 11/25\n",
      "1575/1575 [==============================] - 2408s 2s/step - loss: 0.5461 - accuracy: 0.8245 - val_loss: 0.6158 - val_accuracy: 0.8053\n",
      "Epoch 12/25\n",
      "1575/1575 [==============================] - 2415s 2s/step - loss: 0.5432 - accuracy: 0.8245 - val_loss: 0.6172 - val_accuracy: 0.7983\n",
      "Epoch 13/25\n",
      "1575/1575 [==============================] - 2480s 2s/step - loss: 0.5358 - accuracy: 0.8267 - val_loss: 0.6154 - val_accuracy: 0.8070\n",
      "Epoch 00013: early stopping\n"
     ]
    },
    {
     "data": {
      "text/plain": [
       "<keras.callbacks.History at 0x7f55ced880d0>"
      ]
     },
     "execution_count": 11,
     "metadata": {},
     "output_type": "execute_result"
    }
   ],
   "source": [
    "model.fit_generator(generator=train_generator,\n",
    "                    steps_per_epoch=STEP_SIZE_TRAIN,\n",
    "                    validation_data=val_generator,\n",
    "                    validation_steps=STEP_SIZE_VALID,\n",
    "                    epochs=25, \n",
    "                    callbacks=[model_checkpoint_callback, early_stopping])"
   ]
  },
  {
   "cell_type": "code",
   "execution_count": 12,
   "id": "5c6c9429",
   "metadata": {
    "execution": {
     "iopub.execute_input": "2022-04-22T05:19:30.533901Z",
     "iopub.status.busy": "2022-04-22T05:19:30.533229Z",
     "iopub.status.idle": "2022-04-22T05:38:37.278919Z",
     "shell.execute_reply": "2022-04-22T05:38:37.278071Z",
     "shell.execute_reply.started": "2022-04-21T19:48:29.630534Z"
    },
    "papermill": {
     "duration": 1153.428125,
     "end_time": "2022-04-22T05:38:37.279079",
     "exception": false,
     "start_time": "2022-04-22T05:19:23.850954",
     "status": "completed"
    },
    "tags": []
   },
   "outputs": [
    {
     "name": "stdout",
     "output_type": "stream",
     "text": [
      "53574/53574 [==============================] - 1105s 21ms/step\n"
     ]
    }
   ],
   "source": [
    "test_generator.reset()\n",
    "pred=model.predict_generator(test_generator,\n",
    "                            steps=STEP_SIZE_TEST,\n",
    "                            verbose=1)"
   ]
  },
  {
   "cell_type": "code",
   "execution_count": 13,
   "id": "ac47c2a2",
   "metadata": {
    "execution": {
     "iopub.execute_input": "2022-04-22T05:39:03.335145Z",
     "iopub.status.busy": "2022-04-22T05:39:03.334340Z",
     "iopub.status.idle": "2022-04-22T05:39:03.371499Z",
     "shell.execute_reply": "2022-04-22T05:39:03.370924Z",
     "shell.execute_reply.started": "2022-04-21T19:48:58.23603Z"
    },
    "papermill": {
     "duration": 13.605901,
     "end_time": "2022-04-22T05:39:03.371627",
     "exception": false,
     "start_time": "2022-04-22T05:38:49.765726",
     "status": "completed"
    },
    "tags": []
   },
   "outputs": [],
   "source": [
    "predicted_class_indices=np.argmax(pred,axis=1)\n",
    "labels = (train_generator.class_indices)\n",
    "labels = dict((v,k) for k,v in labels.items())\n",
    "\n",
    "predictions = [labels[k] for k in predicted_class_indices]\n",
    "filenames=test_generator.filenames\n",
    "\n",
    "res = {filenames[i]: predictions[i] for i in range(len(filenames))}"
   ]
  },
  {
   "cell_type": "code",
   "execution_count": 14,
   "id": "5b1d1ef2",
   "metadata": {
    "execution": {
     "iopub.execute_input": "2022-04-22T05:39:29.341829Z",
     "iopub.status.busy": "2022-04-22T05:39:29.341003Z",
     "iopub.status.idle": "2022-04-22T05:39:29.356266Z",
     "shell.execute_reply": "2022-04-22T05:39:29.356880Z",
     "shell.execute_reply.started": "2022-04-21T18:17:36.586698Z"
    },
    "papermill": {
     "duration": 13.203531,
     "end_time": "2022-04-22T05:39:29.357099",
     "exception": false,
     "start_time": "2022-04-22T05:39:16.153568",
     "status": "completed"
    },
    "tags": []
   },
   "outputs": [
    {
     "name": "stdout",
     "output_type": "stream",
     "text": [
      "[('0', 46536), ('1', 248), ('2', 5764), ('3', 802), ('4', 224)]\n",
      "[('0', 39533), ('1', 3762), ('2', 7861), ('3', 1214), ('4', 1206)]\n"
     ]
    }
   ],
   "source": [
    "from collections import Counter\n",
    "P = Counter(predictions)\n",
    "T = Counter(test_df['level'])\n",
    "print(sorted(P.items()))\n",
    "print(sorted(T.items()))"
   ]
  },
  {
   "cell_type": "code",
   "execution_count": 15,
   "id": "f408087f",
   "metadata": {
    "execution": {
     "iopub.execute_input": "2022-04-22T05:39:54.783607Z",
     "iopub.status.busy": "2022-04-22T05:39:54.768309Z",
     "iopub.status.idle": "2022-04-22T05:39:57.780901Z",
     "shell.execute_reply": "2022-04-22T05:39:57.782216Z",
     "shell.execute_reply.started": "2022-04-21T19:49:19.751161Z"
    },
    "papermill": {
     "duration": 15.807871,
     "end_time": "2022-04-22T05:39:57.782438",
     "exception": false,
     "start_time": "2022-04-22T05:39:41.974567",
     "status": "completed"
    },
    "tags": []
   },
   "outputs": [
    {
     "name": "stdout",
     "output_type": "stream",
     "text": [
      "14213.666666666666\n"
     ]
    }
   ],
   "source": [
    "correct = 0\n",
    "predLabels = []\n",
    "indexes = []\n",
    "for i in range(len(test_df['image'])):\n",
    "    if test_df['image'][i] in res:\n",
    "        predLabels.append(res[test_df['image'][i]])\n",
    "        if res[test_df['image'][i]] == test_df['level'][i]:\n",
    "            correct += 1\n",
    "    else:\n",
    "        predLabels.append(\"NA\")\n",
    "        indexes.append(i)\n",
    "acc = (correct / len(test_df['level'].head(300))) * 100\n",
    "print(acc)\n",
    "\n",
    "test_df['predLevel'] = predLabels\n",
    "test_df.drop(indexes, axis=0, inplace=True)\n",
    "test_df.to_csv(\"./predictions.csv\", index=False)\n",
    "\n",
    "model.save('model.h5')"
   ]
  },
  {
   "cell_type": "code",
   "execution_count": 16,
   "id": "9a2520e0",
   "metadata": {
    "execution": {
     "iopub.execute_input": "2022-04-22T05:40:23.645830Z",
     "iopub.status.busy": "2022-04-22T05:40:23.500379Z",
     "iopub.status.idle": "2022-04-22T05:40:29.555205Z",
     "shell.execute_reply": "2022-04-22T05:40:29.555908Z",
     "shell.execute_reply.started": "2022-04-21T19:49:27.105748Z"
    },
    "papermill": {
     "duration": 18.896108,
     "end_time": "2022-04-22T05:40:29.556133",
     "exception": false,
     "start_time": "2022-04-22T05:40:10.660025",
     "status": "completed"
    },
    "tags": []
   },
   "outputs": [
    {
     "name": "stdout",
     "output_type": "stream",
     "text": [
      "              precision    recall  f1-score   support\n",
      "\n",
      "           0       0.83      0.98      0.90     39532\n",
      "           1       0.34      0.02      0.04      3762\n",
      "           2       0.59      0.43      0.50      7860\n",
      "           3       0.44      0.29      0.35      1214\n",
      "           4       0.79      0.15      0.25      1206\n",
      "\n",
      "    accuracy                           0.80     53574\n",
      "   macro avg       0.60      0.37      0.41     53574\n",
      "weighted avg       0.75      0.80      0.75     53574\n",
      "\n",
      "Test Accuracy score :  0.7959271288311495\n",
      "Test Weighted F1 score :  0.7520691078470904\n",
      "Test Micro F1 score :  0.7959271288311495\n",
      "Test Precision score :  0.7507110811034535\n",
      "Test Recall score :  0.7959271288311495\n"
     ]
    }
   ],
   "source": [
    "print(classification_report(test_df['level'], test_df['predLevel']))\n",
    "\n",
    "print(\"Test Accuracy score : \", accuracy_score(test_df['level'], test_df['predLevel']))\n",
    "print(\"Test Weighted F1 score : \", f1_score(test_df['level'], test_df['predLevel'], average=\"weighted\"))\n",
    "print(\"Test Micro F1 score : \", f1_score(test_df['level'], test_df['predLevel'], average=\"micro\"))\n",
    "print(\"Test Precision score : \", precision_score(test_df['level'], test_df['predLevel'], average=\"weighted\"))\n",
    "print(\"Test Recall score : \", recall_score(test_df['level'], test_df['predLevel'], average=\"weighted\"))"
   ]
  },
  {
   "cell_type": "markdown",
   "id": "5bc510a9",
   "metadata": {
    "papermill": {
     "duration": 12.66987,
     "end_time": "2022-04-22T05:40:55.541965",
     "exception": false,
     "start_time": "2022-04-22T05:40:42.872095",
     "status": "completed"
    },
    "tags": []
   },
   "source": [
    "# Testing"
   ]
  },
  {
   "cell_type": "code",
   "execution_count": 17,
   "id": "a7c04c79",
   "metadata": {
    "execution": {
     "iopub.execute_input": "2022-04-22T05:41:21.510913Z",
     "iopub.status.busy": "2022-04-22T05:41:21.509802Z",
     "iopub.status.idle": "2022-04-22T05:41:21.511537Z",
     "shell.execute_reply": "2022-04-22T05:41:21.511935Z",
     "shell.execute_reply.started": "2022-04-12T00:17:07.948957Z"
    },
    "papermill": {
     "duration": 12.462379,
     "end_time": "2022-04-22T05:41:21.512087",
     "exception": false,
     "start_time": "2022-04-22T05:41:09.049708",
     "status": "completed"
    },
    "tags": []
   },
   "outputs": [],
   "source": [
    "# train_datagen = ImageDataGenerator(rescale=1./255)\n",
    "# train_df = pd.read_csv(\"../input/diabetic-retinopathy-preprocessed-data/trainLabels.csv\")\n",
    "\n",
    "# indexes = []\n",
    "# for i in range(len(train_df['image'])):\n",
    "#     if train_df['kfold'][i] == foldId:\n",
    "#         indexes.append(i)\n",
    "# train_df.drop(indexes, axis=0, inplace=True)\n",
    "\n",
    "# train_df['image'] = [str(x)+'.jpeg' for x in train_df['image']]\n",
    "# train_df['level'] = [str(x) for x in train_df['level']]\n",
    "# train_generator = train_datagen.flow_from_dataframe(\n",
    "#     dataframe=train_df,\n",
    "#     directory=\"../input/diabetic-retinopathy-preprocessed-data/Data/Data/train\",\n",
    "#     x_col=\"image\",\n",
    "#     y_col='level',\n",
    "#     subset=\"training\",\n",
    "#     batch_size=16,\n",
    "#     seed=42,\n",
    "#     shuffle=True,\n",
    "#     class_mode=\"categorical\",\n",
    "#     target_size=img_size)\n",
    "\n",
    "# test_datagen = ImageDataGenerator(rescale=1./255)\n",
    "# test_df = pd.read_csv(\"../input/diabetic-retinopathy-preprocessed-data/Data/Data/test_labels.csv\")\n",
    "# test_df['image'] = [str(x)+'.jpeg' for x in test_df['image']]\n",
    "# test_df['level'] = [str(x) for x in test_df['level']]\n",
    "# test_generator = test_datagen.flow_from_dataframe(\n",
    "#     dataframe=test_df,\n",
    "#     directory=\"../input/diabetic-retinopathy-preprocessed-data/Data/Data/test\",\n",
    "#     x_col=\"image\",\n",
    "#     y_col='level',\n",
    "#     batch_size=1,\n",
    "#     seed=42,\n",
    "#     shuffle=False,\n",
    "#     class_mode=\"categorical\",\n",
    "#     target_size=img_size)\n",
    "\n",
    "# resnet = ResNet50V2(include_top=False, weights='imagenet', input_shape=(img_size[0], img_size[1], 3))\n",
    "# output = resnet.layers[-1].output\n",
    "# output = keras.layers.Flatten()(output)\n",
    "# resnet = Model(resnet.input, output)\n",
    "\n",
    "# model = Sequential()\n",
    "# model.add(resnet)\n",
    "# model.add(Dropout(0.1))\n",
    "# model.add(Dense(5, activation='softmax'))\n",
    "\n",
    "# model.compile(optimizer, \n",
    "#             loss='categorical_crossentropy',\n",
    "#             metrics=['accuracy'])\n",
    "\n",
    "# checkpoint_filepath = \"./trainedmodel.h5\"\n",
    "# model_checkpoint_callback = tf.keras.callbacks.ModelCheckpoint( filepath=checkpoint_filepath,\n",
    "#                           save_weights_only=True,\n",
    "#                           monitor='val_loss',\n",
    "#                           mode='auto',\n",
    "#                           save_best_only=True)\n",
    "\n",
    "# early_stopping = EarlyStopping(\n",
    "#                 monitor=\"val_loss\",\n",
    "#                 patience=3,\n",
    "#                 verbose=1,\n",
    "#                 mode=\"auto\",\n",
    "# )\n",
    "\n",
    "# model.summary()\n",
    "\n",
    "# model.load_weights(\"../input/resnet50v2-full-run-model-file/trainedmodel.h5\")\n",
    "\n",
    "# STEP_SIZE_TRAIN=train_generator.n//train_generator.batch_size\n",
    "# STEP_SIZE_TEST=test_generator.n//test_generator.batch_size\n",
    "\n",
    "# test_generator.reset()\n",
    "# pred=model.predict_generator(test_generator,\n",
    "#                             steps=STEP_SIZE_TEST,\n",
    "#                             verbose=1)\n",
    "\n",
    "# predicted_class_indices=np.argmax(pred,axis=1)\n",
    "# labels = (train_generator.class_indices)\n",
    "# labels = dict((v,k) for k,v in labels.items())\n",
    "\n",
    "# predictions = [labels[k] for k in predicted_class_indices]\n",
    "# filenames=test_generator.filenames\n",
    "\n",
    "# res = {filenames[i]: predictions[i] for i in range(len(filenames))}\n",
    "\n",
    "# from collections import Counter\n",
    "# P = Counter(predictions)\n",
    "# T = Counter(test_df['level'])\n",
    "# print(sorted(P.items()))\n",
    "# print(sorted(T.items()))"
   ]
  },
  {
   "cell_type": "code",
   "execution_count": 18,
   "id": "a2cb8435",
   "metadata": {
    "execution": {
     "iopub.execute_input": "2022-04-22T05:41:47.841644Z",
     "iopub.status.busy": "2022-04-22T05:41:47.840860Z",
     "iopub.status.idle": "2022-04-22T05:41:47.843400Z",
     "shell.execute_reply": "2022-04-22T05:41:47.842898Z",
     "shell.execute_reply.started": "2022-04-12T00:19:09.012613Z"
    },
    "papermill": {
     "duration": 13.585234,
     "end_time": "2022-04-22T05:41:47.843517",
     "exception": false,
     "start_time": "2022-04-22T05:41:34.258283",
     "status": "completed"
    },
    "tags": []
   },
   "outputs": [],
   "source": [
    "# correct = 0\n",
    "# for i in range(len(test_df['image'])):\n",
    "#     if test_df['image'][i] in res:\n",
    "#         if res[test_df['image'][i]] == test_df['level'][i]:\n",
    "#             correct += 1\n",
    "\n",
    "# acc = (correct / len(test_df['level'])) * 100 \n",
    "# print(acc)"
   ]
  },
  {
   "cell_type": "code",
   "execution_count": 19,
   "id": "f768234f",
   "metadata": {
    "execution": {
     "iopub.execute_input": "2022-04-22T05:42:13.495343Z",
     "iopub.status.busy": "2022-04-22T05:42:13.493692Z",
     "iopub.status.idle": "2022-04-22T05:42:13.495937Z",
     "shell.execute_reply": "2022-04-22T05:42:13.496438Z",
     "shell.execute_reply.started": "2022-04-12T00:08:33.356368Z"
    },
    "papermill": {
     "duration": 13.140917,
     "end_time": "2022-04-22T05:42:13.496588",
     "exception": false,
     "start_time": "2022-04-22T05:42:00.355671",
     "status": "completed"
    },
    "tags": []
   },
   "outputs": [],
   "source": [
    "# P = [('0', 47049), ('1', 685), ('2', 4520), ('3', 787), ('4', 533)]\n",
    "# T = [('0', 39533), ('1', 3762), ('2', 7861), ('3', 1214), ('4', 1206)]"
   ]
  }
 ],
 "metadata": {
  "kernelspec": {
   "display_name": "Python 3.10.2 64-bit",
   "language": "python",
   "name": "python3"
  },
  "language_info": {
   "codemirror_mode": {
    "name": "ipython",
    "version": 3
   },
   "file_extension": ".py",
   "mimetype": "text/x-python",
   "name": "python",
   "nbconvert_exporter": "python",
   "pygments_lexer": "ipython3",
   "version": "3.10.2"
  },
  "papermill": {
   "default_parameters": {},
   "duration": 33119.404523,
   "end_time": "2022-04-22T05:42:29.823065",
   "environment_variables": {},
   "exception": null,
   "input_path": "__notebook__.ipynb",
   "output_path": "__notebook__.ipynb",
   "parameters": {},
   "start_time": "2022-04-21T20:30:30.418542",
   "version": "2.3.3"
  },
  "vscode": {
   "interpreter": {
    "hash": "2495bdf7ad99c4ee04e6a5b8226d10bd2332bb177642466a267fc170e5439a13"
   }
  }
 },
 "nbformat": 4,
 "nbformat_minor": 5
}
