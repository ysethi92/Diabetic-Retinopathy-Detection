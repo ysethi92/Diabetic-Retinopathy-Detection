{
 "cells": [
  {
   "cell_type": "code",
   "execution_count": 1,
   "id": "26714891",
   "metadata": {
    "_cell_guid": "b1076dfc-b9ad-4769-8c92-a6c4dae69d19",
    "_uuid": "8f2839f25d086af736a60e9eeb907d3b93b6e0e5",
    "execution": {
     "iopub.execute_input": "2022-04-21T04:51:28.148445Z",
     "iopub.status.busy": "2022-04-21T04:51:28.147663Z",
     "iopub.status.idle": "2022-04-21T04:51:33.632681Z",
     "shell.execute_reply": "2022-04-21T04:51:33.631995Z",
     "shell.execute_reply.started": "2022-04-21T04:45:15.758474Z"
    },
    "papermill": {
     "duration": 5.515069,
     "end_time": "2022-04-21T04:51:33.632865",
     "exception": false,
     "start_time": "2022-04-21T04:51:28.117796",
     "status": "completed"
    },
    "tags": []
   },
   "outputs": [],
   "source": [
    "import os\n",
    "import time\n",
    "import shutil\n",
    "import tensorflow as tf\n",
    "import numpy as np\n",
    "import pandas as pd\n",
    "import cv2\n",
    "import keras\n",
    "import gc\n",
    "from PIL import Image\n",
    "%matplotlib inline\n",
    "from keras.models import Sequential,Model\n",
    "from tensorflow.keras.applications import ResNet50, ResNet50V2, EfficientNetB6\n",
    "from keras.layers import Dense, Activation, Dropout\n",
    "import keras.backend as K\n",
    "from tensorflow.keras.optimizers import Adam, RMSprop, SGD\n",
    "from keras.preprocessing.image import ImageDataGenerator\n",
    "from keras.layers import BatchNormalization\n",
    "from keras.layers import Conv2D, MaxPool2D, AvgPool2D, Flatten, GlobalAveragePooling2D, AveragePooling2D\n",
    "from keras.callbacks import ReduceLROnPlateau, EarlyStopping"
   ]
  },
  {
   "cell_type": "code",
   "execution_count": 2,
   "id": "80723fff",
   "metadata": {
    "execution": {
     "iopub.execute_input": "2022-04-21T04:51:33.666958Z",
     "iopub.status.busy": "2022-04-21T04:51:33.666211Z",
     "iopub.status.idle": "2022-04-21T04:51:33.675448Z",
     "shell.execute_reply": "2022-04-21T04:51:33.674777Z",
     "shell.execute_reply.started": "2022-04-21T04:45:17.183645Z"
    },
    "papermill": {
     "duration": 0.027865,
     "end_time": "2022-04-21T04:51:33.675582",
     "exception": false,
     "start_time": "2022-04-21T04:51:33.647717",
     "status": "completed"
    },
    "tags": []
   },
   "outputs": [],
   "source": [
    "img_size = (512,512)\n",
    "# optimizer = SGD(learning_rate=5e-5, momentum=0.9)\n",
    "optimizer = Adam(learning_rate=1e-4)\n",
    "foldId = 0"
   ]
  },
  {
   "cell_type": "code",
   "execution_count": 3,
   "id": "15f75dc5",
   "metadata": {
    "execution": {
     "iopub.execute_input": "2022-04-21T04:51:33.711113Z",
     "iopub.status.busy": "2022-04-21T04:51:33.710592Z",
     "iopub.status.idle": "2022-04-21T04:52:01.234191Z",
     "shell.execute_reply": "2022-04-21T04:52:01.234624Z",
     "shell.execute_reply.started": "2022-04-21T04:50:27.439206Z"
    },
    "papermill": {
     "duration": 27.545664,
     "end_time": "2022-04-21T04:52:01.234787",
     "exception": false,
     "start_time": "2022-04-21T04:51:33.689123",
     "status": "completed"
    },
    "tags": []
   },
   "outputs": [
    {
     "name": "stdout",
     "output_type": "stream",
     "text": [
      "Found 25210 validated image filenames belonging to 5 classes.\n"
     ]
    }
   ],
   "source": [
    "train_datagen = ImageDataGenerator(rescale=1./255)\n",
    "train_df = pd.read_csv(\"../input/diabetic-retinopathy-preprocessed-data/trainLabels.csv\")\n",
    "\n",
    "indexes = []\n",
    "for i in range(len(train_df['image'])):\n",
    "    if train_df['kfold'][i] == foldId:\n",
    "        indexes.append(i)\n",
    "train_df.drop(indexes, axis=0, inplace=True)\n",
    "\n",
    "train_df['image'] = [str(x)+'.jpeg' for x in train_df['image']]\n",
    "train_df['level'] = [str(x) for x in train_df['level']]\n",
    "train_generator = train_datagen.flow_from_dataframe(\n",
    "    dataframe=train_df,\n",
    "    directory=\"../input/diabetic-retinopathy-preprocessed-data/Data/Data/train\",\n",
    "    x_col=\"image\",\n",
    "    y_col='level',\n",
    "    subset=\"training\",\n",
    "    batch_size=4,\n",
    "    seed=42,\n",
    "    shuffle=True,\n",
    "    class_mode=\"categorical\",\n",
    "    target_size=img_size)"
   ]
  },
  {
   "cell_type": "code",
   "execution_count": 4,
   "id": "cb7221da",
   "metadata": {
    "execution": {
     "iopub.execute_input": "2022-04-21T04:52:01.270479Z",
     "iopub.status.busy": "2022-04-21T04:52:01.269621Z",
     "iopub.status.idle": "2022-04-21T04:52:10.845213Z",
     "shell.execute_reply": "2022-04-21T04:52:10.846441Z",
     "shell.execute_reply.started": "2022-04-21T04:46:39.029912Z"
    },
    "papermill": {
     "duration": 9.597542,
     "end_time": "2022-04-21T04:52:10.846652",
     "exception": false,
     "start_time": "2022-04-21T04:52:01.249110",
     "status": "completed"
    },
    "tags": []
   },
   "outputs": [
    {
     "name": "stdout",
     "output_type": "stream",
     "text": [
      "Found 8404 validated image filenames belonging to 5 classes.\n"
     ]
    }
   ],
   "source": [
    "val_datagen = ImageDataGenerator(rescale=1./255)\n",
    "val_df = pd.read_csv(\"../input/diabetic-retinopathy-preprocessed-data/trainLabels.csv\")\n",
    "indexes = []\n",
    "for i in range(len(val_df['image'])):\n",
    "    if val_df['kfold'][i] != foldId:\n",
    "        indexes.append(i)\n",
    "val_df.drop(indexes, axis=0, inplace=True)\n",
    "\n",
    "val_df['image'] = [str(x)+'.jpeg' for x in val_df['image']]\n",
    "val_df['level'] = [str(x) for x in val_df['level']]\n",
    "val_generator = val_datagen.flow_from_dataframe(\n",
    "    dataframe=val_df,\n",
    "    directory=\"../input/diabetic-retinopathy-preprocessed-data/Data/Data/train\",\n",
    "    x_col=\"image\",\n",
    "    y_col='level',\n",
    "    batch_size=8,\n",
    "    seed=42,\n",
    "    shuffle=True,\n",
    "    class_mode=\"categorical\",\n",
    "    target_size=img_size)"
   ]
  },
  {
   "cell_type": "code",
   "execution_count": 5,
   "id": "ccf9e7ff",
   "metadata": {
    "execution": {
     "iopub.execute_input": "2022-04-21T04:52:10.906033Z",
     "iopub.status.busy": "2022-04-21T04:52:10.905268Z",
     "iopub.status.idle": "2022-04-21T04:53:07.541103Z",
     "shell.execute_reply": "2022-04-21T04:53:07.540494Z",
     "shell.execute_reply.started": "2022-04-21T04:47:02.201029Z"
    },
    "papermill": {
     "duration": 56.669217,
     "end_time": "2022-04-21T04:53:07.541253",
     "exception": false,
     "start_time": "2022-04-21T04:52:10.872036",
     "status": "completed"
    },
    "tags": []
   },
   "outputs": [
    {
     "name": "stdout",
     "output_type": "stream",
     "text": [
      "Found 53574 validated image filenames belonging to 5 classes.\n"
     ]
    },
    {
     "name": "stderr",
     "output_type": "stream",
     "text": [
      "/opt/conda/lib/python3.7/site-packages/keras_preprocessing/image/dataframe_iterator.py:282: UserWarning: Found 2 invalid image filename(s) in x_col=\"image\". These filename(s) will be ignored.\n",
      "  .format(n_invalid, x_col)\n"
     ]
    }
   ],
   "source": [
    "test_datagen = ImageDataGenerator(rescale=1./255)\n",
    "test_df = pd.read_csv(\"../input/diabetic-retinopathy-preprocessed-data/Data/Data/test_labels.csv\")\n",
    "test_df['image'] = [str(x)+'.jpeg' for x in test_df['image']]\n",
    "test_df['level'] = [str(x) for x in test_df['level']]\n",
    "test_generator = test_datagen.flow_from_dataframe(\n",
    "    dataframe=test_df,\n",
    "    directory=\"../input/diabetic-retinopathy-preprocessed-data/Data/Data/test\",\n",
    "    x_col=\"image\",\n",
    "    y_col='level',\n",
    "    batch_size=1,\n",
    "    seed=42,\n",
    "    shuffle=False,\n",
    "    class_mode=\"categorical\",\n",
    "    target_size=img_size)"
   ]
  },
  {
   "cell_type": "code",
   "execution_count": 6,
   "id": "63cf8600",
   "metadata": {
    "execution": {
     "iopub.execute_input": "2022-04-21T04:53:07.585147Z",
     "iopub.status.busy": "2022-04-21T04:53:07.584627Z",
     "iopub.status.idle": "2022-04-21T04:53:16.906526Z",
     "shell.execute_reply": "2022-04-21T04:53:16.907242Z",
     "shell.execute_reply.started": "2022-04-21T04:49:21.372832Z"
    },
    "papermill": {
     "duration": 9.3511,
     "end_time": "2022-04-21T04:53:16.907502",
     "exception": false,
     "start_time": "2022-04-21T04:53:07.556402",
     "status": "completed"
    },
    "tags": []
   },
   "outputs": [
    {
     "name": "stderr",
     "output_type": "stream",
     "text": [
      "2022-04-21 04:53:07.682161: I tensorflow/stream_executor/cuda/cuda_gpu_executor.cc:937] successful NUMA node read from SysFS had negative value (-1), but there must be at least one NUMA node, so returning NUMA node zero\n",
      "2022-04-21 04:53:07.758305: I tensorflow/stream_executor/cuda/cuda_gpu_executor.cc:937] successful NUMA node read from SysFS had negative value (-1), but there must be at least one NUMA node, so returning NUMA node zero\n",
      "2022-04-21 04:53:07.759073: I tensorflow/stream_executor/cuda/cuda_gpu_executor.cc:937] successful NUMA node read from SysFS had negative value (-1), but there must be at least one NUMA node, so returning NUMA node zero\n",
      "2022-04-21 04:53:07.761097: I tensorflow/core/platform/cpu_feature_guard.cc:142] This TensorFlow binary is optimized with oneAPI Deep Neural Network Library (oneDNN) to use the following CPU instructions in performance-critical operations:  AVX2 AVX512F FMA\n",
      "To enable them in other operations, rebuild TensorFlow with the appropriate compiler flags.\n",
      "2022-04-21 04:53:07.762308: I tensorflow/stream_executor/cuda/cuda_gpu_executor.cc:937] successful NUMA node read from SysFS had negative value (-1), but there must be at least one NUMA node, so returning NUMA node zero\n",
      "2022-04-21 04:53:07.763260: I tensorflow/stream_executor/cuda/cuda_gpu_executor.cc:937] successful NUMA node read from SysFS had negative value (-1), but there must be at least one NUMA node, so returning NUMA node zero\n",
      "2022-04-21 04:53:07.764243: I tensorflow/stream_executor/cuda/cuda_gpu_executor.cc:937] successful NUMA node read from SysFS had negative value (-1), but there must be at least one NUMA node, so returning NUMA node zero\n",
      "2022-04-21 04:53:09.462101: I tensorflow/stream_executor/cuda/cuda_gpu_executor.cc:937] successful NUMA node read from SysFS had negative value (-1), but there must be at least one NUMA node, so returning NUMA node zero\n",
      "2022-04-21 04:53:09.462972: I tensorflow/stream_executor/cuda/cuda_gpu_executor.cc:937] successful NUMA node read from SysFS had negative value (-1), but there must be at least one NUMA node, so returning NUMA node zero\n",
      "2022-04-21 04:53:09.463664: I tensorflow/stream_executor/cuda/cuda_gpu_executor.cc:937] successful NUMA node read from SysFS had negative value (-1), but there must be at least one NUMA node, so returning NUMA node zero\n",
      "2022-04-21 04:53:09.464254: I tensorflow/core/common_runtime/gpu/gpu_device.cc:1510] Created device /job:localhost/replica:0/task:0/device:GPU:0 with 15403 MB memory:  -> device: 0, name: Tesla P100-PCIE-16GB, pci bus id: 0000:00:04.0, compute capability: 6.0\n"
     ]
    },
    {
     "name": "stdout",
     "output_type": "stream",
     "text": [
      "Downloading data from https://storage.googleapis.com/keras-applications/efficientnetb6_notop.h5\n",
      "165240832/165234480 [==============================] - 1s 0us/step\n",
      "165249024/165234480 [==============================] - 1s 0us/step\n",
      "Model: \"sequential\"\n",
      "_________________________________________________________________\n",
      "Layer (type)                 Output Shape              Param #   \n",
      "=================================================================\n",
      "model (Functional)           (None, 589824)            40960143  \n",
      "_________________________________________________________________\n",
      "dropout (Dropout)            (None, 589824)            0         \n",
      "_________________________________________________________________\n",
      "dense (Dense)                (None, 5)                 2949125   \n",
      "=================================================================\n",
      "Total params: 43,909,268\n",
      "Trainable params: 43,684,829\n",
      "Non-trainable params: 224,439\n",
      "_________________________________________________________________\n"
     ]
    }
   ],
   "source": [
    "efficientNet = EfficientNetB6(include_top=False, weights='imagenet', input_shape=(img_size[0], img_size[1], 3))\n",
    "output = efficientNet.layers[-1].output\n",
    "output = keras.layers.Flatten()(output)\n",
    "efficientNet = Model(efficientNet.input, output)\n",
    "\n",
    "model = Sequential()\n",
    "model.add(efficientNet)\n",
    "model.add(Dropout(0.2))\n",
    "model.add(Dense(5, activation='softmax'))\n",
    "\n",
    "model.compile(optimizer, \n",
    "            loss='categorical_crossentropy',\n",
    "            metrics=['accuracy'])\n",
    "\n",
    "checkpoint_filepath = \"./trainedmodel.h5\"\n",
    "model_checkpoint_callback = tf.keras.callbacks.ModelCheckpoint( filepath=checkpoint_filepath,\n",
    "                          save_weights_only=False,\n",
    "                          monitor='val_loss',\n",
    "                          mode='auto',\n",
    "                          save_best_only=True)\n",
    "\n",
    "early_stopping = EarlyStopping(\n",
    "                monitor=\"val_loss\",\n",
    "                patience=3,\n",
    "                verbose=1,\n",
    "                mode=\"auto\",\n",
    ")\n",
    "\n",
    "model.summary()"
   ]
  },
  {
   "cell_type": "code",
   "execution_count": 7,
   "id": "6ad62437",
   "metadata": {
    "execution": {
     "iopub.execute_input": "2022-04-21T04:53:16.955276Z",
     "iopub.status.busy": "2022-04-21T04:53:16.954774Z",
     "iopub.status.idle": "2022-04-21T04:53:16.958273Z",
     "shell.execute_reply": "2022-04-21T04:53:16.957862Z",
     "shell.execute_reply.started": "2022-04-21T04:50:37.984044Z"
    },
    "papermill": {
     "duration": 0.028706,
     "end_time": "2022-04-21T04:53:16.958401",
     "exception": false,
     "start_time": "2022-04-21T04:53:16.929695",
     "status": "completed"
    },
    "tags": []
   },
   "outputs": [],
   "source": [
    "STEP_SIZE_TRAIN=train_generator.n//train_generator.batch_size\n",
    "STEP_SIZE_VALID=val_generator.n//val_generator.batch_size\n",
    "STEP_SIZE_TEST=test_generator.n//test_generator.batch_size"
   ]
  },
  {
   "cell_type": "code",
   "execution_count": 8,
   "id": "a3db6dcc",
   "metadata": {
    "execution": {
     "iopub.execute_input": "2022-04-21T04:53:17.005324Z",
     "iopub.status.busy": "2022-04-21T04:53:17.004839Z",
     "iopub.status.idle": "2022-04-21T13:36:25.436423Z",
     "shell.execute_reply": "2022-04-21T13:36:25.433850Z",
     "shell.execute_reply.started": "2022-04-21T04:50:39.757798Z"
    },
    "papermill": {
     "duration": 31388.456876,
     "end_time": "2022-04-21T13:36:25.436600",
     "exception": false,
     "start_time": "2022-04-21T04:53:16.979724",
     "status": "completed"
    },
    "tags": []
   },
   "outputs": [
    {
     "name": "stderr",
     "output_type": "stream",
     "text": [
      "/opt/conda/lib/python3.7/site-packages/keras/engine/training.py:1972: UserWarning: `Model.fit_generator` is deprecated and will be removed in a future version. Please use `Model.fit`, which supports generators.\n",
      "  warnings.warn('`Model.fit_generator` is deprecated and '\n",
      "2022-04-21 04:53:17.168374: I tensorflow/compiler/mlir/mlir_graph_optimization_pass.cc:185] None of the MLIR Optimization Passes are enabled (registered 2)\n"
     ]
    },
    {
     "name": "stdout",
     "output_type": "stream",
     "text": [
      "Epoch 1/25\n"
     ]
    },
    {
     "name": "stderr",
     "output_type": "stream",
     "text": [
      "2022-04-21 04:53:40.149077: I tensorflow/stream_executor/cuda/cuda_dnn.cc:369] Loaded cuDNN version 8005\n"
     ]
    },
    {
     "name": "stdout",
     "output_type": "stream",
     "text": [
      "6302/6302 [==============================] - 4477s 706ms/step - loss: 1.5833 - accuracy: 0.6789 - val_loss: 1.9160 - val_accuracy: 0.7590\n"
     ]
    },
    {
     "name": "stderr",
     "output_type": "stream",
     "text": [
      "/opt/conda/lib/python3.7/site-packages/keras/utils/generic_utils.py:497: CustomMaskWarning: Custom mask layers require a config and must override get_config. When loading, the custom mask layer must be passed to the custom_objects argument.\n",
      "  category=CustomMaskWarning)\n"
     ]
    },
    {
     "name": "stdout",
     "output_type": "stream",
     "text": [
      "Epoch 2/25\n",
      "6302/6302 [==============================] - 4443s 705ms/step - loss: 1.3162 - accuracy: 0.7178 - val_loss: 1.9835 - val_accuracy: 0.7632\n",
      "Epoch 3/25\n",
      "6302/6302 [==============================] - 4463s 708ms/step - loss: 1.2564 - accuracy: 0.7276 - val_loss: 1.9831 - val_accuracy: 0.7451\n",
      "Epoch 4/25\n",
      "6302/6302 [==============================] - 4468s 709ms/step - loss: 1.0663 - accuracy: 0.7454 - val_loss: 0.7801 - val_accuracy: 0.8202\n",
      "Epoch 5/25\n",
      "6302/6302 [==============================] - 4455s 707ms/step - loss: 0.8151 - accuracy: 0.7818 - val_loss: 1.2905 - val_accuracy: 0.7917\n",
      "Epoch 6/25\n",
      "6302/6302 [==============================] - 4456s 707ms/step - loss: 0.7001 - accuracy: 0.8037 - val_loss: 1.2929 - val_accuracy: 0.1419\n",
      "Epoch 7/25\n",
      "6302/6302 [==============================] - 4463s 708ms/step - loss: 0.6147 - accuracy: 0.8231 - val_loss: 1.2222 - val_accuracy: 0.6004\n",
      "Epoch 00007: early stopping\n"
     ]
    },
    {
     "data": {
      "text/plain": [
       "<keras.callbacks.History at 0x7f3a5802e790>"
      ]
     },
     "execution_count": 8,
     "metadata": {},
     "output_type": "execute_result"
    }
   ],
   "source": [
    "model.fit_generator(generator=train_generator,\n",
    "                    steps_per_epoch=STEP_SIZE_TRAIN,\n",
    "                    validation_data=val_generator,\n",
    "                    validation_steps=STEP_SIZE_VALID,\n",
    "                    epochs=25, \n",
    "                    callbacks=[model_checkpoint_callback, early_stopping])"
   ]
  },
  {
   "cell_type": "code",
   "execution_count": 9,
   "id": "63725b15",
   "metadata": {
    "execution": {
     "iopub.execute_input": "2022-04-21T13:36:54.118985Z",
     "iopub.status.busy": "2022-04-21T13:36:54.118412Z",
     "iopub.status.idle": "2022-04-21T14:12:50.866224Z",
     "shell.execute_reply": "2022-04-21T14:12:50.865706Z"
    },
    "papermill": {
     "duration": 2170.801012,
     "end_time": "2022-04-21T14:12:50.866462",
     "exception": false,
     "start_time": "2022-04-21T13:36:40.065450",
     "status": "completed"
    },
    "tags": []
   },
   "outputs": [
    {
     "name": "stderr",
     "output_type": "stream",
     "text": [
      "/opt/conda/lib/python3.7/site-packages/keras/engine/training.py:2035: UserWarning: `Model.predict_generator` is deprecated and will be removed in a future version. Please use `Model.predict`, which supports generators.\n",
      "  warnings.warn('`Model.predict_generator` is deprecated and '\n"
     ]
    },
    {
     "name": "stdout",
     "output_type": "stream",
     "text": [
      "53574/53574 [==============================] - 2141s 40ms/step\n"
     ]
    }
   ],
   "source": [
    "test_generator.reset()\n",
    "pred=model.predict_generator(test_generator,\n",
    "                            steps=STEP_SIZE_TEST,\n",
    "                            verbose=1)"
   ]
  },
  {
   "cell_type": "code",
   "execution_count": 10,
   "id": "0083359c",
   "metadata": {
    "execution": {
     "iopub.execute_input": "2022-04-21T14:13:38.907927Z",
     "iopub.status.busy": "2022-04-21T14:13:38.907158Z",
     "iopub.status.idle": "2022-04-21T14:13:38.948169Z",
     "shell.execute_reply": "2022-04-21T14:13:38.948602Z"
    },
    "papermill": {
     "duration": 23.924622,
     "end_time": "2022-04-21T14:13:38.948756",
     "exception": false,
     "start_time": "2022-04-21T14:13:15.024134",
     "status": "completed"
    },
    "tags": []
   },
   "outputs": [],
   "source": [
    "predicted_class_indices=np.argmax(pred,axis=1)\n",
    "labels = (train_generator.class_indices)\n",
    "labels = dict((v,k) for k,v in labels.items())\n",
    "\n",
    "predictions = [labels[k] for k in predicted_class_indices]\n",
    "filenames=test_generator.filenames\n",
    "\n",
    "res = {filenames[i]: predictions[i] for i in range(len(filenames))}"
   ]
  },
  {
   "cell_type": "code",
   "execution_count": 11,
   "id": "d6bf9720",
   "metadata": {
    "execution": {
     "iopub.execute_input": "2022-04-21T14:14:26.946293Z",
     "iopub.status.busy": "2022-04-21T14:14:26.940918Z",
     "iopub.status.idle": "2022-04-21T14:14:26.961384Z",
     "shell.execute_reply": "2022-04-21T14:14:26.960919Z"
    },
    "papermill": {
     "duration": 23.927538,
     "end_time": "2022-04-21T14:14:26.961510",
     "exception": false,
     "start_time": "2022-04-21T14:14:03.033972",
     "status": "completed"
    },
    "tags": []
   },
   "outputs": [
    {
     "name": "stdout",
     "output_type": "stream",
     "text": [
      "[('0', 42564), ('1', 10568), ('2', 442)]\n",
      "[('0', 39533), ('1', 3762), ('2', 7861), ('3', 1214), ('4', 1206)]\n"
     ]
    }
   ],
   "source": [
    "from collections import Counter\n",
    "P = Counter(predictions)\n",
    "T = Counter(test_df['level'])\n",
    "print(sorted(P.items()))\n",
    "print(sorted(T.items()))"
   ]
  },
  {
   "cell_type": "code",
   "execution_count": 12,
   "id": "cb392d59",
   "metadata": {
    "execution": {
     "iopub.execute_input": "2022-04-21T14:15:14.861584Z",
     "iopub.status.busy": "2022-04-21T14:15:14.846312Z",
     "iopub.status.idle": "2022-04-21T14:15:18.835940Z",
     "shell.execute_reply": "2022-04-21T14:15:18.836455Z"
    },
    "papermill": {
     "duration": 27.76306,
     "end_time": "2022-04-21T14:15:18.836616",
     "exception": false,
     "start_time": "2022-04-21T14:14:51.073556",
     "status": "completed"
    },
    "tags": []
   },
   "outputs": [
    {
     "name": "stdout",
     "output_type": "stream",
     "text": [
      "59.59198148424668\n"
     ]
    }
   ],
   "source": [
    "correct = 0\n",
    "predLabels = []\n",
    "indexes = []\n",
    "for i in range(len(test_df['image'])):\n",
    "    if test_df['image'][i] in res:\n",
    "        predLabels.append(res[test_df['image'][i]])\n",
    "        if res[test_df['image'][i]] == test_df['level'][i]:\n",
    "            correct += 1\n",
    "    else:\n",
    "        predLabels.append(\"NA\")\n",
    "        indexes.append(i)\n",
    "acc = (correct / len(test_df['level'])) * 100\n",
    "print(acc)\n",
    "\n",
    "test_df['predLevel'] = predLabels\n",
    "test_df.drop(indexes, axis=0, inplace=True)\n",
    "test_df.to_csv(\"./predictions.csv\", index=False)\n",
    "\n",
    "model.save('model.h5')"
   ]
  }
 ],
 "metadata": {
  "kernelspec": {
   "display_name": "Python 3",
   "language": "python",
   "name": "python3"
  },
  "language_info": {
   "codemirror_mode": {
    "name": "ipython",
    "version": 3
   },
   "file_extension": ".py",
   "mimetype": "text/x-python",
   "name": "python",
   "nbconvert_exporter": "python",
   "pygments_lexer": "ipython3",
   "version": "3.7.12"
  },
  "papermill": {
   "default_parameters": {},
   "duration": 34058.146219,
   "end_time": "2022-04-21T14:18:58.419168",
   "environment_variables": {},
   "exception": null,
   "input_path": "__notebook__.ipynb",
   "output_path": "__notebook__.ipynb",
   "parameters": {},
   "start_time": "2022-04-21T04:51:20.272949",
   "version": "2.3.3"
  }
 },
 "nbformat": 4,
 "nbformat_minor": 5
}
