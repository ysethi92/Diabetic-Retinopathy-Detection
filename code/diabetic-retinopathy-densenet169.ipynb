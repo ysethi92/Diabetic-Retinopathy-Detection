{
 "cells": [
  {
   "cell_type": "code",
   "execution_count": 1,
   "id": "0734fbca",
   "metadata": {
    "_cell_guid": "b1076dfc-b9ad-4769-8c92-a6c4dae69d19",
    "_uuid": "8f2839f25d086af736a60e9eeb907d3b93b6e0e5",
    "execution": {
     "iopub.execute_input": "2022-07-12T14:56:07.953630Z",
     "iopub.status.busy": "2022-07-12T14:56:07.951753Z",
     "iopub.status.idle": "2022-07-12T14:56:14.460409Z",
     "shell.execute_reply": "2022-07-12T14:56:14.459616Z",
     "shell.execute_reply.started": "2022-07-12T14:38:22.609162Z"
    },
    "papermill": {
     "duration": 6.529141,
     "end_time": "2022-07-12T14:56:14.460584",
     "exception": false,
     "start_time": "2022-07-12T14:56:07.931443",
     "status": "completed"
    },
    "tags": []
   },
   "outputs": [],
   "source": [
    "import os\n",
    "import time\n",
    "import shutil\n",
    "import tensorflow as tf\n",
    "import numpy as np\n",
    "import pandas as pd\n",
    "import cv2\n",
    "import keras\n",
    "import gc\n",
    "from PIL import Image\n",
    "%matplotlib inline\n",
    "from keras.models import Sequential,Model\n",
    "from tensorflow.keras.applications import ResNet50, ResNet50V2, DenseNet169\n",
    "from keras.layers import Dense, Activation, Dropout\n",
    "import keras.backend as K\n",
    "from tensorflow.keras.optimizers import Adam, RMSprop, SGD\n",
    "from keras.preprocessing.image import ImageDataGenerator\n",
    "from keras.layers import BatchNormalization\n",
    "from keras.layers import Conv2D, MaxPool2D, AvgPool2D, Flatten, GlobalAveragePooling2D, AveragePooling2D\n",
    "from keras.callbacks import ReduceLROnPlateau, EarlyStopping\n",
    "from sklearn.metrics import accuracy_score, f1_score, precision_score, recall_score, confusion_matrix, classification_report, cohen_kappa_score, roc_auc_score"
   ]
  },
  {
   "cell_type": "code",
   "execution_count": 2,
   "id": "e4b35dbc",
   "metadata": {
    "execution": {
     "iopub.execute_input": "2022-07-12T14:56:14.495679Z",
     "iopub.status.busy": "2022-07-12T14:56:14.495066Z",
     "iopub.status.idle": "2022-07-12T14:56:14.503908Z",
     "shell.execute_reply": "2022-07-12T14:56:14.503429Z",
     "shell.execute_reply.started": "2022-07-12T14:38:29.546036Z"
    },
    "papermill": {
     "duration": 0.027213,
     "end_time": "2022-07-12T14:56:14.504024",
     "exception": false,
     "start_time": "2022-07-12T14:56:14.476811",
     "status": "completed"
    },
    "tags": []
   },
   "outputs": [],
   "source": [
    "img_size = (512,512)\n",
    "batch_size = 16\n",
    "# optimizer = SGD(learning_rate=5e-5, momentum=0.9)\n",
    "optimizer = Adam(learning_rate=1e-4)\n",
    "foldId = 0"
   ]
  },
  {
   "cell_type": "code",
   "execution_count": 3,
   "id": "5432ad1d",
   "metadata": {
    "execution": {
     "iopub.execute_input": "2022-07-12T14:56:14.540980Z",
     "iopub.status.busy": "2022-07-12T14:56:14.535509Z",
     "iopub.status.idle": "2022-07-12T14:56:41.428254Z",
     "shell.execute_reply": "2022-07-12T14:56:41.427646Z",
     "shell.execute_reply.started": "2022-07-12T14:38:30.916947Z"
    },
    "papermill": {
     "duration": 26.910227,
     "end_time": "2022-07-12T14:56:41.428416",
     "exception": false,
     "start_time": "2022-07-12T14:56:14.518189",
     "status": "completed"
    },
    "tags": []
   },
   "outputs": [
    {
     "name": "stdout",
     "output_type": "stream",
     "text": [
      "Found 25210 validated image filenames belonging to 5 classes.\n"
     ]
    }
   ],
   "source": [
    "train_datagen = ImageDataGenerator(rescale=1./255)\n",
    "train_df = pd.read_csv(\"../input/diabetic-retinopathy-preprocessed-data/trainLabels.csv\")\n",
    "\n",
    "indexes = []\n",
    "for i in range(len(train_df['image'])):\n",
    "    if train_df['kfold'][i] == foldId:\n",
    "        indexes.append(i)\n",
    "train_df.drop(indexes, axis=0, inplace=True)\n",
    "\n",
    "train_df['image'] = [str(x)+'.jpeg' for x in train_df['image']]\n",
    "train_df['level'] = [str(x) for x in train_df['level']]\n",
    "train_generator = train_datagen.flow_from_dataframe(\n",
    "    dataframe=train_df,\n",
    "    directory=\"../input/diabetic-retinopathy-preprocessed-data/Data/Data/train\",\n",
    "    x_col=\"image\",\n",
    "    y_col='level',\n",
    "    subset=\"training\",\n",
    "    batch_size=8,\n",
    "    seed=42,\n",
    "    shuffle=True,\n",
    "    class_mode=\"categorical\",\n",
    "    target_size=img_size)"
   ]
  },
  {
   "cell_type": "code",
   "execution_count": 4,
   "id": "d4b3ebfd",
   "metadata": {
    "execution": {
     "iopub.execute_input": "2022-07-12T14:56:41.467222Z",
     "iopub.status.busy": "2022-07-12T14:56:41.466352Z",
     "iopub.status.idle": "2022-07-12T14:56:50.732310Z",
     "shell.execute_reply": "2022-07-12T14:56:50.732862Z",
     "shell.execute_reply.started": "2022-07-12T14:39:01.440672Z"
    },
    "papermill": {
     "duration": 9.288742,
     "end_time": "2022-07-12T14:56:50.733016",
     "exception": false,
     "start_time": "2022-07-12T14:56:41.444274",
     "status": "completed"
    },
    "tags": []
   },
   "outputs": [
    {
     "name": "stdout",
     "output_type": "stream",
     "text": [
      "Found 8404 validated image filenames belonging to 5 classes.\n"
     ]
    }
   ],
   "source": [
    "val_datagen = ImageDataGenerator(rescale=1./255)\n",
    "val_df = pd.read_csv(\"../input/diabetic-retinopathy-preprocessed-data/trainLabels.csv\")\n",
    "indexes = []\n",
    "for i in range(len(val_df['image'])):\n",
    "    if val_df['kfold'][i] != foldId:\n",
    "        indexes.append(i)\n",
    "val_df.drop(indexes, axis=0, inplace=True)\n",
    "\n",
    "val_df['image'] = [str(x)+'.jpeg' for x in val_df['image']]\n",
    "val_df['level'] = [str(x) for x in val_df['level']]\n",
    "val_generator = val_datagen.flow_from_dataframe(\n",
    "    dataframe=val_df,\n",
    "    directory=\"../input/diabetic-retinopathy-preprocessed-data/Data/Data/train\",\n",
    "    x_col=\"image\",\n",
    "    y_col='level',\n",
    "    batch_size=8,\n",
    "    seed=42,\n",
    "    shuffle=True,\n",
    "    class_mode=\"categorical\",\n",
    "    target_size=img_size)"
   ]
  },
  {
   "cell_type": "code",
   "execution_count": 5,
   "id": "bb087daf",
   "metadata": {
    "execution": {
     "iopub.execute_input": "2022-07-12T14:56:50.770351Z",
     "iopub.status.busy": "2022-07-12T14:56:50.769622Z",
     "iopub.status.idle": "2022-07-12T14:57:58.267195Z",
     "shell.execute_reply": "2022-07-12T14:57:58.266534Z",
     "shell.execute_reply.started": "2022-07-12T14:39:12.610866Z"
    },
    "papermill": {
     "duration": 67.518769,
     "end_time": "2022-07-12T14:57:58.267354",
     "exception": false,
     "start_time": "2022-07-12T14:56:50.748585",
     "status": "completed"
    },
    "tags": []
   },
   "outputs": [
    {
     "name": "stdout",
     "output_type": "stream",
     "text": [
      "Found 53574 validated image filenames belonging to 5 classes.\n"
     ]
    },
    {
     "name": "stderr",
     "output_type": "stream",
     "text": [
      "/opt/conda/lib/python3.7/site-packages/keras_preprocessing/image/dataframe_iterator.py:282: UserWarning: Found 2 invalid image filename(s) in x_col=\"image\". These filename(s) will be ignored.\n",
      "  .format(n_invalid, x_col)\n"
     ]
    }
   ],
   "source": [
    "test_datagen = ImageDataGenerator(rescale=1./255)\n",
    "test_df = pd.read_csv(\"../input/diabetic-retinopathy-preprocessed-data/Data/Data/test_labels.csv\")\n",
    "test_df['image'] = [str(x)+'.jpeg' for x in test_df['image']]\n",
    "test_df['level'] = [str(x) for x in test_df['level']]\n",
    "test_generator = test_datagen.flow_from_dataframe(\n",
    "    dataframe=test_df,\n",
    "    directory=\"../input/diabetic-retinopathy-preprocessed-data/Data/Data/test\",\n",
    "    x_col=\"image\",\n",
    "    y_col='level',\n",
    "    batch_size=1,\n",
    "    seed=42,\n",
    "    shuffle=False,\n",
    "    class_mode=\"categorical\",\n",
    "    target_size=img_size)"
   ]
  },
  {
   "cell_type": "code",
   "execution_count": 6,
   "id": "352d680a",
   "metadata": {
    "execution": {
     "iopub.execute_input": "2022-07-12T14:57:58.309301Z",
     "iopub.status.busy": "2022-07-12T14:57:58.308713Z",
     "iopub.status.idle": "2022-07-12T14:58:06.653660Z",
     "shell.execute_reply": "2022-07-12T14:58:06.653210Z",
     "shell.execute_reply.started": "2022-07-12T14:40:13.071440Z"
    },
    "papermill": {
     "duration": 8.36996,
     "end_time": "2022-07-12T14:58:06.653807",
     "exception": false,
     "start_time": "2022-07-12T14:57:58.283847",
     "status": "completed"
    },
    "tags": []
   },
   "outputs": [
    {
     "name": "stderr",
     "output_type": "stream",
     "text": [
      "2022-07-12 14:57:58.404732: I tensorflow/stream_executor/cuda/cuda_gpu_executor.cc:937] successful NUMA node read from SysFS had negative value (-1), but there must be at least one NUMA node, so returning NUMA node zero\n",
      "2022-07-12 14:57:58.501082: I tensorflow/stream_executor/cuda/cuda_gpu_executor.cc:937] successful NUMA node read from SysFS had negative value (-1), but there must be at least one NUMA node, so returning NUMA node zero\n",
      "2022-07-12 14:57:58.501962: I tensorflow/stream_executor/cuda/cuda_gpu_executor.cc:937] successful NUMA node read from SysFS had negative value (-1), but there must be at least one NUMA node, so returning NUMA node zero\n",
      "2022-07-12 14:57:58.503419: I tensorflow/core/platform/cpu_feature_guard.cc:142] This TensorFlow binary is optimized with oneAPI Deep Neural Network Library (oneDNN) to use the following CPU instructions in performance-critical operations:  AVX2 AVX512F FMA\n",
      "To enable them in other operations, rebuild TensorFlow with the appropriate compiler flags.\n",
      "2022-07-12 14:57:58.504641: I tensorflow/stream_executor/cuda/cuda_gpu_executor.cc:937] successful NUMA node read from SysFS had negative value (-1), but there must be at least one NUMA node, so returning NUMA node zero\n",
      "2022-07-12 14:57:58.505734: I tensorflow/stream_executor/cuda/cuda_gpu_executor.cc:937] successful NUMA node read from SysFS had negative value (-1), but there must be at least one NUMA node, so returning NUMA node zero\n",
      "2022-07-12 14:57:58.506627: I tensorflow/stream_executor/cuda/cuda_gpu_executor.cc:937] successful NUMA node read from SysFS had negative value (-1), but there must be at least one NUMA node, so returning NUMA node zero\n",
      "2022-07-12 14:58:00.807822: I tensorflow/stream_executor/cuda/cuda_gpu_executor.cc:937] successful NUMA node read from SysFS had negative value (-1), but there must be at least one NUMA node, so returning NUMA node zero\n",
      "2022-07-12 14:58:00.808675: I tensorflow/stream_executor/cuda/cuda_gpu_executor.cc:937] successful NUMA node read from SysFS had negative value (-1), but there must be at least one NUMA node, so returning NUMA node zero\n",
      "2022-07-12 14:58:00.809377: I tensorflow/stream_executor/cuda/cuda_gpu_executor.cc:937] successful NUMA node read from SysFS had negative value (-1), but there must be at least one NUMA node, so returning NUMA node zero\n",
      "2022-07-12 14:58:00.809987: I tensorflow/core/common_runtime/gpu/gpu_device.cc:1510] Created device /job:localhost/replica:0/task:0/device:GPU:0 with 15403 MB memory:  -> device: 0, name: Tesla P100-PCIE-16GB, pci bus id: 0000:00:04.0, compute capability: 6.0\n"
     ]
    },
    {
     "name": "stdout",
     "output_type": "stream",
     "text": [
      "Downloading data from https://storage.googleapis.com/tensorflow/keras-applications/densenet/densenet169_weights_tf_dim_ordering_tf_kernels_notop.h5\n",
      "51879936/51877672 [==============================] - 0s 0us/step\n",
      "51888128/51877672 [==============================] - 0s 0us/step\n",
      "Model: \"sequential\"\n",
      "_________________________________________________________________\n",
      "Layer (type)                 Output Shape              Param #   \n",
      "=================================================================\n",
      "model (Functional)           (None, 425984)            12642880  \n",
      "_________________________________________________________________\n",
      "dropout (Dropout)            (None, 425984)            0         \n",
      "_________________________________________________________________\n",
      "dense (Dense)                (None, 5)                 2129925   \n",
      "=================================================================\n",
      "Total params: 14,772,805\n",
      "Trainable params: 14,614,405\n",
      "Non-trainable params: 158,400\n",
      "_________________________________________________________________\n"
     ]
    }
   ],
   "source": [
    "resnet = DenseNet169(include_top=False, weights='imagenet', input_shape=(img_size[0], img_size[1], 3))\n",
    "output = resnet.layers[-1].output\n",
    "output = keras.layers.Flatten()(output)\n",
    "resnet = Model(resnet.input, output)\n",
    "\n",
    "model = Sequential()\n",
    "model.add(resnet)\n",
    "model.add(Dropout(0.3))\n",
    "model.add(Dense(5, activation='softmax'))\n",
    "\n",
    "model.compile(optimizer, \n",
    "            loss='categorical_crossentropy',\n",
    "            metrics=['accuracy'])\n",
    "\n",
    "checkpoint_filepath = \"./trainedmodel.h5\"\n",
    "model_checkpoint_callback = tf.keras.callbacks.ModelCheckpoint( filepath=checkpoint_filepath,\n",
    "                          save_weights_only=True,\n",
    "                          monitor='val_loss',\n",
    "                          mode='auto',\n",
    "                          save_best_only=True)\n",
    "\n",
    "early_stopping = EarlyStopping(\n",
    "                monitor=\"val_loss\",\n",
    "                patience=3,\n",
    "                verbose=1,\n",
    "                mode=\"auto\",\n",
    ")\n",
    "\n",
    "model.summary()"
   ]
  },
  {
   "cell_type": "code",
   "execution_count": 7,
   "id": "8d96c829",
   "metadata": {
    "execution": {
     "iopub.execute_input": "2022-07-12T14:58:06.697302Z",
     "iopub.status.busy": "2022-07-12T14:58:06.696462Z",
     "iopub.status.idle": "2022-07-12T14:58:06.698284Z",
     "shell.execute_reply": "2022-07-12T14:58:06.698670Z",
     "shell.execute_reply.started": "2022-07-12T14:40:25.835187Z"
    },
    "papermill": {
     "duration": 0.025564,
     "end_time": "2022-07-12T14:58:06.698829",
     "exception": false,
     "start_time": "2022-07-12T14:58:06.673265",
     "status": "completed"
    },
    "tags": []
   },
   "outputs": [],
   "source": [
    "STEP_SIZE_TRAIN=train_generator.n//train_generator.batch_size\n",
    "STEP_SIZE_VALID=val_generator.n//val_generator.batch_size\n",
    "STEP_SIZE_TEST=test_generator.n//test_generator.batch_size"
   ]
  },
  {
   "cell_type": "code",
   "execution_count": 8,
   "id": "3b318869",
   "metadata": {
    "execution": {
     "iopub.execute_input": "2022-07-12T14:58:06.740919Z",
     "iopub.status.busy": "2022-07-12T14:58:06.740184Z",
     "iopub.status.idle": "2022-07-12T14:58:06.742670Z",
     "shell.execute_reply": "2022-07-12T14:58:06.742288Z"
    },
    "papermill": {
     "duration": 0.025014,
     "end_time": "2022-07-12T14:58:06.742797",
     "exception": false,
     "start_time": "2022-07-12T14:58:06.717783",
     "status": "completed"
    },
    "tags": []
   },
   "outputs": [],
   "source": [
    "# model.fit_generator(generator=train_generator,\n",
    "#                     steps_per_epoch=STEP_SIZE_TRAIN,\n",
    "#                     validation_data=val_generator,\n",
    "#                     validation_steps=STEP_SIZE_VALID,\n",
    "#                     epochs=25, \n",
    "#                     callbacks=[model_checkpoint_callback, early_stopping])"
   ]
  },
  {
   "cell_type": "code",
   "execution_count": 9,
   "id": "e4cf01a3",
   "metadata": {
    "execution": {
     "iopub.execute_input": "2022-07-12T14:58:06.793765Z",
     "iopub.status.busy": "2022-07-12T14:58:06.792625Z",
     "iopub.status.idle": "2022-07-12T14:58:08.087078Z",
     "shell.execute_reply": "2022-07-12T14:58:08.087547Z",
     "shell.execute_reply.started": "2022-07-12T14:44:06.564674Z"
    },
    "papermill": {
     "duration": 1.325418,
     "end_time": "2022-07-12T14:58:08.087733",
     "exception": false,
     "start_time": "2022-07-12T14:58:06.762315",
     "status": "completed"
    },
    "tags": []
   },
   "outputs": [],
   "source": [
    "# model = tf.keras.models.load_model(\"../input/dr-densenet169trainmodel/trainedmodel.h5\")\n",
    "model.load_weights(\"../input/dr-densenet169trainmodel/trainedmodel.h5\")"
   ]
  },
  {
   "cell_type": "code",
   "execution_count": 10,
   "id": "b76dc803",
   "metadata": {
    "execution": {
     "iopub.execute_input": "2022-07-12T14:58:08.136816Z",
     "iopub.status.busy": "2022-07-12T14:58:08.136244Z",
     "iopub.status.idle": "2022-07-12T15:30:30.439438Z",
     "shell.execute_reply": "2022-07-12T15:30:30.438937Z",
     "shell.execute_reply.started": "2022-07-12T14:44:24.556429Z"
    },
    "papermill": {
     "duration": 1942.331554,
     "end_time": "2022-07-12T15:30:30.439566",
     "exception": false,
     "start_time": "2022-07-12T14:58:08.108012",
     "status": "completed"
    },
    "tags": []
   },
   "outputs": [
    {
     "name": "stderr",
     "output_type": "stream",
     "text": [
      "/opt/conda/lib/python3.7/site-packages/keras/engine/training.py:2035: UserWarning: `Model.predict_generator` is deprecated and will be removed in a future version. Please use `Model.predict`, which supports generators.\n",
      "  warnings.warn('`Model.predict_generator` is deprecated and '\n",
      "2022-07-12 14:58:08.238094: I tensorflow/compiler/mlir/mlir_graph_optimization_pass.cc:185] None of the MLIR Optimization Passes are enabled (registered 2)\n",
      "2022-07-12 14:58:11.307906: I tensorflow/stream_executor/cuda/cuda_dnn.cc:369] Loaded cuDNN version 8005\n"
     ]
    },
    {
     "name": "stdout",
     "output_type": "stream",
     "text": [
      "53574/53574 [==============================] - 1942s 36ms/step\n"
     ]
    }
   ],
   "source": [
    "test_generator.reset()\n",
    "pred=model.predict_generator(test_generator,\n",
    "                            steps=STEP_SIZE_TEST,\n",
    "                            verbose=1)"
   ]
  },
  {
   "cell_type": "code",
   "execution_count": 11,
   "id": "61ceb9f4",
   "metadata": {
    "execution": {
     "iopub.execute_input": "2022-07-12T15:30:48.407531Z",
     "iopub.status.busy": "2022-07-12T15:30:48.406788Z",
     "iopub.status.idle": "2022-07-12T15:30:48.444708Z",
     "shell.execute_reply": "2022-07-12T15:30:48.444301Z",
     "shell.execute_reply.started": "2022-07-12T14:40:26.162542Z"
    },
    "papermill": {
     "duration": 9.111125,
     "end_time": "2022-07-12T15:30:48.444851",
     "exception": false,
     "start_time": "2022-07-12T15:30:39.333726",
     "status": "completed"
    },
    "tags": []
   },
   "outputs": [],
   "source": [
    "predicted_class_indices=np.argmax(pred,axis=1)\n",
    "labels = (train_generator.class_indices)\n",
    "labels = dict((v,k) for k,v in labels.items())\n",
    "\n",
    "predictions = [labels[k] for k in predicted_class_indices]\n",
    "filenames=test_generator.filenames\n",
    "\n",
    "predcitionsMap = {filenames[i]: predictions[i] for i in range(len(filenames))}"
   ]
  },
  {
   "cell_type": "code",
   "execution_count": 12,
   "id": "a7fe7ddf",
   "metadata": {
    "execution": {
     "iopub.execute_input": "2022-07-12T15:31:07.206497Z",
     "iopub.status.busy": "2022-07-12T15:31:07.186414Z",
     "iopub.status.idle": "2022-07-12T15:31:15.145361Z",
     "shell.execute_reply": "2022-07-12T15:31:15.145727Z",
     "shell.execute_reply.started": "2022-07-12T14:40:26.165482Z"
    },
    "papermill": {
     "duration": 17.143706,
     "end_time": "2022-07-12T15:31:15.145898",
     "exception": false,
     "start_time": "2022-07-12T15:30:58.002192",
     "status": "completed"
    },
    "tags": []
   },
   "outputs": [
    {
     "name": "stdout",
     "output_type": "stream",
     "text": [
      "[('0', 50621), ('1', 2001), ('3', 952)]\n",
      "[('0', 39533), ('1', 3762), ('2', 7861), ('3', 1214), ('4', 1206)]\n",
      "70.56704494549798\n"
     ]
    },
    {
     "name": "stderr",
     "output_type": "stream",
     "text": [
      "/opt/conda/lib/python3.7/site-packages/sklearn/metrics/_classification.py:1308: UndefinedMetricWarning: Precision and F-score are ill-defined and being set to 0.0 in labels with no predicted samples. Use `zero_division` parameter to control this behavior.\n",
      "  _warn_prf(average, modifier, msg_start, len(result))\n",
      "/opt/conda/lib/python3.7/site-packages/sklearn/metrics/_classification.py:1308: UndefinedMetricWarning: Precision and F-score are ill-defined and being set to 0.0 in labels with no predicted samples. Use `zero_division` parameter to control this behavior.\n",
      "  _warn_prf(average, modifier, msg_start, len(result))\n",
      "/opt/conda/lib/python3.7/site-packages/sklearn/metrics/_classification.py:1308: UndefinedMetricWarning: Precision and F-score are ill-defined and being set to 0.0 in labels with no predicted samples. Use `zero_division` parameter to control this behavior.\n",
      "  _warn_prf(average, modifier, msg_start, len(result))\n"
     ]
    },
    {
     "name": "stdout",
     "output_type": "stream",
     "text": [
      "              precision    recall  f1-score   support\n",
      "\n",
      "           0       0.74      0.95      0.83     39532\n",
      "           1       0.11      0.06      0.08      3762\n",
      "           2       0.00      0.00      0.00      7860\n",
      "           3       0.08      0.06      0.07      1214\n",
      "           4       0.00      0.00      0.00      1206\n",
      "\n",
      "    accuracy                           0.71     53574\n",
      "   macro avg       0.19      0.21      0.20     53574\n",
      "weighted avg       0.56      0.71      0.62     53574\n",
      "\n",
      "[[37502  1455     0   575     0]\n",
      " [ 3453   227     0    82     0]\n",
      " [ 7424   263     0   173     0]\n",
      " [ 1102    34     0    78     0]\n",
      " [ 1140    22     0    44     0]]\n",
      "Test Accuracy score :  0.7056967932205921\n",
      "Test Weighted F1 score :  0.6210657782487924\n",
      "Test Micro F1 score :  0.7056967932205921\n"
     ]
    },
    {
     "name": "stderr",
     "output_type": "stream",
     "text": [
      "/opt/conda/lib/python3.7/site-packages/sklearn/metrics/_classification.py:1308: UndefinedMetricWarning: Precision is ill-defined and being set to 0.0 in labels with no predicted samples. Use `zero_division` parameter to control this behavior.\n",
      "  _warn_prf(average, modifier, msg_start, len(result))\n"
     ]
    },
    {
     "name": "stdout",
     "output_type": "stream",
     "text": [
      "Test Precision score :  0.5564840919580818\n",
      "Test Recall score :  0.7056967932205921\n",
      "Test Cohen Kappa Score :  0.02603419928307027\n"
     ]
    }
   ],
   "source": [
    "from collections import Counter\n",
    "P = Counter(predictions)\n",
    "T = Counter(test_df['level'])\n",
    "print(sorted(P.items()))\n",
    "print(sorted(T.items()))\n",
    "\n",
    "correct = 0\n",
    "predLabels = []\n",
    "indexes = []\n",
    "for i in range(len(test_df['image'])):\n",
    "    if test_df['image'][i] in predcitionsMap:\n",
    "        predLabels.append(predcitionsMap[test_df['image'][i]])\n",
    "        if predcitionsMap[test_df['image'][i]] == test_df['level'][i]:\n",
    "            correct += 1\n",
    "    else:\n",
    "        predLabels.append(\"NA\")\n",
    "        indexes.append(i)\n",
    "acc = (correct / len(test_df['level'])) * 100\n",
    "print(acc)\n",
    "\n",
    "test_df['predLevel'] = predLabels\n",
    "test_df.drop(indexes, axis=0, inplace=True)\n",
    "# test_df.to_csv(\"./InceptionV3AndInceptionResNetV2predictions.csv\", index=False)\n",
    "\n",
    "print(classification_report(test_df['level'], test_df['predLevel']))\n",
    "\n",
    "print(confusion_matrix(test_df[\"level\"], test_df[\"predLevel\"]))\n",
    "\n",
    "print(\"Test Accuracy score : \", accuracy_score(test_df['level'], test_df['predLevel']))\n",
    "print(\"Test Weighted F1 score : \", f1_score(test_df['level'], test_df['predLevel'], average=\"weighted\"))\n",
    "print(\"Test Micro F1 score : \", f1_score(test_df['level'], test_df['predLevel'], average=\"micro\"))\n",
    "print(\"Test Precision score : \", precision_score(test_df['level'], test_df['predLevel'], average=\"weighted\"))\n",
    "print(\"Test Recall score : \", recall_score(test_df['level'], test_df['predLevel'], average=\"weighted\"))\n",
    "print(\"Test Cohen Kappa Score : \", cohen_kappa_score(test_df['level'], test_df['predLevel'], weights=\"quadratic\"))"
   ]
  }
 ],
 "metadata": {
  "kernelspec": {
   "display_name": "Python 3",
   "language": "python",
   "name": "python3"
  },
  "language_info": {
   "codemirror_mode": {
    "name": "ipython",
    "version": 3
   },
   "file_extension": ".py",
   "mimetype": "text/x-python",
   "name": "python",
   "nbconvert_exporter": "python",
   "pygments_lexer": "ipython3",
   "version": "3.7.12"
  },
  "papermill": {
   "default_parameters": {},
   "duration": 2201.999218,
   "end_time": "2022-07-12T15:32:41.547983",
   "environment_variables": {},
   "exception": null,
   "input_path": "__notebook__.ipynb",
   "output_path": "__notebook__.ipynb",
   "parameters": {},
   "start_time": "2022-07-12T14:55:59.548765",
   "version": "2.3.3"
  }
 },
 "nbformat": 4,
 "nbformat_minor": 5
}
