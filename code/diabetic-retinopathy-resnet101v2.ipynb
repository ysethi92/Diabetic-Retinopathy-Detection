{
 "cells": [
  {
   "cell_type": "code",
   "execution_count": 1,
   "id": "19e9efc9",
   "metadata": {
    "_cell_guid": "b1076dfc-b9ad-4769-8c92-a6c4dae69d19",
    "_uuid": "8f2839f25d086af736a60e9eeb907d3b93b6e0e5",
    "execution": {
     "iopub.execute_input": "2022-04-12T22:37:38.062405Z",
     "iopub.status.busy": "2022-04-12T22:37:38.061741Z",
     "iopub.status.idle": "2022-04-12T22:37:43.777713Z",
     "shell.execute_reply": "2022-04-12T22:37:43.776688Z",
     "shell.execute_reply.started": "2022-04-12T20:31:30.174544Z"
    },
    "papermill": {
     "duration": 5.744695,
     "end_time": "2022-04-12T22:37:43.777872",
     "exception": false,
     "start_time": "2022-04-12T22:37:38.033177",
     "status": "completed"
    },
    "tags": []
   },
   "outputs": [],
   "source": [
    "import os\n",
    "import time\n",
    "import shutil\n",
    "import tensorflow as tf\n",
    "import numpy as np\n",
    "import pandas as pd\n",
    "import cv2\n",
    "import keras\n",
    "import gc\n",
    "from PIL import Image\n",
    "%matplotlib inline\n",
    "from keras.models import Sequential,Model\n",
    "from tensorflow.keras.applications import ResNet50, ResNet50V2, ResNet101V2\n",
    "from keras.layers import Dense, Activation, Dropout\n",
    "import keras.backend as K\n",
    "from tensorflow.keras.optimizers import Adam, RMSprop, SGD\n",
    "from keras.preprocessing.image import ImageDataGenerator\n",
    "from keras.layers import BatchNormalization\n",
    "from keras.layers import Conv2D, MaxPool2D, AvgPool2D, Flatten, GlobalAveragePooling2D, AveragePooling2D\n",
    "from keras.callbacks import ReduceLROnPlateau, EarlyStopping"
   ]
  },
  {
   "cell_type": "code",
   "execution_count": 2,
   "id": "07cf3ad6",
   "metadata": {
    "execution": {
     "iopub.execute_input": "2022-04-12T22:37:43.809821Z",
     "iopub.status.busy": "2022-04-12T22:37:43.809215Z",
     "iopub.status.idle": "2022-04-12T22:37:43.818558Z",
     "shell.execute_reply": "2022-04-12T22:37:43.817928Z",
     "shell.execute_reply.started": "2022-04-12T20:31:10.228009Z"
    },
    "papermill": {
     "duration": 0.02646,
     "end_time": "2022-04-12T22:37:43.818678",
     "exception": false,
     "start_time": "2022-04-12T22:37:43.792218",
     "status": "completed"
    },
    "tags": []
   },
   "outputs": [],
   "source": [
    "img_size = (512, 512)\n",
    "batch_size = 8\n",
    "# optimizer = SGD(learning_rate=5e-5, momentum=0.9)\n",
    "optimizer = Adam(learning_rate=1e-4)\n",
    "foldId = 0"
   ]
  },
  {
   "cell_type": "code",
   "execution_count": 3,
   "id": "e5d3d5c3",
   "metadata": {
    "execution": {
     "iopub.execute_input": "2022-04-12T22:37:43.852536Z",
     "iopub.status.busy": "2022-04-12T22:37:43.851923Z",
     "iopub.status.idle": "2022-04-12T22:38:26.244213Z",
     "shell.execute_reply": "2022-04-12T22:38:26.244617Z",
     "shell.execute_reply.started": "2022-04-11T21:26:54.174191Z"
    },
    "papermill": {
     "duration": 42.412952,
     "end_time": "2022-04-12T22:38:26.244762",
     "exception": false,
     "start_time": "2022-04-12T22:37:43.831810",
     "status": "completed"
    },
    "tags": []
   },
   "outputs": [
    {
     "name": "stdout",
     "output_type": "stream",
     "text": [
      "Found 25210 validated image filenames belonging to 5 classes.\n"
     ]
    }
   ],
   "source": [
    "train_datagen = ImageDataGenerator(rescale=1./255)\n",
    "train_df = pd.read_csv(\"../input/diabetic-retinopathy-preprocessed-data/trainLabels.csv\")\n",
    "\n",
    "indexes = []\n",
    "for i in range(len(train_df['image'])):\n",
    "    if train_df['kfold'][i] == foldId:\n",
    "        indexes.append(i)\n",
    "train_df.drop(indexes, axis=0, inplace=True)\n",
    "\n",
    "train_df['image'] = [str(x)+'.jpeg' for x in train_df['image']]\n",
    "train_df['level'] = [str(x) for x in train_df['level']]\n",
    "train_generator = train_datagen.flow_from_dataframe(\n",
    "    dataframe=train_df,\n",
    "    directory=\"../input/diabetic-retinopathy-preprocessed-data/Data/Data/train\",\n",
    "    x_col=\"image\",\n",
    "    y_col='level',\n",
    "    subset=\"training\",\n",
    "    batch_size=8,\n",
    "    seed=42,\n",
    "    shuffle=True,\n",
    "    class_mode=\"categorical\",\n",
    "    target_size=img_size)"
   ]
  },
  {
   "cell_type": "code",
   "execution_count": 4,
   "id": "90eb7cb1",
   "metadata": {
    "execution": {
     "iopub.execute_input": "2022-04-12T22:38:26.280006Z",
     "iopub.status.busy": "2022-04-12T22:38:26.279174Z",
     "iopub.status.idle": "2022-04-12T22:38:40.254910Z",
     "shell.execute_reply": "2022-04-12T22:38:40.255385Z",
     "shell.execute_reply.started": "2022-04-11T19:45:14.092076Z"
    },
    "papermill": {
     "duration": 13.996865,
     "end_time": "2022-04-12T22:38:40.255567",
     "exception": false,
     "start_time": "2022-04-12T22:38:26.258702",
     "status": "completed"
    },
    "tags": []
   },
   "outputs": [
    {
     "name": "stdout",
     "output_type": "stream",
     "text": [
      "Found 8404 validated image filenames belonging to 5 classes.\n"
     ]
    }
   ],
   "source": [
    "val_datagen = ImageDataGenerator(rescale=1./255)\n",
    "val_df = pd.read_csv(\"../input/diabetic-retinopathy-preprocessed-data/trainLabels.csv\")\n",
    "indexes = []\n",
    "for i in range(len(val_df['image'])):\n",
    "    if val_df['kfold'][i] != foldId:\n",
    "        indexes.append(i)\n",
    "val_df.drop(indexes, axis=0, inplace=True)\n",
    "\n",
    "val_df['image'] = [str(x)+'.jpeg' for x in val_df['image']]\n",
    "val_df['level'] = [str(x) for x in val_df['level']]\n",
    "val_generator = val_datagen.flow_from_dataframe(\n",
    "    dataframe=val_df,\n",
    "    directory=\"../input/diabetic-retinopathy-preprocessed-data/Data/Data/train\",\n",
    "    x_col=\"image\",\n",
    "    y_col='level',\n",
    "    batch_size=16,\n",
    "    seed=42,\n",
    "    shuffle=True,\n",
    "    class_mode=\"categorical\",\n",
    "    target_size=img_size)"
   ]
  },
  {
   "cell_type": "code",
   "execution_count": 5,
   "id": "e17cf63c",
   "metadata": {
    "execution": {
     "iopub.execute_input": "2022-04-12T22:38:40.289794Z",
     "iopub.status.busy": "2022-04-12T22:38:40.289072Z",
     "iopub.status.idle": "2022-04-12T22:40:08.090808Z",
     "shell.execute_reply": "2022-04-12T22:40:08.090325Z",
     "shell.execute_reply.started": "2022-04-11T21:25:17.392119Z"
    },
    "papermill": {
     "duration": 87.821156,
     "end_time": "2022-04-12T22:40:08.090930",
     "exception": false,
     "start_time": "2022-04-12T22:38:40.269774",
     "status": "completed"
    },
    "tags": []
   },
   "outputs": [
    {
     "name": "stdout",
     "output_type": "stream",
     "text": [
      "Found 53574 validated image filenames belonging to 5 classes.\n"
     ]
    },
    {
     "name": "stderr",
     "output_type": "stream",
     "text": [
      "/opt/conda/lib/python3.7/site-packages/keras_preprocessing/image/dataframe_iterator.py:282: UserWarning: Found 2 invalid image filename(s) in x_col=\"image\". These filename(s) will be ignored.\n",
      "  .format(n_invalid, x_col)\n"
     ]
    }
   ],
   "source": [
    "test_datagen = ImageDataGenerator(rescale=1./255)\n",
    "test_df = pd.read_csv(\"../input/diabetic-retinopathy-preprocessed-data/Data/Data/test_labels.csv\")\n",
    "test_df['image'] = [str(x)+'.jpeg' for x in test_df['image']]\n",
    "test_df['level'] = [str(x) for x in test_df['level']]\n",
    "test_generator = test_datagen.flow_from_dataframe(\n",
    "    dataframe=test_df,\n",
    "    directory=\"../input/diabetic-retinopathy-preprocessed-data/Data/Data/test\",\n",
    "    x_col=\"image\",\n",
    "    y_col='level',\n",
    "    batch_size=1,\n",
    "    seed=42,\n",
    "    shuffle=False,\n",
    "    class_mode=\"categorical\",\n",
    "    target_size=img_size)"
   ]
  },
  {
   "cell_type": "code",
   "execution_count": 6,
   "id": "cc7ebae7",
   "metadata": {
    "execution": {
     "iopub.execute_input": "2022-04-12T22:40:08.134411Z",
     "iopub.status.busy": "2022-04-12T22:40:08.133830Z",
     "iopub.status.idle": "2022-04-12T22:40:14.918874Z",
     "shell.execute_reply": "2022-04-12T22:40:14.918315Z",
     "shell.execute_reply.started": "2022-04-12T20:34:03.46208Z"
    },
    "papermill": {
     "duration": 6.81375,
     "end_time": "2022-04-12T22:40:14.919042",
     "exception": false,
     "start_time": "2022-04-12T22:40:08.105292",
     "status": "completed"
    },
    "tags": []
   },
   "outputs": [
    {
     "name": "stderr",
     "output_type": "stream",
     "text": [
      "2022-04-12 22:40:08.243221: I tensorflow/stream_executor/cuda/cuda_gpu_executor.cc:937] successful NUMA node read from SysFS had negative value (-1), but there must be at least one NUMA node, so returning NUMA node zero\n",
      "2022-04-12 22:40:08.327794: I tensorflow/stream_executor/cuda/cuda_gpu_executor.cc:937] successful NUMA node read from SysFS had negative value (-1), but there must be at least one NUMA node, so returning NUMA node zero\n",
      "2022-04-12 22:40:08.328615: I tensorflow/stream_executor/cuda/cuda_gpu_executor.cc:937] successful NUMA node read from SysFS had negative value (-1), but there must be at least one NUMA node, so returning NUMA node zero\n",
      "2022-04-12 22:40:08.330204: I tensorflow/core/platform/cpu_feature_guard.cc:142] This TensorFlow binary is optimized with oneAPI Deep Neural Network Library (oneDNN) to use the following CPU instructions in performance-critical operations:  AVX2 AVX512F FMA\n",
      "To enable them in other operations, rebuild TensorFlow with the appropriate compiler flags.\n",
      "2022-04-12 22:40:08.331516: I tensorflow/stream_executor/cuda/cuda_gpu_executor.cc:937] successful NUMA node read from SysFS had negative value (-1), but there must be at least one NUMA node, so returning NUMA node zero\n",
      "2022-04-12 22:40:08.332431: I tensorflow/stream_executor/cuda/cuda_gpu_executor.cc:937] successful NUMA node read from SysFS had negative value (-1), but there must be at least one NUMA node, so returning NUMA node zero\n",
      "2022-04-12 22:40:08.333297: I tensorflow/stream_executor/cuda/cuda_gpu_executor.cc:937] successful NUMA node read from SysFS had negative value (-1), but there must be at least one NUMA node, so returning NUMA node zero\n",
      "2022-04-12 22:40:10.255005: I tensorflow/stream_executor/cuda/cuda_gpu_executor.cc:937] successful NUMA node read from SysFS had negative value (-1), but there must be at least one NUMA node, so returning NUMA node zero\n",
      "2022-04-12 22:40:10.255871: I tensorflow/stream_executor/cuda/cuda_gpu_executor.cc:937] successful NUMA node read from SysFS had negative value (-1), but there must be at least one NUMA node, so returning NUMA node zero\n",
      "2022-04-12 22:40:10.256597: I tensorflow/stream_executor/cuda/cuda_gpu_executor.cc:937] successful NUMA node read from SysFS had negative value (-1), but there must be at least one NUMA node, so returning NUMA node zero\n",
      "2022-04-12 22:40:10.257204: I tensorflow/core/common_runtime/gpu/gpu_device.cc:1510] Created device /job:localhost/replica:0/task:0/device:GPU:0 with 15403 MB memory:  -> device: 0, name: Tesla P100-PCIE-16GB, pci bus id: 0000:00:04.0, compute capability: 6.0\n"
     ]
    },
    {
     "name": "stdout",
     "output_type": "stream",
     "text": [
      "Downloading data from https://storage.googleapis.com/tensorflow/keras-applications/resnet/resnet101v2_weights_tf_dim_ordering_tf_kernels_notop.h5\n",
      "171319296/171317808 [==============================] - 1s 0us/step\n",
      "171327488/171317808 [==============================] - 1s 0us/step\n",
      "Model: \"sequential\"\n",
      "_________________________________________________________________\n",
      "Layer (type)                 Output Shape              Param #   \n",
      "=================================================================\n",
      "model (Functional)           (None, 524288)            42626560  \n",
      "_________________________________________________________________\n",
      "dense (Dense)                (None, 1024)              536871936 \n",
      "_________________________________________________________________\n",
      "dropout (Dropout)            (None, 1024)              0         \n",
      "_________________________________________________________________\n",
      "dense_1 (Dense)              (None, 5)                 5125      \n",
      "=================================================================\n",
      "Total params: 579,503,621\n",
      "Trainable params: 579,405,957\n",
      "Non-trainable params: 97,664\n",
      "_________________________________________________________________\n"
     ]
    }
   ],
   "source": [
    "resnet = ResNet101V2(include_top=False, weights='imagenet', input_shape=(img_size[0], img_size[1], 3))\n",
    "output = resnet.layers[-1].output\n",
    "output = keras.layers.Flatten()(output)\n",
    "resnet = Model(resnet.input, output)\n",
    "\n",
    "model = Sequential()\n",
    "model.add(resnet)\n",
    "model.add(Dense(1024, activation=\"relu\"))\n",
    "model.add(Dropout(0.2))\n",
    "model.add(Dense(5, activation='softmax'))\n",
    "\n",
    "model.compile(optimizer, \n",
    "            loss='categorical_crossentropy',\n",
    "            metrics=['accuracy'])\n",
    "\n",
    "checkpoint_filepath = \"./trainedmodel.h5\"\n",
    "model_checkpoint_callback = tf.keras.callbacks.ModelCheckpoint( filepath=checkpoint_filepath,\n",
    "                          save_weights_only=True,\n",
    "                          monitor='val_loss',\n",
    "                          mode='auto',\n",
    "                          save_best_only=True)\n",
    "\n",
    "early_stopping = EarlyStopping(\n",
    "                monitor=\"val_loss\",\n",
    "                patience=3,\n",
    "                verbose=1,\n",
    "                mode=\"auto\",\n",
    ")\n",
    "\n",
    "model.summary()"
   ]
  },
  {
   "cell_type": "code",
   "execution_count": 7,
   "id": "d8477483",
   "metadata": {
    "execution": {
     "iopub.execute_input": "2022-04-12T22:40:14.974414Z",
     "iopub.status.busy": "2022-04-12T22:40:14.971396Z",
     "iopub.status.idle": "2022-04-12T22:40:14.977306Z",
     "shell.execute_reply": "2022-04-12T22:40:14.977829Z",
     "shell.execute_reply.started": "2022-04-11T22:19:22.783929Z"
    },
    "papermill": {
     "duration": 0.033796,
     "end_time": "2022-04-12T22:40:14.977989",
     "exception": false,
     "start_time": "2022-04-12T22:40:14.944193",
     "status": "completed"
    },
    "tags": []
   },
   "outputs": [],
   "source": [
    "STEP_SIZE_TRAIN=train_generator.n//train_generator.batch_size\n",
    "STEP_SIZE_VALID=val_generator.n//val_generator.batch_size\n",
    "STEP_SIZE_TEST=test_generator.n//test_generator.batch_size"
   ]
  },
  {
   "cell_type": "code",
   "execution_count": 8,
   "id": "c780f82c",
   "metadata": {
    "execution": {
     "iopub.execute_input": "2022-04-12T22:40:15.032766Z",
     "iopub.status.busy": "2022-04-12T22:40:15.031849Z",
     "iopub.status.idle": "2022-04-13T02:00:06.476003Z",
     "shell.execute_reply": "2022-04-13T02:00:06.474234Z"
    },
    "papermill": {
     "duration": 11991.474374,
     "end_time": "2022-04-13T02:00:06.477239",
     "exception": false,
     "start_time": "2022-04-12T22:40:15.002865",
     "status": "completed"
    },
    "tags": []
   },
   "outputs": [
    {
     "name": "stderr",
     "output_type": "stream",
     "text": [
      "/opt/conda/lib/python3.7/site-packages/keras/engine/training.py:1972: UserWarning: `Model.fit_generator` is deprecated and will be removed in a future version. Please use `Model.fit`, which supports generators.\n",
      "  warnings.warn('`Model.fit_generator` is deprecated and '\n",
      "2022-04-12 22:40:15.459421: I tensorflow/compiler/mlir/mlir_graph_optimization_pass.cc:185] None of the MLIR Optimization Passes are enabled (registered 2)\n"
     ]
    },
    {
     "name": "stdout",
     "output_type": "stream",
     "text": [
      "Epoch 1/20\n"
     ]
    },
    {
     "name": "stderr",
     "output_type": "stream",
     "text": [
      "2022-04-12 22:40:25.144487: I tensorflow/stream_executor/cuda/cuda_dnn.cc:369] Loaded cuDNN version 8005\n"
     ]
    },
    {
     "name": "stdout",
     "output_type": "stream",
     "text": [
      "3151/3151 [==============================] - 1522s 478ms/step - loss: 0.7864 - accuracy: 0.7667 - val_loss: 0.7446 - val_accuracy: 0.7618\n"
     ]
    },
    {
     "name": "stderr",
     "output_type": "stream",
     "text": [
      "2022-04-12 23:05:37.145715: W tensorflow/core/framework/cpu_allocator_impl.cc:80] Allocation of 2147483648 exceeds 10% of free system memory.\n"
     ]
    },
    {
     "name": "stdout",
     "output_type": "stream",
     "text": [
      "Epoch 2/20\n",
      "3151/3151 [==============================] - 1484s 471ms/step - loss: 0.6314 - accuracy: 0.7980 - val_loss: 0.7141 - val_accuracy: 0.7944\n"
     ]
    },
    {
     "name": "stderr",
     "output_type": "stream",
     "text": [
      "2022-04-12 23:30:29.464341: W tensorflow/core/framework/cpu_allocator_impl.cc:80] Allocation of 2147483648 exceeds 10% of free system memory.\n"
     ]
    },
    {
     "name": "stdout",
     "output_type": "stream",
     "text": [
      "Epoch 3/20\n",
      "3151/3151 [==============================] - 1478s 469ms/step - loss: 0.5626 - accuracy: 0.8165 - val_loss: 0.6773 - val_accuracy: 0.7944\n"
     ]
    },
    {
     "name": "stderr",
     "output_type": "stream",
     "text": [
      "2022-04-12 23:55:15.289910: W tensorflow/core/framework/cpu_allocator_impl.cc:80] Allocation of 2147483648 exceeds 10% of free system memory.\n"
     ]
    },
    {
     "name": "stdout",
     "output_type": "stream",
     "text": [
      "Epoch 4/20\n",
      "3151/3151 [==============================] - 1462s 464ms/step - loss: 0.4978 - accuracy: 0.8391 - val_loss: 0.7746 - val_accuracy: 0.7950\n",
      "Epoch 5/20\n",
      "3151/3151 [==============================] - 1472s 467ms/step - loss: 0.4108 - accuracy: 0.8638 - val_loss: 0.6710 - val_accuracy: 0.8113\n"
     ]
    },
    {
     "name": "stderr",
     "output_type": "stream",
     "text": [
      "2022-04-13 00:45:18.084243: W tensorflow/core/framework/cpu_allocator_impl.cc:80] Allocation of 2147483648 exceeds 10% of free system memory.\n"
     ]
    },
    {
     "name": "stdout",
     "output_type": "stream",
     "text": [
      "Epoch 6/20\n",
      "3151/3151 [==============================] - 1470s 467ms/step - loss: 0.3150 - accuracy: 0.8911 - val_loss: 0.7274 - val_accuracy: 0.7927\n",
      "Epoch 7/20\n",
      "3151/3151 [==============================] - 1470s 466ms/step - loss: 0.2156 - accuracy: 0.9228 - val_loss: 1.1361 - val_accuracy: 0.8020\n",
      "Epoch 8/20\n",
      "3151/3151 [==============================] - 1472s 467ms/step - loss: 0.1530 - accuracy: 0.9465 - val_loss: 0.8911 - val_accuracy: 0.7985\n",
      "Epoch 00008: early stopping\n"
     ]
    },
    {
     "data": {
      "text/plain": [
       "<keras.callbacks.History at 0x7fcdee92acd0>"
      ]
     },
     "execution_count": 8,
     "metadata": {},
     "output_type": "execute_result"
    }
   ],
   "source": [
    "model.fit_generator(generator=train_generator,\n",
    "                    steps_per_epoch=STEP_SIZE_TRAIN,\n",
    "                    validation_data=val_generator,\n",
    "                    validation_steps=STEP_SIZE_VALID,\n",
    "                    epochs=20, \n",
    "                    callbacks=[model_checkpoint_callback, early_stopping])"
   ]
  },
  {
   "cell_type": "code",
   "execution_count": 9,
   "id": "2e2b5244",
   "metadata": {
    "execution": {
     "iopub.execute_input": "2022-04-13T02:00:22.540678Z",
     "iopub.status.busy": "2022-04-13T02:00:22.539656Z",
     "iopub.status.idle": "2022-04-13T02:27:45.814075Z",
     "shell.execute_reply": "2022-04-13T02:27:45.813597Z"
    },
    "papermill": {
     "duration": 1651.410621,
     "end_time": "2022-04-13T02:27:45.814261",
     "exception": false,
     "start_time": "2022-04-13T02:00:14.403640",
     "status": "completed"
    },
    "tags": []
   },
   "outputs": [
    {
     "name": "stderr",
     "output_type": "stream",
     "text": [
      "/opt/conda/lib/python3.7/site-packages/keras/engine/training.py:2035: UserWarning: `Model.predict_generator` is deprecated and will be removed in a future version. Please use `Model.predict`, which supports generators.\n",
      "  warnings.warn('`Model.predict_generator` is deprecated and '\n"
     ]
    },
    {
     "name": "stdout",
     "output_type": "stream",
     "text": [
      "53574/53574 [==============================] - 1618s 30ms/step\n"
     ]
    }
   ],
   "source": [
    "test_generator.reset()\n",
    "pred=model.predict_generator(test_generator,\n",
    "                            steps=STEP_SIZE_TEST,\n",
    "                            verbose=1)"
   ]
  },
  {
   "cell_type": "code",
   "execution_count": 10,
   "id": "3e992341",
   "metadata": {
    "execution": {
     "iopub.execute_input": "2022-04-13T02:28:20.205814Z",
     "iopub.status.busy": "2022-04-13T02:28:20.204997Z",
     "iopub.status.idle": "2022-04-13T02:28:20.242077Z",
     "shell.execute_reply": "2022-04-13T02:28:20.241632Z"
    },
    "papermill": {
     "duration": 17.64894,
     "end_time": "2022-04-13T02:28:20.242217",
     "exception": false,
     "start_time": "2022-04-13T02:28:02.593277",
     "status": "completed"
    },
    "tags": []
   },
   "outputs": [],
   "source": [
    "predicted_class_indices=np.argmax(pred,axis=1)\n",
    "labels = (train_generator.class_indices)\n",
    "labels = dict((v,k) for k,v in labels.items())\n",
    "\n",
    "predictions = [labels[k] for k in predicted_class_indices]\n",
    "filenames=test_generator.filenames\n",
    "\n",
    "res = {filenames[i]: predictions[i] for i in range(len(filenames))}"
   ]
  },
  {
   "cell_type": "code",
   "execution_count": 11,
   "id": "b81a38ea",
   "metadata": {
    "execution": {
     "iopub.execute_input": "2022-04-13T02:28:54.436910Z",
     "iopub.status.busy": "2022-04-13T02:28:54.420570Z",
     "iopub.status.idle": "2022-04-13T02:28:54.440728Z",
     "shell.execute_reply": "2022-04-13T02:28:54.441421Z"
    },
    "papermill": {
     "duration": 17.471575,
     "end_time": "2022-04-13T02:28:54.441563",
     "exception": false,
     "start_time": "2022-04-13T02:28:36.969988",
     "status": "completed"
    },
    "tags": []
   },
   "outputs": [
    {
     "name": "stdout",
     "output_type": "stream",
     "text": [
      "[('0', 43287), ('1', 1724), ('2', 6801), ('3', 971), ('4', 791)]\n",
      "[('0', 39533), ('1', 3762), ('2', 7861), ('3', 1214), ('4', 1206)]\n"
     ]
    }
   ],
   "source": [
    "from collections import Counter\n",
    "P = Counter(predictions)\n",
    "T = Counter(test_df['level'])\n",
    "print(sorted(P.items()))\n",
    "print(sorted(T.items()))"
   ]
  },
  {
   "cell_type": "code",
   "execution_count": 12,
   "id": "b49a569d",
   "metadata": {
    "execution": {
     "iopub.execute_input": "2022-04-13T02:29:28.987529Z",
     "iopub.status.busy": "2022-04-13T02:29:28.980969Z",
     "iopub.status.idle": "2022-04-13T02:29:30.055870Z",
     "shell.execute_reply": "2022-04-13T02:29:30.055450Z"
    },
    "papermill": {
     "duration": 18.663943,
     "end_time": "2022-04-13T02:29:30.055991",
     "exception": false,
     "start_time": "2022-04-13T02:29:11.392048",
     "status": "completed"
    },
    "tags": []
   },
   "outputs": [
    {
     "name": "stdout",
     "output_type": "stream",
     "text": [
      "78.705017171868\n"
     ]
    }
   ],
   "source": [
    "correct = 0\n",
    "for i in range(len(test_df['image'])):\n",
    "    if test_df['image'][i] in res:\n",
    "        if res[test_df['image'][i]] == test_df['level'][i]:\n",
    "            correct += 1\n",
    "\n",
    "acc = (correct / len(test_df['level'])) * 100\n",
    "print(acc)"
   ]
  }
 ],
 "metadata": {
  "kernelspec": {
   "display_name": "Python 3",
   "language": "python",
   "name": "python3"
  },
  "language_info": {
   "codemirror_mode": {
    "name": "ipython",
    "version": 3
   },
   "file_extension": ".py",
   "mimetype": "text/x-python",
   "name": "python",
   "nbconvert_exporter": "python",
   "pygments_lexer": "ipython3",
   "version": "3.7.12"
  },
  "papermill": {
   "default_parameters": {},
   "duration": 14077.990983,
   "end_time": "2022-04-13T02:32:07.854549",
   "environment_variables": {},
   "exception": null,
   "input_path": "__notebook__.ipynb",
   "output_path": "__notebook__.ipynb",
   "parameters": {},
   "start_time": "2022-04-12T22:37:29.863566",
   "version": "2.3.3"
  }
 },
 "nbformat": 4,
 "nbformat_minor": 5
}
